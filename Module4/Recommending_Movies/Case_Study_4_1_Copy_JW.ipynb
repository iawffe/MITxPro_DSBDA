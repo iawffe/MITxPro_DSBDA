{
 "cells": [
  {
   "cell_type": "markdown",
   "metadata": {},
   "source": [
    "# Case Study 4.1 - Recommendation Systems\n",
    "\n",
    "First we will import the necessary modules. Make sure to download graphlab from https://turi.com/ and make sure to register for a license. You can also download it from the command prompt on Mac or Linux using 'sudo pip install graphlab-create'. You will also need to install scikit-learn, pandas, matplotlib, and numpy."
   ]
  },
  {
   "cell_type": "code",
   "execution_count": 1,
   "metadata": {},
   "outputs": [
    {
     "name": "stdout",
     "output_type": "stream",
     "text": [
      "This non-commercial license of GraphLab Create for academic use is assigned to mawhybe@gmail.com and will expire on November 24, 2018.\n"
     ]
    },
    {
     "name": "stderr",
     "output_type": "stream",
     "text": [
      "[INFO] graphlab.cython.cy_server: GraphLab Create v2.1 started. Logging: /tmp/graphlab_server_1511866358.log\n"
     ]
    }
   ],
   "source": [
    "%matplotlib inline\n",
    "%config InlineBackend.figure_format = 'retina'\n",
    "\n",
    "import sys\n",
    "import numpy as np\n",
    "import pandas as pd\n",
    "from matplotlib import pyplot as plt\n",
    "import graphlab as gl\n",
    "\n",
    "gl.canvas.set_target('ipynb')\n",
    "gl.set_runtime_config(\"GRAPHLAB_CACHE_FILE_LOCATIONS\", \"Log\") "
   ]
  },
  {
   "cell_type": "markdown",
   "metadata": {},
   "source": [
    "## Getting the Data\n",
    "For this tutorial, we use the dataset(s) provided by [MovieLens](http://grouplens.org/datasets/movielens). MovieLens has several datasets. For this tutorial, we will use the [100K dataset](http://grouplens.org/datasets/movielens/100k/). This dataset set consists of:\n",
    "- 100,000 ratings (1-5) from 943 users on 1682 movies.\n",
    "- Each user has rated at least 20 movies.\n",
    "- Simple demographic info for the users (age, gender, occupation, zip)\n",
    "\n",
    "Download the [u.data](http://files.grouplens.org/datasets/movielens/ml-100k/) file. It has the following tab-separated format: **user id | item id | rating | timestamp**. The timestamps are in Unix seconds since 1/1/1970 UTC is [EPOCH format](http://www.unixtimestamp.com/index.php)."
   ]
  },
  {
   "cell_type": "markdown",
   "metadata": {},
   "source": [
    "## Working with the Dataset \n",
    "\n",
    "We will first load the dataset into GraphLab SFrame and inspect the data. Make sure you have the data downloaded and that the 'ml-100k' folder is in the same directory as this notebook."
   ]
  },
  {
   "cell_type": "code",
   "execution_count": 2,
   "metadata": {},
   "outputs": [
    {
     "data": {
      "text/html": [
       "<pre>Finished parsing file /home/user/Module4/Recommending_Movies/ml-100k/u.data</pre>"
      ],
      "text/plain": [
       "Finished parsing file /home/user/Module4/Recommending_Movies/ml-100k/u.data"
      ]
     },
     "metadata": {},
     "output_type": "display_data"
    },
    {
     "data": {
      "text/html": [
       "<pre>Parsing completed. Parsed 100 lines in 0.267281 secs.</pre>"
      ],
      "text/plain": [
       "Parsing completed. Parsed 100 lines in 0.267281 secs."
      ]
     },
     "metadata": {},
     "output_type": "display_data"
    },
    {
     "name": "stdout",
     "output_type": "stream",
     "text": [
      "------------------------------------------------------\n",
      "Inferred types from first 100 line(s) of file as \n",
      "column_type_hints=[int,int,int,int]\n",
      "If parsing fails due to incorrect types, you can correct\n",
      "the inferred type list above and pass it to read_csv in\n",
      "the column_type_hints argument\n",
      "------------------------------------------------------\n"
     ]
    },
    {
     "data": {
      "text/html": [
       "<pre>Finished parsing file /home/user/Module4/Recommending_Movies/ml-100k/u.data</pre>"
      ],
      "text/plain": [
       "Finished parsing file /home/user/Module4/Recommending_Movies/ml-100k/u.data"
      ]
     },
     "metadata": {},
     "output_type": "display_data"
    },
    {
     "data": {
      "text/html": [
       "<pre>Parsing completed. Parsed 100000 lines in 0.178979 secs.</pre>"
      ],
      "text/plain": [
       "Parsing completed. Parsed 100000 lines in 0.178979 secs."
      ]
     },
     "metadata": {},
     "output_type": "display_data"
    },
    {
     "data": {
      "text/html": [
       "<div style=\"max-height:1000px;max-width:1500px;overflow:auto;\"><table frame=\"box\" rules=\"cols\">\n",
       "    <tr>\n",
       "        <th style=\"padding-left: 1em; padding-right: 1em; text-align: center\">user_id</th>\n",
       "        <th style=\"padding-left: 1em; padding-right: 1em; text-align: center\">item_id</th>\n",
       "        <th style=\"padding-left: 1em; padding-right: 1em; text-align: center\">rating</th>\n",
       "        <th style=\"padding-left: 1em; padding-right: 1em; text-align: center\">timestamp</th>\n",
       "    </tr>\n",
       "    <tr>\n",
       "        <td style=\"padding-left: 1em; padding-right: 1em; text-align: center; vertical-align: top\">196</td>\n",
       "        <td style=\"padding-left: 1em; padding-right: 1em; text-align: center; vertical-align: top\">242</td>\n",
       "        <td style=\"padding-left: 1em; padding-right: 1em; text-align: center; vertical-align: top\">3</td>\n",
       "        <td style=\"padding-left: 1em; padding-right: 1em; text-align: center; vertical-align: top\">881250949</td>\n",
       "    </tr>\n",
       "    <tr>\n",
       "        <td style=\"padding-left: 1em; padding-right: 1em; text-align: center; vertical-align: top\">186</td>\n",
       "        <td style=\"padding-left: 1em; padding-right: 1em; text-align: center; vertical-align: top\">302</td>\n",
       "        <td style=\"padding-left: 1em; padding-right: 1em; text-align: center; vertical-align: top\">3</td>\n",
       "        <td style=\"padding-left: 1em; padding-right: 1em; text-align: center; vertical-align: top\">891717742</td>\n",
       "    </tr>\n",
       "    <tr>\n",
       "        <td style=\"padding-left: 1em; padding-right: 1em; text-align: center; vertical-align: top\">22</td>\n",
       "        <td style=\"padding-left: 1em; padding-right: 1em; text-align: center; vertical-align: top\">377</td>\n",
       "        <td style=\"padding-left: 1em; padding-right: 1em; text-align: center; vertical-align: top\">1</td>\n",
       "        <td style=\"padding-left: 1em; padding-right: 1em; text-align: center; vertical-align: top\">878887116</td>\n",
       "    </tr>\n",
       "    <tr>\n",
       "        <td style=\"padding-left: 1em; padding-right: 1em; text-align: center; vertical-align: top\">244</td>\n",
       "        <td style=\"padding-left: 1em; padding-right: 1em; text-align: center; vertical-align: top\">51</td>\n",
       "        <td style=\"padding-left: 1em; padding-right: 1em; text-align: center; vertical-align: top\">2</td>\n",
       "        <td style=\"padding-left: 1em; padding-right: 1em; text-align: center; vertical-align: top\">880606923</td>\n",
       "    </tr>\n",
       "    <tr>\n",
       "        <td style=\"padding-left: 1em; padding-right: 1em; text-align: center; vertical-align: top\">166</td>\n",
       "        <td style=\"padding-left: 1em; padding-right: 1em; text-align: center; vertical-align: top\">346</td>\n",
       "        <td style=\"padding-left: 1em; padding-right: 1em; text-align: center; vertical-align: top\">1</td>\n",
       "        <td style=\"padding-left: 1em; padding-right: 1em; text-align: center; vertical-align: top\">886397596</td>\n",
       "    </tr>\n",
       "    <tr>\n",
       "        <td style=\"padding-left: 1em; padding-right: 1em; text-align: center; vertical-align: top\">298</td>\n",
       "        <td style=\"padding-left: 1em; padding-right: 1em; text-align: center; vertical-align: top\">474</td>\n",
       "        <td style=\"padding-left: 1em; padding-right: 1em; text-align: center; vertical-align: top\">4</td>\n",
       "        <td style=\"padding-left: 1em; padding-right: 1em; text-align: center; vertical-align: top\">884182806</td>\n",
       "    </tr>\n",
       "    <tr>\n",
       "        <td style=\"padding-left: 1em; padding-right: 1em; text-align: center; vertical-align: top\">115</td>\n",
       "        <td style=\"padding-left: 1em; padding-right: 1em; text-align: center; vertical-align: top\">265</td>\n",
       "        <td style=\"padding-left: 1em; padding-right: 1em; text-align: center; vertical-align: top\">2</td>\n",
       "        <td style=\"padding-left: 1em; padding-right: 1em; text-align: center; vertical-align: top\">881171488</td>\n",
       "    </tr>\n",
       "    <tr>\n",
       "        <td style=\"padding-left: 1em; padding-right: 1em; text-align: center; vertical-align: top\">253</td>\n",
       "        <td style=\"padding-left: 1em; padding-right: 1em; text-align: center; vertical-align: top\">465</td>\n",
       "        <td style=\"padding-left: 1em; padding-right: 1em; text-align: center; vertical-align: top\">5</td>\n",
       "        <td style=\"padding-left: 1em; padding-right: 1em; text-align: center; vertical-align: top\">891628467</td>\n",
       "    </tr>\n",
       "    <tr>\n",
       "        <td style=\"padding-left: 1em; padding-right: 1em; text-align: center; vertical-align: top\">305</td>\n",
       "        <td style=\"padding-left: 1em; padding-right: 1em; text-align: center; vertical-align: top\">451</td>\n",
       "        <td style=\"padding-left: 1em; padding-right: 1em; text-align: center; vertical-align: top\">3</td>\n",
       "        <td style=\"padding-left: 1em; padding-right: 1em; text-align: center; vertical-align: top\">886324817</td>\n",
       "    </tr>\n",
       "    <tr>\n",
       "        <td style=\"padding-left: 1em; padding-right: 1em; text-align: center; vertical-align: top\">6</td>\n",
       "        <td style=\"padding-left: 1em; padding-right: 1em; text-align: center; vertical-align: top\">86</td>\n",
       "        <td style=\"padding-left: 1em; padding-right: 1em; text-align: center; vertical-align: top\">3</td>\n",
       "        <td style=\"padding-left: 1em; padding-right: 1em; text-align: center; vertical-align: top\">883603013</td>\n",
       "    </tr>\n",
       "</table>\n",
       "[100000 rows x 4 columns]<br/>Note: Only the head of the SFrame is printed.<br/>You can use print_rows(num_rows=m, num_columns=n) to print more rows and columns.\n",
       "</div>"
      ],
      "text/plain": [
       "Columns:\n",
       "\tuser_id\tint\n",
       "\titem_id\tint\n",
       "\trating\tint\n",
       "\ttimestamp\tint\n",
       "\n",
       "Rows: 100000\n",
       "\n",
       "Data:\n",
       "+---------+---------+--------+-----------+\n",
       "| user_id | item_id | rating | timestamp |\n",
       "+---------+---------+--------+-----------+\n",
       "|   196   |   242   |   3    | 881250949 |\n",
       "|   186   |   302   |   3    | 891717742 |\n",
       "|    22   |   377   |   1    | 878887116 |\n",
       "|   244   |    51   |   2    | 880606923 |\n",
       "|   166   |   346   |   1    | 886397596 |\n",
       "|   298   |   474   |   4    | 884182806 |\n",
       "|   115   |   265   |   2    | 881171488 |\n",
       "|   253   |   465   |   5    | 891628467 |\n",
       "|   305   |   451   |   3    | 886324817 |\n",
       "|    6    |    86   |   3    | 883603013 |\n",
       "+---------+---------+--------+-----------+\n",
       "[100000 rows x 4 columns]\n",
       "Note: Only the head of the SFrame is printed.\n",
       "You can use print_rows(num_rows=m, num_columns=n) to print more rows and columns."
      ]
     },
     "execution_count": 2,
     "metadata": {},
     "output_type": "execute_result"
    }
   ],
   "source": [
    "sframe = gl.SFrame.read_csv('ml-100k/u.data', header=False, delimiter='\\t')\n",
    "sframe.rename({'X1':'user_id', 'X2':'item_id', 'X3':'rating', 'X4':'timestamp'})\n",
    "sframe"
   ]
  },
  {
   "cell_type": "code",
   "execution_count": 3,
   "metadata": {},
   "outputs": [
    {
     "data": {
      "application/javascript": [
       "$(\"head\").append($(\"<link/>\").attr({\n",
       "  rel:  \"stylesheet\",\n",
       "  type: \"text/css\",\n",
       "  href: \"//cdnjs.cloudflare.com/ajax/libs/font-awesome/4.1.0/css/font-awesome.min.css\"\n",
       "}));\n",
       "$(\"head\").append($(\"<link/>\").attr({\n",
       "  rel:  \"stylesheet\",\n",
       "  type: \"text/css\",\n",
       "  href: \"https://static.turi.com/products/graphlab-create/2.1/canvas/css/canvas.css\"\n",
       "}));\n",
       "\n",
       "            (function(){\n",
       "\n",
       "                var e = null;\n",
       "                if (typeof element == 'undefined') {\n",
       "                    var scripts = document.getElementsByTagName('script');\n",
       "                    var thisScriptTag = scripts[scripts.length-1];\n",
       "                    var parentDiv = thisScriptTag.parentNode;\n",
       "                    e = document.createElement('div');\n",
       "                    parentDiv.appendChild(e);\n",
       "                } else {\n",
       "                    e = element[0];\n",
       "                }\n",
       "\n",
       "                if (typeof requirejs !== 'undefined') {\n",
       "                    // disable load timeout; ipython_app.js is large and can take a while to load.\n",
       "                    requirejs.config({waitSeconds: 0});\n",
       "                }\n",
       "\n",
       "                require(['https://static.turi.com/products/graphlab-create/2.1/canvas/js/ipython_app.js'], function(IPythonApp){\n",
       "                    var app = new IPythonApp();\n",
       "                    app.attachView('sframe','Summary', {\"ipython\": true, \"sketch\": {\"item_id\": {\"std\": 330.7967023296682, \"complete\": true, \"min\": 1.0, \"max\": 1682.0, \"quantile\": [1.0, 7.0, 10.0, 15.0, 24.0, 31.0, 45.0, 51.0, 58.0, 66.0, 71.0, 80.0, 88.0, 94.0, 98.0, 105.0, 117.0, 121.0, 127.0, 134.0, 143.0, 150.0, 156.0, 164.0, 172.0, 175.0, 180.0, 183.0, 187.0, 194.0, 198.0, 204.0, 209.0, 215.0, 222.0, 228.0, 234.0, 238.0, 246.0, 255.0, 259.0, 269.0, 273.0, 280.0, 286.0, 288.0, 294.0, 300.0, 306.0, 315.0, 322.0, 327.0, 334.0, 348.0, 366.0, 383.0, 399.0, 406.0, 418.0, 427.0, 434.0, 450.0, 465.0, 474.0, 480.0, 490.0, 501.0, 511.0, 520.0, 529.0, 546.0, 564.0, 580.0, 596.0, 611.0, 631.0, 651.0, 659.0, 676.0, 687.0, 704.0, 721.0, 738.0, 748.0, 760.0, 781.0, 815.0, 844.0, 873.0, 895.0, 928.0, 952.0, 988.0, 1016.0, 1042.0, 1074.0, 1126.0, 1190.0, 1252.0, 1399.0, 1682.0], \"median\": 322.0, \"numeric\": true, \"num_unique\": 1681, \"num_undefined\": 0, \"var\": 109426.45827218311, \"progress\": 1.0, \"size\": 100000, \"frequent_items\": {\"1\": {\"frequency\": 452, \"value\": 1}, \"2\": {\"frequency\": 131, \"value\": 2}, \"3\": {\"frequency\": 90, \"value\": 3}, \"4\": {\"frequency\": 209, \"value\": 4}, \"5\": {\"frequency\": 86, \"value\": 5}, \"6\": {\"frequency\": 26, \"value\": 6}, \"7\": {\"frequency\": 392, \"value\": 7}, \"8\": {\"frequency\": 219, \"value\": 8}, \"9\": {\"frequency\": 299, \"value\": 9}, \"10\": {\"frequency\": 89, \"value\": 10}, \"11\": {\"frequency\": 236, \"value\": 11}, \"12\": {\"frequency\": 267, \"value\": 12}, \"13\": {\"frequency\": 184, \"value\": 13}, \"14\": {\"frequency\": 183, \"value\": 14}, \"15\": {\"frequency\": 293, \"value\": 15}, \"16\": {\"frequency\": 39, \"value\": 16}, \"17\": {\"frequency\": 92, \"value\": 17}, \"18\": {\"frequency\": 10, \"value\": 18}, \"19\": {\"frequency\": 69, \"value\": 19}, \"20\": {\"frequency\": 72, \"value\": 20}, \"21\": {\"frequency\": 84, \"value\": 21}, \"22\": {\"frequency\": 297, \"value\": 22}, \"23\": {\"frequency\": 182, \"value\": 23}, \"24\": {\"frequency\": 174, \"value\": 24}, \"25\": {\"frequency\": 293, \"value\": 25}, \"26\": {\"frequency\": 73, \"value\": 26}, \"27\": {\"frequency\": 57, \"value\": 27}, \"28\": {\"frequency\": 276, \"value\": 28}, \"29\": {\"frequency\": 114, \"value\": 29}, \"30\": {\"frequency\": 37, \"value\": 30}, \"31\": {\"frequency\": 154, \"value\": 31}, \"32\": {\"frequency\": 81, \"value\": 32}, \"33\": {\"frequency\": 97, \"value\": 33}, \"34\": {\"frequency\": 7, \"value\": 34}, \"35\": {\"frequency\": 11, \"value\": 35}, \"36\": {\"frequency\": 13, \"value\": 36}, \"37\": {\"frequency\": 8, \"value\": 37}, \"38\": {\"frequency\": 120, \"value\": 38}, \"39\": {\"frequency\": 87, \"value\": 39}, \"40\": {\"frequency\": 57, \"value\": 40}, \"41\": {\"frequency\": 37, \"value\": 41}, \"42\": {\"frequency\": 148, \"value\": 42}, \"43\": {\"frequency\": 40, \"value\": 43}, \"44\": {\"frequency\": 79, \"value\": 44}, \"45\": {\"frequency\": 80, \"value\": 45}, \"46\": {\"frequency\": 27, \"value\": 46}, \"47\": {\"frequency\": 133, \"value\": 47}, \"48\": {\"frequency\": 117, \"value\": 48}, \"49\": {\"frequency\": 81, \"value\": 49}, \"50\": {\"frequency\": 583, \"value\": 50}, \"51\": {\"frequency\": 81, \"value\": 51}, \"52\": {\"frequency\": 91, \"value\": 52}, \"53\": {\"frequency\": 128, \"value\": 53}, \"54\": {\"frequency\": 104, \"value\": 54}, \"55\": {\"frequency\": 149, \"value\": 55}, \"56\": {\"frequency\": 394, \"value\": 56}, \"57\": {\"frequency\": 40, \"value\": 57}, \"58\": {\"frequency\": 175, \"value\": 58}, \"59\": {\"frequency\": 83, \"value\": 59}, \"60\": {\"frequency\": 64, \"value\": 60}, \"61\": {\"frequency\": 59, \"value\": 61}, \"62\": {\"frequency\": 127, \"value\": 62}, \"63\": {\"frequency\": 82, \"value\": 63}, \"64\": {\"frequency\": 283, \"value\": 64}, \"65\": {\"frequency\": 115, \"value\": 65}, \"66\": {\"frequency\": 162, \"value\": 66}, \"67\": {\"frequency\": 103, \"value\": 67}, \"68\": {\"frequency\": 134, \"value\": 68}, \"69\": {\"frequency\": 321, \"value\": 69}, \"70\": {\"frequency\": 251, \"value\": 70}, \"71\": {\"frequency\": 220, \"value\": 71}, \"72\": {\"frequency\": 129, \"value\": 72}, \"73\": {\"frequency\": 128, \"value\": 73}, \"74\": {\"frequency\": 7, \"value\": 74}, \"75\": {\"frequency\": 5, \"value\": 75}, \"76\": {\"frequency\": 54, \"value\": 76}, \"77\": {\"frequency\": 151, \"value\": 77}, \"78\": {\"frequency\": 33, \"value\": 78}, \"79\": {\"frequency\": 336, \"value\": 79}, \"80\": {\"frequency\": 68, \"value\": 80}, \"81\": {\"frequency\": 110, \"value\": 81}, \"82\": {\"frequency\": 261, \"value\": 82}, \"83\": {\"frequency\": 176, \"value\": 83}, \"84\": {\"frequency\": 18, \"value\": 84}, \"85\": {\"frequency\": 58, \"value\": 85}, \"86\": {\"frequency\": 150, \"value\": 86}, \"87\": {\"frequency\": 138, \"value\": 87}, \"88\": {\"frequency\": 213, \"value\": 88}, \"89\": {\"frequency\": 275, \"value\": 89}, \"90\": {\"frequency\": 95, \"value\": 90}, \"91\": {\"frequency\": 143, \"value\": 91}, \"92\": {\"frequency\": 104, \"value\": 92}, \"93\": {\"frequency\": 112, \"value\": 93}, \"94\": {\"frequency\": 137, \"value\": 94}, \"95\": {\"frequency\": 219, \"value\": 95}, \"96\": {\"frequency\": 295, \"value\": 96}, \"97\": {\"frequency\": 256, \"value\": 97}, \"98\": {\"frequency\": 390, \"value\": 98}, \"99\": {\"frequency\": 172, \"value\": 99}, \"100\": {\"frequency\": 508, \"value\": 100}, \"101\": {\"frequency\": 73, \"value\": 101}, \"102\": {\"frequency\": 54, \"value\": 102}, \"103\": {\"frequency\": 15, \"value\": 103}, \"104\": {\"frequency\": 5, \"value\": 104}, \"105\": {\"frequency\": 74, \"value\": 105}, \"106\": {\"frequency\": 71, \"value\": 106}, \"107\": {\"frequency\": 42, \"value\": 107}, \"108\": {\"frequency\": 65, \"value\": 108}, \"109\": {\"frequency\": 130, \"value\": 109}, \"110\": {\"frequency\": 31, \"value\": 110}, \"111\": {\"frequency\": 272, \"value\": 111}, \"112\": {\"frequency\": 20, \"value\": 112}, \"113\": {\"frequency\": 9, \"value\": 113}, \"114\": {\"frequency\": 67, \"value\": 114}, \"115\": {\"frequency\": 15, \"value\": 115}, \"116\": {\"frequency\": 125, \"value\": 116}, \"117\": {\"frequency\": 378, \"value\": 117}, \"118\": {\"frequency\": 293, \"value\": 118}, \"119\": {\"frequency\": 4, \"value\": 119}, \"120\": {\"frequency\": 67, \"value\": 120}, \"121\": {\"frequency\": 429, \"value\": 121}, \"122\": {\"frequency\": 106, \"value\": 122}, \"123\": {\"frequency\": 115, \"value\": 123}, \"124\": {\"frequency\": 187, \"value\": 124}, \"125\": {\"frequency\": 244, \"value\": 125}, \"126\": {\"frequency\": 97, \"value\": 126}, \"127\": {\"frequency\": 413, \"value\": 127}, \"128\": {\"frequency\": 65, \"value\": 128}, \"129\": {\"frequency\": 129, \"value\": 129}, \"130\": {\"frequency\": 23, \"value\": 130}, \"131\": {\"frequency\": 95, \"value\": 131}, \"132\": {\"frequency\": 246, \"value\": 132}, \"133\": {\"frequency\": 171, \"value\": 133}, \"134\": {\"frequency\": 198, \"value\": 134}, \"135\": {\"frequency\": 259, \"value\": 135}, \"136\": {\"frequency\": 105, \"value\": 136}, \"137\": {\"frequency\": 171, \"value\": 137}, \"138\": {\"frequency\": 19, \"value\": 138}, \"139\": {\"frequency\": 50, \"value\": 139}, \"140\": {\"frequency\": 61, \"value\": 140}, \"141\": {\"frequency\": 72, \"value\": 141}, \"142\": {\"frequency\": 57, \"value\": 142}, \"143\": {\"frequency\": 222, \"value\": 143}, \"144\": {\"frequency\": 243, \"value\": 144}, \"145\": {\"frequency\": 65, \"value\": 145}, \"146\": {\"frequency\": 10, \"value\": 146}, \"147\": {\"frequency\": 185, \"value\": 147}, \"148\": {\"frequency\": 128, \"value\": 148}, \"149\": {\"frequency\": 23, \"value\": 149}, \"150\": {\"frequency\": 157, \"value\": 150}, \"151\": {\"frequency\": 326, \"value\": 151}, \"152\": {\"frequency\": 82, \"value\": 152}, \"153\": {\"frequency\": 247, \"value\": 153}, \"154\": {\"frequency\": 174, \"value\": 154}, \"155\": {\"frequency\": 98, \"value\": 155}, \"156\": {\"frequency\": 148, \"value\": 156}, \"157\": {\"frequency\": 127, \"value\": 157}, \"158\": {\"frequency\": 60, \"value\": 158}, \"159\": {\"frequency\": 101, \"value\": 159}, \"160\": {\"frequency\": 69, \"value\": 160}, \"161\": {\"frequency\": 220, \"value\": 161}, \"162\": {\"frequency\": 106, \"value\": 162}, \"163\": {\"frequency\": 92, \"value\": 163}, \"164\": {\"frequency\": 151, \"value\": 164}, \"165\": {\"frequency\": 64, \"value\": 165}, \"166\": {\"frequency\": 58, \"value\": 166}, \"167\": {\"frequency\": 67, \"value\": 167}, \"168\": {\"frequency\": 316, \"value\": 168}, \"169\": {\"frequency\": 118, \"value\": 169}, \"170\": {\"frequency\": 121, \"value\": 170}, \"171\": {\"frequency\": 65, \"value\": 171}, \"172\": {\"frequency\": 367, \"value\": 172}, \"173\": {\"frequency\": 324, \"value\": 173}, \"174\": {\"frequency\": 420, \"value\": 174}, \"175\": {\"frequency\": 208, \"value\": 175}, \"176\": {\"frequency\": 284, \"value\": 176}, \"177\": {\"frequency\": 137, \"value\": 177}, \"178\": {\"frequency\": 125, \"value\": 178}, \"179\": {\"frequency\": 221, \"value\": 179}, \"180\": {\"frequency\": 221, \"value\": 180}, \"181\": {\"frequency\": 507, \"value\": 181}, \"182\": {\"frequency\": 226, \"value\": 182}, \"183\": {\"frequency\": 291, \"value\": 183}, \"184\": {\"frequency\": 116, \"value\": 184}, \"185\": {\"frequency\": 239, \"value\": 185}, \"186\": {\"frequency\": 251, \"value\": 186}, \"187\": {\"frequency\": 209, \"value\": 187}, \"188\": {\"frequency\": 170, \"value\": 188}, \"189\": {\"frequency\": 66, \"value\": 189}, \"190\": {\"frequency\": 124, \"value\": 190}, \"191\": {\"frequency\": 276, \"value\": 191}, \"192\": {\"frequency\": 116, \"value\": 192}, \"193\": {\"frequency\": 157, \"value\": 193}, \"194\": {\"frequency\": 241, \"value\": 194}, \"195\": {\"frequency\": 301, \"value\": 195}, \"196\": {\"frequency\": 251, \"value\": 196}, \"197\": {\"frequency\": 239, \"value\": 197}, \"198\": {\"frequency\": 127, \"value\": 198}, \"199\": {\"frequency\": 165, \"value\": 199}, \"200\": {\"frequency\": 206, \"value\": 200}, \"201\": {\"frequency\": 89, \"value\": 201}, \"202\": {\"frequency\": 280, \"value\": 202}, \"203\": {\"frequency\": 182, \"value\": 203}, \"204\": {\"frequency\": 350, \"value\": 204}, \"205\": {\"frequency\": 136, \"value\": 205}, \"206\": {\"frequency\": 50, \"value\": 206}, \"207\": {\"frequency\": 66, \"value\": 207}, \"208\": {\"frequency\": 200, \"value\": 208}, \"209\": {\"frequency\": 191, \"value\": 209}, \"210\": {\"frequency\": 331, \"value\": 210}, \"211\": {\"frequency\": 206, \"value\": 211}, \"212\": {\"frequency\": 92, \"value\": 212}, \"213\": {\"frequency\": 134, \"value\": 213}, \"214\": {\"frequency\": 114, \"value\": 214}, \"215\": {\"frequency\": 212, \"value\": 215}, \"216\": {\"frequency\": 290, \"value\": 216}, \"217\": {\"frequency\": 120, \"value\": 217}, \"218\": {\"frequency\": 171, \"value\": 218}, \"219\": {\"frequency\": 111, \"value\": 219}, \"220\": {\"frequency\": 66, \"value\": 220}, \"221\": {\"frequency\": 74, \"value\": 221}, \"222\": {\"frequency\": 365, \"value\": 222}, \"223\": {\"frequency\": 136, \"value\": 223}, \"224\": {\"frequency\": 44, \"value\": 224}, \"225\": {\"frequency\": 109, \"value\": 225}, \"226\": {\"frequency\": 166, \"value\": 226}, \"227\": {\"frequency\": 161, \"value\": 227}, \"228\": {\"frequency\": 244, \"value\": 228}, \"229\": {\"frequency\": 171, \"value\": 229}, \"230\": {\"frequency\": 199, \"value\": 230}, \"231\": {\"frequency\": 142, \"value\": 231}, \"232\": {\"frequency\": 101, \"value\": 232}, \"233\": {\"frequency\": 124, \"value\": 233}, \"234\": {\"frequency\": 280, \"value\": 234}, \"235\": {\"frequency\": 217, \"value\": 235}, \"236\": {\"frequency\": 45, \"value\": 236}, \"237\": {\"frequency\": 384, \"value\": 237}, \"238\": {\"frequency\": 256, \"value\": 238}, \"239\": {\"frequency\": 150, \"value\": 239}, \"240\": {\"frequency\": 156, \"value\": 240}, \"241\": {\"frequency\": 128, \"value\": 241}, \"242\": {\"frequency\": 117, \"value\": 242}, \"243\": {\"frequency\": 132, \"value\": 243}, \"244\": {\"frequency\": 48, \"value\": 244}, \"245\": {\"frequency\": 240, \"value\": 245}, \"246\": {\"frequency\": 124, \"value\": 246}, \"247\": {\"frequency\": 5, \"value\": 247}, \"248\": {\"frequency\": 160, \"value\": 248}, \"249\": {\"frequency\": 130, \"value\": 249}, \"250\": {\"frequency\": 197, \"value\": 250}, \"251\": {\"frequency\": 46, \"value\": 251}, \"252\": {\"frequency\": 158, \"value\": 252}, \"253\": {\"frequency\": 26, \"value\": 253}, \"254\": {\"frequency\": 62, \"value\": 254}, \"255\": {\"frequency\": 172, \"value\": 255}, \"256\": {\"frequency\": 16, \"value\": 256}, \"257\": {\"frequency\": 303, \"value\": 257}, \"258\": {\"frequency\": 509, \"value\": 258}, \"259\": {\"frequency\": 162, \"value\": 259}, \"260\": {\"frequency\": 127, \"value\": 260}, \"261\": {\"frequency\": 43, \"value\": 261}, \"262\": {\"frequency\": 66, \"value\": 262}, \"263\": {\"frequency\": 19, \"value\": 263}, \"264\": {\"frequency\": 101, \"value\": 264}, \"265\": {\"frequency\": 227, \"value\": 265}, \"266\": {\"frequency\": 35, \"value\": 266}, \"267\": {\"frequency\": 9, \"value\": 267}, \"268\": {\"frequency\": 255, \"value\": 268}, \"269\": {\"frequency\": 315, \"value\": 269}, \"270\": {\"frequency\": 136, \"value\": 270}, \"271\": {\"frequency\": 211, \"value\": 271}, \"272\": {\"frequency\": 198, \"value\": 272}, \"273\": {\"frequency\": 223, \"value\": 273}, \"274\": {\"frequency\": 190, \"value\": 274}, \"275\": {\"frequency\": 268, \"value\": 275}, \"276\": {\"frequency\": 298, \"value\": 276}, \"277\": {\"frequency\": 71, \"value\": 277}, \"278\": {\"frequency\": 60, \"value\": 278}, \"279\": {\"frequency\": 28, \"value\": 279}, \"280\": {\"frequency\": 85, \"value\": 280}, \"281\": {\"frequency\": 146, \"value\": 281}, \"282\": {\"frequency\": 232, \"value\": 282}, \"283\": {\"frequency\": 177, \"value\": 283}, \"284\": {\"frequency\": 193, \"value\": 284}, \"285\": {\"frequency\": 162, \"value\": 285}, \"286\": {\"frequency\": 481, \"value\": 286}, \"287\": {\"frequency\": 78, \"value\": 287}, \"288\": {\"frequency\": 478, \"value\": 288}, \"289\": {\"frequency\": 259, \"value\": 289}, \"290\": {\"frequency\": 96, \"value\": 290}, \"291\": {\"frequency\": 127, \"value\": 291}, \"292\": {\"frequency\": 114, \"value\": 292}, \"293\": {\"frequency\": 147, \"value\": 293}, \"294\": {\"frequency\": 485, \"value\": 294}, \"295\": {\"frequency\": 77, \"value\": 295}, \"296\": {\"frequency\": 6, \"value\": 296}, \"297\": {\"frequency\": 50, \"value\": 297}, \"298\": {\"frequency\": 194, \"value\": 298}, \"299\": {\"frequency\": 73, \"value\": 299}, \"300\": {\"frequency\": 431, \"value\": 300}, \"301\": {\"frequency\": 230, \"value\": 301}, \"302\": {\"frequency\": 297, \"value\": 302}, \"303\": {\"frequency\": 134, \"value\": 303}, \"304\": {\"frequency\": 149, \"value\": 304}, \"305\": {\"frequency\": 87, \"value\": 305}, \"306\": {\"frequency\": 96, \"value\": 306}, \"307\": {\"frequency\": 188, \"value\": 307}, \"308\": {\"frequency\": 30, \"value\": 308}, \"309\": {\"frequency\": 28, \"value\": 309}, \"310\": {\"frequency\": 145, \"value\": 310}, \"311\": {\"frequency\": 75, \"value\": 311}, \"312\": {\"frequency\": 80, \"value\": 312}, \"313\": {\"frequency\": 350, \"value\": 313}, \"314\": {\"frequency\": 5, \"value\": 314}, \"315\": {\"frequency\": 160, \"value\": 315}, \"316\": {\"frequency\": 112, \"value\": 316}, \"317\": {\"frequency\": 102, \"value\": 317}, \"318\": {\"frequency\": 298, \"value\": 318}, \"319\": {\"frequency\": 168, \"value\": 319}, \"320\": {\"frequency\": 20, \"value\": 320}, \"321\": {\"frequency\": 169, \"value\": 321}, \"322\": {\"frequency\": 218, \"value\": 322}, \"323\": {\"frequency\": 240, \"value\": 323}, \"324\": {\"frequency\": 125, \"value\": 324}, \"325\": {\"frequency\": 128, \"value\": 325}, \"326\": {\"frequency\": 175, \"value\": 326}, \"327\": {\"frequency\": 175, \"value\": 327}, \"328\": {\"frequency\": 295, \"value\": 328}, \"329\": {\"frequency\": 45, \"value\": 329}, \"330\": {\"frequency\": 41, \"value\": 330}, \"331\": {\"frequency\": 113, \"value\": 331}, \"332\": {\"frequency\": 143, \"value\": 332}, \"333\": {\"frequency\": 251, \"value\": 333}, \"334\": {\"frequency\": 64, \"value\": 334}, \"335\": {\"frequency\": 21, \"value\": 335}, \"336\": {\"frequency\": 43, \"value\": 336}, \"337\": {\"frequency\": 18, \"value\": 337}, \"338\": {\"frequency\": 91, \"value\": 338}, \"339\": {\"frequency\": 47, \"value\": 339}, \"340\": {\"frequency\": 189, \"value\": 340}, \"341\": {\"frequency\": 11, \"value\": 341}, \"342\": {\"frequency\": 52, \"value\": 342}, \"343\": {\"frequency\": 124, \"value\": 343}, \"344\": {\"frequency\": 55, \"value\": 344}, \"345\": {\"frequency\": 65, \"value\": 345}, \"346\": {\"frequency\": 126, \"value\": 346}, \"347\": {\"frequency\": 137, \"value\": 347}, \"348\": {\"frequency\": 27, \"value\": 348}, \"349\": {\"frequency\": 31, \"value\": 349}, \"350\": {\"frequency\": 41, \"value\": 350}, \"351\": {\"frequency\": 20, \"value\": 351}, \"352\": {\"frequency\": 26, \"value\": 352}, \"353\": {\"frequency\": 14, \"value\": 353}, \"354\": {\"frequency\": 72, \"value\": 354}, \"355\": {\"frequency\": 41, \"value\": 355}, \"356\": {\"frequency\": 97, \"value\": 356}, \"357\": {\"frequency\": 264, \"value\": 357}, \"358\": {\"frequency\": 143, \"value\": 358}, \"359\": {\"frequency\": 18, \"value\": 359}, \"360\": {\"frequency\": 10, \"value\": 360}, \"361\": {\"frequency\": 10, \"value\": 361}, \"362\": {\"frequency\": 28, \"value\": 362}, \"363\": {\"frequency\": 47, \"value\": 363}, \"364\": {\"frequency\": 37, \"value\": 364}, \"365\": {\"frequency\": 48, \"value\": 365}, \"366\": {\"frequency\": 47, \"value\": 366}, \"367\": {\"frequency\": 170, \"value\": 367}, \"368\": {\"frequency\": 31, \"value\": 368}, \"369\": {\"frequency\": 55, \"value\": 369}, \"370\": {\"frequency\": 39, \"value\": 370}, \"371\": {\"frequency\": 67, \"value\": 371}, \"372\": {\"frequency\": 34, \"value\": 372}, \"373\": {\"frequency\": 39, \"value\": 373}, \"374\": {\"frequency\": 11, \"value\": 374}, \"375\": {\"frequency\": 23, \"value\": 375}, \"376\": {\"frequency\": 24, \"value\": 376}, \"377\": {\"frequency\": 13, \"value\": 377}, \"378\": {\"frequency\": 101, \"value\": 378}, \"379\": {\"frequency\": 43, \"value\": 379}, \"380\": {\"frequency\": 116, \"value\": 380}, \"381\": {\"frequency\": 100, \"value\": 381}, \"382\": {\"frequency\": 111, \"value\": 382}, \"383\": {\"frequency\": 31, \"value\": 383}, \"384\": {\"frequency\": 69, \"value\": 384}, \"385\": {\"frequency\": 208, \"value\": 385}, \"386\": {\"frequency\": 87, \"value\": 386}, \"387\": {\"frequency\": 65, \"value\": 387}, \"388\": {\"frequency\": 28, \"value\": 388}, \"389\": {\"frequency\": 27, \"value\": 389}, \"390\": {\"frequency\": 10, \"value\": 390}, \"391\": {\"frequency\": 59, \"value\": 391}, \"392\": {\"frequency\": 68, \"value\": 392}, \"393\": {\"frequency\": 192, \"value\": 393}, \"394\": {\"frequency\": 12, \"value\": 394}, \"395\": {\"frequency\": 56, \"value\": 395}, \"396\": {\"frequency\": 54, \"value\": 396}, \"397\": {\"frequency\": 12, \"value\": 397}, \"398\": {\"frequency\": 26, \"value\": 398}, \"399\": {\"frequency\": 89, \"value\": 399}, \"400\": {\"frequency\": 18, \"value\": 400}, \"401\": {\"frequency\": 76, \"value\": 401}, \"402\": {\"frequency\": 170, \"value\": 402}, \"403\": {\"frequency\": 201, \"value\": 403}, \"404\": {\"frequency\": 101, \"value\": 404}, \"405\": {\"frequency\": 344, \"value\": 405}, \"406\": {\"frequency\": 49, \"value\": 406}, \"407\": {\"frequency\": 43, \"value\": 407}, \"408\": {\"frequency\": 112, \"value\": 408}, \"409\": {\"frequency\": 70, \"value\": 409}, \"410\": {\"frequency\": 162, \"value\": 410}, \"411\": {\"frequency\": 163, \"value\": 411}, \"412\": {\"frequency\": 93, \"value\": 412}, \"413\": {\"frequency\": 55, \"value\": 413}, \"414\": {\"frequency\": 62, \"value\": 414}, \"415\": {\"frequency\": 25, \"value\": 415}, \"416\": {\"frequency\": 64, \"value\": 416}, \"417\": {\"frequency\": 73, \"value\": 417}, \"418\": {\"frequency\": 129, \"value\": 418}, \"419\": {\"frequency\": 178, \"value\": 419}, \"420\": {\"frequency\": 81, \"value\": 420}, \"421\": {\"frequency\": 106, \"value\": 421}, \"422\": {\"frequency\": 26, \"value\": 422}, \"423\": {\"frequency\": 300, \"value\": 423}, \"424\": {\"frequency\": 19, \"value\": 424}, \"425\": {\"frequency\": 85, \"value\": 425}, \"426\": {\"frequency\": 32, \"value\": 426}, \"427\": {\"frequency\": 219, \"value\": 427}, \"428\": {\"frequency\": 121, \"value\": 428}, \"429\": {\"frequency\": 97, \"value\": 429}, \"430\": {\"frequency\": 93, \"value\": 430}, \"431\": {\"frequency\": 153, \"value\": 431}, \"432\": {\"frequency\": 174, \"value\": 432}, \"433\": {\"frequency\": 171, \"value\": 433}, \"434\": {\"frequency\": 67, \"value\": 434}, \"435\": {\"frequency\": 216, \"value\": 435}, \"436\": {\"frequency\": 99, \"value\": 436}, \"437\": {\"frequency\": 5, \"value\": 437}, \"438\": {\"frequency\": 6, \"value\": 438}, \"439\": {\"frequency\": 5, \"value\": 439}, \"440\": {\"frequency\": 14, \"value\": 440}, \"441\": {\"frequency\": 53, \"value\": 441}, \"442\": {\"frequency\": 4, \"value\": 442}, \"443\": {\"frequency\": 162, \"value\": 443}, \"444\": {\"frequency\": 46, \"value\": 444}, \"445\": {\"frequency\": 22, \"value\": 445}, \"446\": {\"frequency\": 9, \"value\": 446}, \"447\": {\"frequency\": 121, \"value\": 447}, \"448\": {\"frequency\": 85, \"value\": 448}, \"449\": {\"frequency\": 117, \"value\": 449}, \"450\": {\"frequency\": 63, \"value\": 450}, \"451\": {\"frequency\": 170, \"value\": 451}, \"452\": {\"frequency\": 66, \"value\": 452}, \"453\": {\"frequency\": 16, \"value\": 453}, \"454\": {\"frequency\": 16, \"value\": 454}, \"455\": {\"frequency\": 145, \"value\": 455}, \"456\": {\"frequency\": 48, \"value\": 456}, \"457\": {\"frequency\": 27, \"value\": 457}, \"458\": {\"frequency\": 90, \"value\": 458}, \"459\": {\"frequency\": 24, \"value\": 459}, \"460\": {\"frequency\": 28, \"value\": 460}, \"461\": {\"frequency\": 74, \"value\": 461}, \"462\": {\"frequency\": 148, \"value\": 462}, \"463\": {\"frequency\": 71, \"value\": 463}, \"464\": {\"frequency\": 27, \"value\": 464}, \"465\": {\"frequency\": 85, \"value\": 465}, \"466\": {\"frequency\": 52, \"value\": 466}, \"467\": {\"frequency\": 48, \"value\": 467}, \"468\": {\"frequency\": 64, \"value\": 468}, \"469\": {\"frequency\": 67, \"value\": 469}, \"470\": {\"frequency\": 108, \"value\": 470}, \"471\": {\"frequency\": 221, \"value\": 471}, \"472\": {\"frequency\": 158, \"value\": 472}, \"473\": {\"frequency\": 126, \"value\": 473}, \"474\": {\"frequency\": 194, \"value\": 474}, \"475\": {\"frequency\": 250, \"value\": 475}, \"476\": {\"frequency\": 160, \"value\": 476}, \"477\": {\"frequency\": 95, \"value\": 477}, \"478\": {\"frequency\": 104, \"value\": 478}, \"479\": {\"frequency\": 179, \"value\": 479}, \"480\": {\"frequency\": 179, \"value\": 480}, \"481\": {\"frequency\": 63, \"value\": 481}, \"482\": {\"frequency\": 128, \"value\": 482}, \"483\": {\"frequency\": 243, \"value\": 483}, \"484\": {\"frequency\": 138, \"value\": 484}, \"485\": {\"frequency\": 125, \"value\": 485}, \"486\": {\"frequency\": 64, \"value\": 486}, \"487\": {\"frequency\": 68, \"value\": 487}, \"488\": {\"frequency\": 65, \"value\": 488}, \"489\": {\"frequency\": 52, \"value\": 489}, \"490\": {\"frequency\": 50, \"value\": 490}, \"491\": {\"frequency\": 67, \"value\": 491}, \"492\": {\"frequency\": 59, \"value\": 492}, \"493\": {\"frequency\": 60, \"value\": 493}, \"494\": {\"frequency\": 56, \"value\": 494}, \"495\": {\"frequency\": 59, \"value\": 495}, \"496\": {\"frequency\": 231, \"value\": 496}, \"497\": {\"frequency\": 68, \"value\": 497}, \"498\": {\"frequency\": 152, \"value\": 498}, \"499\": {\"frequency\": 62, \"value\": 499}, \"500\": {\"frequency\": 31, \"value\": 500}, \"501\": {\"frequency\": 123, \"value\": 501}, \"502\": {\"frequency\": 57, \"value\": 502}, \"503\": {\"frequency\": 39, \"value\": 503}, \"504\": {\"frequency\": 122, \"value\": 504}, \"505\": {\"frequency\": 68, \"value\": 505}, \"506\": {\"frequency\": 90, \"value\": 506}, \"507\": {\"frequency\": 98, \"value\": 507}, \"508\": {\"frequency\": 215, \"value\": 508}, \"509\": {\"frequency\": 121, \"value\": 509}, \"510\": {\"frequency\": 121, \"value\": 510}, \"511\": {\"frequency\": 173, \"value\": 511}, \"512\": {\"frequency\": 57, \"value\": 512}, \"513\": {\"frequency\": 72, \"value\": 513}, \"514\": {\"frequency\": 180, \"value\": 514}, \"515\": {\"frequency\": 201, \"value\": 515}, \"516\": {\"frequency\": 63, \"value\": 516}, \"517\": {\"frequency\": 91, \"value\": 517}, \"518\": {\"frequency\": 89, \"value\": 518}, \"519\": {\"frequency\": 80, \"value\": 519}, \"520\": {\"frequency\": 124, \"value\": 520}, \"521\": {\"frequency\": 120, \"value\": 521}, \"522\": {\"frequency\": 35, \"value\": 522}, \"523\": {\"frequency\": 164, \"value\": 523}, \"524\": {\"frequency\": 46, \"value\": 524}, \"525\": {\"frequency\": 73, \"value\": 525}, \"526\": {\"frequency\": 124, \"value\": 526}, \"527\": {\"frequency\": 195, \"value\": 527}, \"528\": {\"frequency\": 121, \"value\": 528}, \"529\": {\"frequency\": 93, \"value\": 529}, \"530\": {\"frequency\": 80, \"value\": 530}, \"531\": {\"frequency\": 129, \"value\": 531}, \"532\": {\"frequency\": 22, \"value\": 532}, \"533\": {\"frequency\": 15, \"value\": 533}, \"534\": {\"frequency\": 13, \"value\": 534}, \"535\": {\"frequency\": 54, \"value\": 535}, \"536\": {\"frequency\": 10, \"value\": 536}, \"537\": {\"frequency\": 30, \"value\": 537}, \"538\": {\"frequency\": 66, \"value\": 538}, \"539\": {\"frequency\": 44, \"value\": 539}, \"540\": {\"frequency\": 43, \"value\": 540}, \"541\": {\"frequency\": 49, \"value\": 541}, \"542\": {\"frequency\": 51, \"value\": 542}, \"543\": {\"frequency\": 21, \"value\": 543}, \"544\": {\"frequency\": 71, \"value\": 544}, \"545\": {\"frequency\": 12, \"value\": 545}, \"546\": {\"frequency\": 254, \"value\": 546}, \"547\": {\"frequency\": 41, \"value\": 547}, \"548\": {\"frequency\": 12, \"value\": 548}, \"549\": {\"frequency\": 92, \"value\": 549}, \"550\": {\"frequency\": 151, \"value\": 550}, \"551\": {\"frequency\": 24, \"value\": 551}, \"552\": {\"frequency\": 45, \"value\": 552}, \"553\": {\"frequency\": 63, \"value\": 553}, \"554\": {\"frequency\": 102, \"value\": 554}, \"555\": {\"frequency\": 10, \"value\": 555}, \"556\": {\"frequency\": 12, \"value\": 556}, \"557\": {\"frequency\": 17, \"value\": 557}, \"558\": {\"frequency\": 70, \"value\": 558}, \"559\": {\"frequency\": 137, \"value\": 559}, \"560\": {\"frequency\": 22, \"value\": 560}, \"561\": {\"frequency\": 59, \"value\": 561}, \"562\": {\"frequency\": 48, \"value\": 562}, \"563\": {\"frequency\": 29, \"value\": 563}, \"564\": {\"frequency\": 27, \"value\": 564}, \"565\": {\"frequency\": 22, \"value\": 565}, \"566\": {\"frequency\": 179, \"value\": 566}, \"567\": {\"frequency\": 35, \"value\": 567}, \"568\": {\"frequency\": 230, \"value\": 568}, \"569\": {\"frequency\": 67, \"value\": 569}, \"570\": {\"frequency\": 50, \"value\": 570}, \"571\": {\"frequency\": 28, \"value\": 571}, \"572\": {\"frequency\": 29, \"value\": 572}, \"573\": {\"frequency\": 33, \"value\": 573}, \"574\": {\"frequency\": 15, \"value\": 574}, \"575\": {\"frequency\": 44, \"value\": 575}, \"576\": {\"frequency\": 93, \"value\": 576}, \"577\": {\"frequency\": 41, \"value\": 577}, \"578\": {\"frequency\": 92, \"value\": 578}, \"579\": {\"frequency\": 19, \"value\": 579}, \"580\": {\"frequency\": 32, \"value\": 580}, \"581\": {\"frequency\": 59, \"value\": 581}, \"582\": {\"frequency\": 168, \"value\": 582}, \"583\": {\"frequency\": 37, \"value\": 583}, \"584\": {\"frequency\": 79, \"value\": 584}, \"585\": {\"frequency\": 39, \"value\": 585}, \"586\": {\"frequency\": 34, \"value\": 586}, \"587\": {\"frequency\": 14, \"value\": 587}, \"588\": {\"frequency\": 202, \"value\": 588}, \"589\": {\"frequency\": 43, \"value\": 589}, \"590\": {\"frequency\": 18, \"value\": 590}, \"591\": {\"frequency\": 178, \"value\": 591}, \"592\": {\"frequency\": 9, \"value\": 592}, \"593\": {\"frequency\": 12, \"value\": 593}, \"594\": {\"frequency\": 5, \"value\": 594}, \"595\": {\"frequency\": 64, \"value\": 595}, \"596\": {\"frequency\": 127, \"value\": 596}, \"597\": {\"frequency\": 206, \"value\": 597}, \"598\": {\"frequency\": 4, \"value\": 598}, \"599\": {\"frequency\": 1, \"value\": 599}, \"600\": {\"frequency\": 2, \"value\": 600}, \"601\": {\"frequency\": 20, \"value\": 601}, \"602\": {\"frequency\": 50, \"value\": 602}, \"603\": {\"frequency\": 209, \"value\": 603}, \"604\": {\"frequency\": 81, \"value\": 604}, \"605\": {\"frequency\": 31, \"value\": 605}, \"606\": {\"frequency\": 66, \"value\": 606}, \"607\": {\"frequency\": 66, \"value\": 607}, \"608\": {\"frequency\": 30, \"value\": 608}, \"609\": {\"frequency\": 60, \"value\": 609}, \"610\": {\"frequency\": 41, \"value\": 610}, \"611\": {\"frequency\": 40, \"value\": 611}, \"612\": {\"frequency\": 34, \"value\": 612}, \"613\": {\"frequency\": 27, \"value\": 613}, \"614\": {\"frequency\": 51, \"value\": 614}, \"615\": {\"frequency\": 59, \"value\": 615}, \"616\": {\"frequency\": 64, \"value\": 616}, \"617\": {\"frequency\": 18, \"value\": 617}, \"618\": {\"frequency\": 18, \"value\": 618}, \"619\": {\"frequency\": 64, \"value\": 619}, \"620\": {\"frequency\": 43, \"value\": 620}, \"621\": {\"frequency\": 11, \"value\": 621}, \"622\": {\"frequency\": 39, \"value\": 622}, \"623\": {\"frequency\": 39, \"value\": 623}, \"624\": {\"frequency\": 22, \"value\": 624}, \"625\": {\"frequency\": 82, \"value\": 625}, \"626\": {\"frequency\": 4, \"value\": 626}, \"627\": {\"frequency\": 75, \"value\": 627}, \"628\": {\"frequency\": 169, \"value\": 628}, \"629\": {\"frequency\": 77, \"value\": 629}, \"630\": {\"frequency\": 31, \"value\": 630}, \"631\": {\"frequency\": 119, \"value\": 631}, \"632\": {\"frequency\": 58, \"value\": 632}, \"633\": {\"frequency\": 69, \"value\": 633}, \"634\": {\"frequency\": 24, \"value\": 634}, \"635\": {\"frequency\": 23, \"value\": 635}, \"636\": {\"frequency\": 91, \"value\": 636}, \"637\": {\"frequency\": 38, \"value\": 637}, \"638\": {\"frequency\": 44, \"value\": 638}, \"639\": {\"frequency\": 40, \"value\": 639}, \"640\": {\"frequency\": 82, \"value\": 640}, \"641\": {\"frequency\": 33, \"value\": 641}, \"642\": {\"frequency\": 89, \"value\": 642}, \"643\": {\"frequency\": 4, \"value\": 643}, \"644\": {\"frequency\": 35, \"value\": 644}, \"645\": {\"frequency\": 27, \"value\": 645}, \"646\": {\"frequency\": 38, \"value\": 646}, \"647\": {\"frequency\": 70, \"value\": 647}, \"648\": {\"frequency\": 67, \"value\": 648}, \"649\": {\"frequency\": 50, \"value\": 649}, \"650\": {\"frequency\": 72, \"value\": 650}, \"651\": {\"frequency\": 171, \"value\": 651}, \"652\": {\"frequency\": 90, \"value\": 652}, \"653\": {\"frequency\": 34, \"value\": 653}, \"654\": {\"frequency\": 147, \"value\": 654}, \"655\": {\"frequency\": 227, \"value\": 655}, \"656\": {\"frequency\": 44, \"value\": 656}, \"657\": {\"frequency\": 131, \"value\": 657}, \"658\": {\"frequency\": 79, \"value\": 658}, \"659\": {\"frequency\": 115, \"value\": 659}, \"660\": {\"frequency\": 153, \"value\": 660}, \"661\": {\"frequency\": 88, \"value\": 661}, \"662\": {\"frequency\": 82, \"value\": 662}, \"663\": {\"frequency\": 116, \"value\": 663}, \"664\": {\"frequency\": 46, \"value\": 664}, \"665\": {\"frequency\": 100, \"value\": 665}, \"666\": {\"frequency\": 5, \"value\": 666}, \"667\": {\"frequency\": 12, \"value\": 667}, \"668\": {\"frequency\": 6, \"value\": 668}, \"669\": {\"frequency\": 13, \"value\": 669}, \"670\": {\"frequency\": 36, \"value\": 670}, \"671\": {\"frequency\": 46, \"value\": 671}, \"672\": {\"frequency\": 65, \"value\": 672}, \"673\": {\"frequency\": 86, \"value\": 673}, \"674\": {\"frequency\": 48, \"value\": 674}, \"675\": {\"frequency\": 54, \"value\": 675}, \"676\": {\"frequency\": 77, \"value\": 676}, \"677\": {\"frequency\": 1, \"value\": 677}, \"678\": {\"frequency\": 219, \"value\": 678}, \"679\": {\"frequency\": 107, \"value\": 679}, \"680\": {\"frequency\": 34, \"value\": 680}, \"681\": {\"frequency\": 27, \"value\": 681}, \"682\": {\"frequency\": 100, \"value\": 682}, \"683\": {\"frequency\": 49, \"value\": 683}, \"684\": {\"frequency\": 169, \"value\": 684}, \"685\": {\"frequency\": 157, \"value\": 685}, \"686\": {\"frequency\": 50, \"value\": 686}, \"687\": {\"frequency\": 69, \"value\": 687}, \"688\": {\"frequency\": 44, \"value\": 688}, \"689\": {\"frequency\": 87, \"value\": 689}, \"690\": {\"frequency\": 155, \"value\": 690}, \"691\": {\"frequency\": 16, \"value\": 691}, \"692\": {\"frequency\": 164, \"value\": 692}, \"693\": {\"frequency\": 91, \"value\": 693}, \"694\": {\"frequency\": 44, \"value\": 694}, \"695\": {\"frequency\": 13, \"value\": 695}, \"696\": {\"frequency\": 79, \"value\": 696}, \"697\": {\"frequency\": 40, \"value\": 697}, \"698\": {\"frequency\": 10, \"value\": 698}, \"699\": {\"frequency\": 102, \"value\": 699}, \"700\": {\"frequency\": 15, \"value\": 700}, \"701\": {\"frequency\": 10, \"value\": 701}, \"702\": {\"frequency\": 53, \"value\": 702}, \"703\": {\"frequency\": 19, \"value\": 703}, \"704\": {\"frequency\": 24, \"value\": 704}, \"705\": {\"frequency\": 137, \"value\": 705}, \"706\": {\"frequency\": 6, \"value\": 706}, \"707\": {\"frequency\": 70, \"value\": 707}, \"708\": {\"frequency\": 101, \"value\": 708}, \"709\": {\"frequency\": 104, \"value\": 709}, \"710\": {\"frequency\": 79, \"value\": 710}, \"711\": {\"frequency\": 1, \"value\": 711}, \"712\": {\"frequency\": 51, \"value\": 712}, \"713\": {\"frequency\": 72, \"value\": 713}, \"714\": {\"frequency\": 13, \"value\": 714}, \"715\": {\"frequency\": 87, \"value\": 715}, \"716\": {\"frequency\": 58, \"value\": 716}, \"717\": {\"frequency\": 82, \"value\": 717}, \"718\": {\"frequency\": 16, \"value\": 718}, \"719\": {\"frequency\": 29, \"value\": 719}, \"720\": {\"frequency\": 86, \"value\": 720}, \"721\": {\"frequency\": 54, \"value\": 721}, \"722\": {\"frequency\": 58, \"value\": 722}, \"723\": {\"frequency\": 34, \"value\": 723}, \"724\": {\"frequency\": 76, \"value\": 724}, \"725\": {\"frequency\": 16, \"value\": 725}, \"726\": {\"frequency\": 14, \"value\": 726}, \"727\": {\"frequency\": 63, \"value\": 727}, \"728\": {\"frequency\": 45, \"value\": 728}, \"729\": {\"frequency\": 81, \"value\": 729}, \"730\": {\"frequency\": 24, \"value\": 730}, \"731\": {\"frequency\": 39, \"value\": 731}, \"732\": {\"frequency\": 180, \"value\": 732}, \"733\": {\"frequency\": 15, \"value\": 733}, \"734\": {\"frequency\": 27, \"value\": 734}, \"735\": {\"frequency\": 137, \"value\": 735}, \"736\": {\"frequency\": 78, \"value\": 736}, \"737\": {\"frequency\": 59, \"value\": 737}, \"738\": {\"frequency\": 31, \"value\": 738}, \"739\": {\"frequency\": 164, \"value\": 739}, \"740\": {\"frequency\": 63, \"value\": 740}, \"741\": {\"frequency\": 58, \"value\": 741}, \"742\": {\"frequency\": 267, \"value\": 742}, \"743\": {\"frequency\": 39, \"value\": 743}, \"744\": {\"frequency\": 92, \"value\": 744}, \"745\": {\"frequency\": 16, \"value\": 745}, \"746\": {\"frequency\": 119, \"value\": 746}, \"747\": {\"frequency\": 102, \"value\": 747}, \"748\": {\"frequency\": 316, \"value\": 748}, \"749\": {\"frequency\": 51, \"value\": 749}, \"750\": {\"frequency\": 124, \"value\": 750}, \"751\": {\"frequency\": 180, \"value\": 751}, \"752\": {\"frequency\": 39, \"value\": 752}, \"753\": {\"frequency\": 24, \"value\": 753}, \"754\": {\"frequency\": 57, \"value\": 754}, \"755\": {\"frequency\": 96, \"value\": 755}, \"756\": {\"frequency\": 128, \"value\": 756}, \"757\": {\"frequency\": 4, \"value\": 757}, \"758\": {\"frequency\": 21, \"value\": 758}, \"759\": {\"frequency\": 11, \"value\": 759}, \"760\": {\"frequency\": 46, \"value\": 760}, \"761\": {\"frequency\": 44, \"value\": 761}, \"762\": {\"frequency\": 115, \"value\": 762}, \"763\": {\"frequency\": 149, \"value\": 763}, \"764\": {\"frequency\": 29, \"value\": 764}, \"765\": {\"frequency\": 32, \"value\": 765}, \"766\": {\"frequency\": 9, \"value\": 766}, \"767\": {\"frequency\": 11, \"value\": 767}, \"768\": {\"frequency\": 52, \"value\": 768}, \"769\": {\"frequency\": 42, \"value\": 769}, \"770\": {\"frequency\": 57, \"value\": 770}, \"771\": {\"frequency\": 41, \"value\": 771}, \"772\": {\"frequency\": 49, \"value\": 772}, \"773\": {\"frequency\": 17, \"value\": 773}, \"774\": {\"frequency\": 32, \"value\": 774}, \"775\": {\"frequency\": 26, \"value\": 775}, \"776\": {\"frequency\": 9, \"value\": 776}, \"777\": {\"frequency\": 4, \"value\": 777}, \"778\": {\"frequency\": 76, \"value\": 778}, \"779\": {\"frequency\": 31, \"value\": 779}, \"780\": {\"frequency\": 69, \"value\": 780}, \"781\": {\"frequency\": 84, \"value\": 781}, \"782\": {\"frequency\": 10, \"value\": 782}, \"783\": {\"frequency\": 37, \"value\": 783}, \"784\": {\"frequency\": 2, \"value\": 784}, \"785\": {\"frequency\": 39, \"value\": 785}, \"786\": {\"frequency\": 14, \"value\": 786}, \"787\": {\"frequency\": 13, \"value\": 787}, \"788\": {\"frequency\": 3, \"value\": 788}, \"789\": {\"frequency\": 47, \"value\": 789}, \"790\": {\"frequency\": 66, \"value\": 790}, \"791\": {\"frequency\": 10, \"value\": 791}, \"792\": {\"frequency\": 86, \"value\": 792}, \"793\": {\"frequency\": 10, \"value\": 793}, \"794\": {\"frequency\": 46, \"value\": 794}, \"795\": {\"frequency\": 21, \"value\": 795}, \"796\": {\"frequency\": 36, \"value\": 796}, \"797\": {\"frequency\": 31, \"value\": 797}, \"798\": {\"frequency\": 9, \"value\": 798}, \"799\": {\"frequency\": 5, \"value\": 799}, \"800\": {\"frequency\": 26, \"value\": 800}, \"801\": {\"frequency\": 16, \"value\": 801}, \"802\": {\"frequency\": 40, \"value\": 802}, \"803\": {\"frequency\": 9, \"value\": 803}, \"804\": {\"frequency\": 8, \"value\": 804}, \"805\": {\"frequency\": 27, \"value\": 805}, \"806\": {\"frequency\": 50, \"value\": 806}, \"807\": {\"frequency\": 9, \"value\": 807}, \"808\": {\"frequency\": 31, \"value\": 808}, \"809\": {\"frequency\": 43, \"value\": 809}, \"810\": {\"frequency\": 45, \"value\": 810}, \"811\": {\"frequency\": 18, \"value\": 811}, \"812\": {\"frequency\": 18, \"value\": 812}, \"813\": {\"frequency\": 56, \"value\": 813}, \"814\": {\"frequency\": 1, \"value\": 814}, \"815\": {\"frequency\": 112, \"value\": 815}, \"816\": {\"frequency\": 21, \"value\": 816}, \"817\": {\"frequency\": 3, \"value\": 817}, \"818\": {\"frequency\": 25, \"value\": 818}, \"819\": {\"frequency\": 40, \"value\": 819}, \"820\": {\"frequency\": 93, \"value\": 820}, \"821\": {\"frequency\": 22, \"value\": 821}, \"822\": {\"frequency\": 4, \"value\": 822}, \"823\": {\"frequency\": 82, \"value\": 823}, \"824\": {\"frequency\": 49, \"value\": 824}, \"825\": {\"frequency\": 83, \"value\": 825}, \"826\": {\"frequency\": 80, \"value\": 826}, \"827\": {\"frequency\": 57, \"value\": 827}, \"828\": {\"frequency\": 13, \"value\": 828}, \"829\": {\"frequency\": 34, \"value\": 829}, \"830\": {\"frequency\": 1, \"value\": 830}, \"831\": {\"frequency\": 91, \"value\": 831}, \"832\": {\"frequency\": 22, \"value\": 832}, \"833\": {\"frequency\": 49, \"value\": 833}, \"834\": {\"frequency\": 25, \"value\": 834}, \"835\": {\"frequency\": 15, \"value\": 835}, \"836\": {\"frequency\": 26, \"value\": 836}, \"837\": {\"frequency\": 25, \"value\": 837}, \"838\": {\"frequency\": 4, \"value\": 838}, \"839\": {\"frequency\": 4, \"value\": 839}, \"840\": {\"frequency\": 53, \"value\": 840}, \"841\": {\"frequency\": 48, \"value\": 841}, \"842\": {\"frequency\": 27, \"value\": 842}, \"843\": {\"frequency\": 30, \"value\": 843}, \"844\": {\"frequency\": 42, \"value\": 844}, \"845\": {\"frequency\": 176, \"value\": 845}, \"846\": {\"frequency\": 44, \"value\": 846}, \"847\": {\"frequency\": 55, \"value\": 847}, \"848\": {\"frequency\": 9, \"value\": 848}, \"849\": {\"frequency\": 53, \"value\": 849}, \"850\": {\"frequency\": 4, \"value\": 850}, \"851\": {\"frequency\": 4, \"value\": 851}, \"852\": {\"frequency\": 1, \"value\": 852}, \"853\": {\"frequency\": 14, \"value\": 853}, \"854\": {\"frequency\": 16, \"value\": 854}, \"855\": {\"frequency\": 66, \"value\": 855}, \"856\": {\"frequency\": 36, \"value\": 856}, \"857\": {\"frequency\": 1, \"value\": 857}, \"858\": {\"frequency\": 3, \"value\": 858}, \"859\": {\"frequency\": 15, \"value\": 859}, \"860\": {\"frequency\": 16, \"value\": 860}, \"861\": {\"frequency\": 3, \"value\": 861}, \"862\": {\"frequency\": 18, \"value\": 862}, \"863\": {\"frequency\": 24, \"value\": 863}, \"864\": {\"frequency\": 86, \"value\": 864}, \"865\": {\"frequency\": 21, \"value\": 865}, \"866\": {\"frequency\": 119, \"value\": 866}, \"867\": {\"frequency\": 6, \"value\": 867}, \"868\": {\"frequency\": 5, \"value\": 868}, \"869\": {\"frequency\": 24, \"value\": 869}, \"870\": {\"frequency\": 9, \"value\": 870}, \"871\": {\"frequency\": 75, \"value\": 871}, \"872\": {\"frequency\": 42, \"value\": 872}, \"873\": {\"frequency\": 81, \"value\": 873}, \"874\": {\"frequency\": 39, \"value\": 874}, \"875\": {\"frequency\": 53, \"value\": 875}, \"876\": {\"frequency\": 47, \"value\": 876}, \"877\": {\"frequency\": 52, \"value\": 877}, \"878\": {\"frequency\": 33, \"value\": 878}, \"879\": {\"frequency\": 136, \"value\": 879}, \"880\": {\"frequency\": 59, \"value\": 880}, \"881\": {\"frequency\": 45, \"value\": 881}, \"882\": {\"frequency\": 34, \"value\": 882}, \"883\": {\"frequency\": 13, \"value\": 883}, \"884\": {\"frequency\": 7, \"value\": 884}, \"885\": {\"frequency\": 13, \"value\": 885}, \"886\": {\"frequency\": 53, \"value\": 886}, \"887\": {\"frequency\": 64, \"value\": 887}, \"888\": {\"frequency\": 15, \"value\": 888}, \"889\": {\"frequency\": 13, \"value\": 889}, \"890\": {\"frequency\": 43, \"value\": 890}, \"891\": {\"frequency\": 6, \"value\": 891}, \"892\": {\"frequency\": 53, \"value\": 892}, \"893\": {\"frequency\": 14, \"value\": 893}, \"894\": {\"frequency\": 19, \"value\": 894}, \"895\": {\"frequency\": 106, \"value\": 895}, \"896\": {\"frequency\": 44, \"value\": 896}, \"897\": {\"frequency\": 2, \"value\": 897}, \"898\": {\"frequency\": 58, \"value\": 898}, \"899\": {\"frequency\": 9, \"value\": 899}, \"900\": {\"frequency\": 42, \"value\": 900}, \"901\": {\"frequency\": 12, \"value\": 901}, \"902\": {\"frequency\": 42, \"value\": 902}, \"903\": {\"frequency\": 18, \"value\": 903}, \"904\": {\"frequency\": 20, \"value\": 904}, \"905\": {\"frequency\": 27, \"value\": 905}, \"906\": {\"frequency\": 21, \"value\": 906}, \"907\": {\"frequency\": 2, \"value\": 907}, \"908\": {\"frequency\": 20, \"value\": 908}, \"909\": {\"frequency\": 13, \"value\": 909}, \"910\": {\"frequency\": 4, \"value\": 910}, \"911\": {\"frequency\": 4, \"value\": 911}, \"912\": {\"frequency\": 9, \"value\": 912}, \"913\": {\"frequency\": 2, \"value\": 913}, \"914\": {\"frequency\": 11, \"value\": 914}, \"915\": {\"frequency\": 13, \"value\": 915}, \"916\": {\"frequency\": 18, \"value\": 916}, \"917\": {\"frequency\": 7, \"value\": 917}, \"918\": {\"frequency\": 8, \"value\": 918}, \"919\": {\"frequency\": 96, \"value\": 919}, \"920\": {\"frequency\": 5, \"value\": 920}, \"921\": {\"frequency\": 46, \"value\": 921}, \"922\": {\"frequency\": 34, \"value\": 922}, \"923\": {\"frequency\": 58, \"value\": 923}, \"924\": {\"frequency\": 85, \"value\": 924}, \"925\": {\"frequency\": 34, \"value\": 925}, \"926\": {\"frequency\": 101, \"value\": 926}, \"927\": {\"frequency\": 6, \"value\": 927}, \"928\": {\"frequency\": 104, \"value\": 928}, \"929\": {\"frequency\": 40, \"value\": 929}, \"930\": {\"frequency\": 80, \"value\": 930}, \"931\": {\"frequency\": 57, \"value\": 931}, \"932\": {\"frequency\": 40, \"value\": 932}, \"933\": {\"frequency\": 21, \"value\": 933}, \"934\": {\"frequency\": 68, \"value\": 934}, \"935\": {\"frequency\": 7, \"value\": 935}, \"936\": {\"frequency\": 32, \"value\": 936}, \"937\": {\"frequency\": 37, \"value\": 937}, \"938\": {\"frequency\": 25, \"value\": 938}, \"939\": {\"frequency\": 60, \"value\": 939}, \"940\": {\"frequency\": 32, \"value\": 940}, \"941\": {\"frequency\": 46, \"value\": 941}, \"942\": {\"frequency\": 45, \"value\": 942}, \"943\": {\"frequency\": 40, \"value\": 943}, \"944\": {\"frequency\": 43, \"value\": 944}, \"945\": {\"frequency\": 40, \"value\": 945}, \"946\": {\"frequency\": 61, \"value\": 946}, \"947\": {\"frequency\": 17, \"value\": 947}, \"948\": {\"frequency\": 48, \"value\": 948}, \"949\": {\"frequency\": 71, \"value\": 949}, \"950\": {\"frequency\": 30, \"value\": 950}, \"951\": {\"frequency\": 39, \"value\": 951}, \"952\": {\"frequency\": 45, \"value\": 952}, \"953\": {\"frequency\": 22, \"value\": 953}, \"954\": {\"frequency\": 11, \"value\": 954}, \"955\": {\"frequency\": 49, \"value\": 955}, \"956\": {\"frequency\": 46, \"value\": 956}, \"957\": {\"frequency\": 2, \"value\": 957}, \"958\": {\"frequency\": 14, \"value\": 958}, \"959\": {\"frequency\": 64, \"value\": 959}, \"960\": {\"frequency\": 25, \"value\": 960}, \"961\": {\"frequency\": 34, \"value\": 961}, \"962\": {\"frequency\": 23, \"value\": 962}, \"963\": {\"frequency\": 41, \"value\": 963}, \"964\": {\"frequency\": 9, \"value\": 964}, \"965\": {\"frequency\": 21, \"value\": 965}, \"966\": {\"frequency\": 26, \"value\": 966}, \"967\": {\"frequency\": 12, \"value\": 967}, \"968\": {\"frequency\": 18, \"value\": 968}, \"969\": {\"frequency\": 75, \"value\": 969}, \"970\": {\"frequency\": 8, \"value\": 970}, \"971\": {\"frequency\": 34, \"value\": 971}, \"972\": {\"frequency\": 28, \"value\": 972}, \"973\": {\"frequency\": 4, \"value\": 973}, \"974\": {\"frequency\": 32, \"value\": 974}, \"975\": {\"frequency\": 44, \"value\": 975}, \"976\": {\"frequency\": 12, \"value\": 976}, \"977\": {\"frequency\": 49, \"value\": 977}, \"978\": {\"frequency\": 27, \"value\": 978}, \"979\": {\"frequency\": 35, \"value\": 979}, \"980\": {\"frequency\": 22, \"value\": 980}, \"981\": {\"frequency\": 8, \"value\": 981}, \"982\": {\"frequency\": 20, \"value\": 982}, \"983\": {\"frequency\": 15, \"value\": 983}, \"984\": {\"frequency\": 44, \"value\": 984}, \"985\": {\"frequency\": 22, \"value\": 985}, \"986\": {\"frequency\": 23, \"value\": 986}, \"987\": {\"frequency\": 4, \"value\": 987}, \"988\": {\"frequency\": 86, \"value\": 988}, \"989\": {\"frequency\": 32, \"value\": 989}, \"990\": {\"frequency\": 33, \"value\": 990}, \"991\": {\"frequency\": 25, \"value\": 991}, \"992\": {\"frequency\": 4, \"value\": 992}, \"993\": {\"frequency\": 66, \"value\": 993}, \"994\": {\"frequency\": 7, \"value\": 994}, \"995\": {\"frequency\": 31, \"value\": 995}, \"996\": {\"frequency\": 14, \"value\": 996}, \"997\": {\"frequency\": 16, \"value\": 997}, \"998\": {\"frequency\": 16, \"value\": 998}, \"999\": {\"frequency\": 10, \"value\": 999}, \"1000\": {\"frequency\": 10, \"value\": 1000}, \"1001\": {\"frequency\": 17, \"value\": 1001}, \"1002\": {\"frequency\": 8, \"value\": 1002}, \"1003\": {\"frequency\": 8, \"value\": 1003}, \"1004\": {\"frequency\": 9, \"value\": 1004}, \"1005\": {\"frequency\": 22, \"value\": 1005}, \"1006\": {\"frequency\": 23, \"value\": 1006}, \"1007\": {\"frequency\": 47, \"value\": 1007}, \"1008\": {\"frequency\": 37, \"value\": 1008}, \"1009\": {\"frequency\": 64, \"value\": 1009}, \"1010\": {\"frequency\": 44, \"value\": 1010}, \"1011\": {\"frequency\": 93, \"value\": 1011}, \"1012\": {\"frequency\": 100, \"value\": 1012}, \"1013\": {\"frequency\": 38, \"value\": 1013}, \"1014\": {\"frequency\": 98, \"value\": 1014}, \"1015\": {\"frequency\": 12, \"value\": 1015}, \"1016\": {\"frequency\": 137, \"value\": 1016}, \"1017\": {\"frequency\": 50, \"value\": 1017}, \"1018\": {\"frequency\": 32, \"value\": 1018}, \"1019\": {\"frequency\": 31, \"value\": 1019}, \"1020\": {\"frequency\": 35, \"value\": 1020}, \"1021\": {\"frequency\": 38, \"value\": 1021}, \"1022\": {\"frequency\": 32, \"value\": 1022}, \"1023\": {\"frequency\": 31, \"value\": 1023}, \"1024\": {\"frequency\": 15, \"value\": 1024}, \"1025\": {\"frequency\": 44, \"value\": 1025}, \"1026\": {\"frequency\": 4, \"value\": 1026}, \"1027\": {\"frequency\": 3, \"value\": 1027}, \"1028\": {\"frequency\": 148, \"value\": 1028}, \"1029\": {\"frequency\": 14, \"value\": 1029}, \"1030\": {\"frequency\": 20, \"value\": 1030}, \"1031\": {\"frequency\": 7, \"value\": 1031}, \"1032\": {\"frequency\": 16, \"value\": 1032}, \"1033\": {\"frequency\": 32, \"value\": 1033}, \"1034\": {\"frequency\": 27, \"value\": 1034}, \"1035\": {\"frequency\": 68, \"value\": 1035}, \"1036\": {\"frequency\": 24, \"value\": 1036}, \"1037\": {\"frequency\": 24, \"value\": 1037}, \"1038\": {\"frequency\": 17, \"value\": 1038}, \"1039\": {\"frequency\": 90, \"value\": 1039}, \"1040\": {\"frequency\": 25, \"value\": 1040}, \"1041\": {\"frequency\": 62, \"value\": 1041}, \"1042\": {\"frequency\": 28, \"value\": 1042}, \"1043\": {\"frequency\": 8, \"value\": 1043}, \"1044\": {\"frequency\": 40, \"value\": 1044}, \"1045\": {\"frequency\": 25, \"value\": 1045}, \"1046\": {\"frequency\": 46, \"value\": 1046}, \"1047\": {\"frequency\": 134, \"value\": 1047}, \"1048\": {\"frequency\": 73, \"value\": 1048}, \"1049\": {\"frequency\": 25, \"value\": 1049}, \"1050\": {\"frequency\": 43, \"value\": 1050}, \"1051\": {\"frequency\": 41, \"value\": 1051}, \"1052\": {\"frequency\": 25, \"value\": 1052}, \"1053\": {\"frequency\": 24, \"value\": 1053}, \"1054\": {\"frequency\": 23, \"value\": 1054}, \"1055\": {\"frequency\": 10, \"value\": 1055}, \"1056\": {\"frequency\": 10, \"value\": 1056}, \"1057\": {\"frequency\": 22, \"value\": 1057}, \"1058\": {\"frequency\": 15, \"value\": 1058}, \"1059\": {\"frequency\": 35, \"value\": 1059}, \"1060\": {\"frequency\": 39, \"value\": 1060}, \"1061\": {\"frequency\": 29, \"value\": 1061}, \"1062\": {\"frequency\": 12, \"value\": 1062}, \"1063\": {\"frequency\": 41, \"value\": 1063}, \"1064\": {\"frequency\": 4, \"value\": 1064}, \"1065\": {\"frequency\": 53, \"value\": 1065}, \"1066\": {\"frequency\": 16, \"value\": 1066}, \"1067\": {\"frequency\": 44, \"value\": 1067}, \"1068\": {\"frequency\": 12, \"value\": 1068}, \"1069\": {\"frequency\": 18, \"value\": 1069}, \"1070\": {\"frequency\": 27, \"value\": 1070}, \"1071\": {\"frequency\": 16, \"value\": 1071}, \"1072\": {\"frequency\": 7, \"value\": 1072}, \"1073\": {\"frequency\": 66, \"value\": 1073}, \"1074\": {\"frequency\": 77, \"value\": 1074}, \"1075\": {\"frequency\": 7, \"value\": 1075}, \"1076\": {\"frequency\": 12, \"value\": 1076}, \"1077\": {\"frequency\": 8, \"value\": 1077}, \"1078\": {\"frequency\": 22, \"value\": 1078}, \"1079\": {\"frequency\": 45, \"value\": 1079}, \"1080\": {\"frequency\": 2, \"value\": 1080}, \"1081\": {\"frequency\": 8, \"value\": 1081}, \"1082\": {\"frequency\": 8, \"value\": 1082}, \"1083\": {\"frequency\": 6, \"value\": 1083}, \"1084\": {\"frequency\": 21, \"value\": 1084}, \"1085\": {\"frequency\": 11, \"value\": 1085}, \"1086\": {\"frequency\": 21, \"value\": 1086}, \"1087\": {\"frequency\": 10, \"value\": 1087}, \"1088\": {\"frequency\": 13, \"value\": 1088}, \"1089\": {\"frequency\": 38, \"value\": 1089}, \"1090\": {\"frequency\": 37, \"value\": 1090}, \"1091\": {\"frequency\": 43, \"value\": 1091}, \"1092\": {\"frequency\": 12, \"value\": 1092}, \"1093\": {\"frequency\": 23, \"value\": 1093}, \"1094\": {\"frequency\": 12, \"value\": 1094}, \"1095\": {\"frequency\": 29, \"value\": 1095}, \"1096\": {\"frequency\": 3, \"value\": 1096}, \"1097\": {\"frequency\": 18, \"value\": 1097}, \"1098\": {\"frequency\": 42, \"value\": 1098}, \"1099\": {\"frequency\": 13, \"value\": 1099}, \"1100\": {\"frequency\": 8, \"value\": 1100}, \"1101\": {\"frequency\": 74, \"value\": 1101}, \"1102\": {\"frequency\": 7, \"value\": 1102}, \"1103\": {\"frequency\": 19, \"value\": 1103}, \"1104\": {\"frequency\": 4, \"value\": 1104}, \"1105\": {\"frequency\": 18, \"value\": 1105}, \"1106\": {\"frequency\": 4, \"value\": 1106}, \"1107\": {\"frequency\": 18, \"value\": 1107}, \"1108\": {\"frequency\": 5, \"value\": 1108}, \"1109\": {\"frequency\": 28, \"value\": 1109}, \"1110\": {\"frequency\": 41, \"value\": 1110}, \"1111\": {\"frequency\": 7, \"value\": 1111}, \"1112\": {\"frequency\": 15, \"value\": 1112}, \"1113\": {\"frequency\": 22, \"value\": 1113}, \"1114\": {\"frequency\": 10, \"value\": 1114}, \"1115\": {\"frequency\": 29, \"value\": 1115}, \"1116\": {\"frequency\": 13, \"value\": 1116}, \"1117\": {\"frequency\": 19, \"value\": 1117}, \"1118\": {\"frequency\": 47, \"value\": 1118}, \"1119\": {\"frequency\": 59, \"value\": 1119}, \"1120\": {\"frequency\": 17, \"value\": 1120}, \"1121\": {\"frequency\": 21, \"value\": 1121}, \"1122\": {\"frequency\": 1, \"value\": 1122}, \"1123\": {\"frequency\": 3, \"value\": 1123}, \"1124\": {\"frequency\": 12, \"value\": 1124}, \"1125\": {\"frequency\": 4, \"value\": 1125}, \"1126\": {\"frequency\": 32, \"value\": 1126}, \"1127\": {\"frequency\": 11, \"value\": 1127}, \"1128\": {\"frequency\": 13, \"value\": 1128}, \"1129\": {\"frequency\": 28, \"value\": 1129}, \"1130\": {\"frequency\": 1, \"value\": 1130}, \"1131\": {\"frequency\": 13, \"value\": 1131}, \"1132\": {\"frequency\": 32, \"value\": 1132}, \"1133\": {\"frequency\": 30, \"value\": 1133}, \"1134\": {\"frequency\": 38, \"value\": 1134}, \"1135\": {\"frequency\": 46, \"value\": 1135}, \"1136\": {\"frequency\": 29, \"value\": 1136}, \"1137\": {\"frequency\": 29, \"value\": 1137}, \"1138\": {\"frequency\": 5, \"value\": 1138}, \"1139\": {\"frequency\": 33, \"value\": 1139}, \"1140\": {\"frequency\": 17, \"value\": 1140}, \"1141\": {\"frequency\": 9, \"value\": 1141}, \"1142\": {\"frequency\": 44, \"value\": 1142}, \"1143\": {\"frequency\": 15, \"value\": 1143}, \"1144\": {\"frequency\": 3, \"value\": 1144}, \"1145\": {\"frequency\": 9, \"value\": 1145}, \"1146\": {\"frequency\": 3, \"value\": 1146}, \"1147\": {\"frequency\": 21, \"value\": 1147}, \"1148\": {\"frequency\": 9, \"value\": 1148}, \"1149\": {\"frequency\": 26, \"value\": 1149}, \"1150\": {\"frequency\": 9, \"value\": 1150}, \"1151\": {\"frequency\": 7, \"value\": 1151}, \"1152\": {\"frequency\": 28, \"value\": 1152}, \"1153\": {\"frequency\": 19, \"value\": 1153}, \"1154\": {\"frequency\": 12, \"value\": 1154}, \"1155\": {\"frequency\": 3, \"value\": 1155}, \"1156\": {\"frequency\": 1, \"value\": 1156}, \"1157\": {\"frequency\": 25, \"value\": 1157}, \"1158\": {\"frequency\": 4, \"value\": 1158}, \"1159\": {\"frequency\": 11, \"value\": 1159}, \"1160\": {\"frequency\": 26, \"value\": 1160}, \"1161\": {\"frequency\": 13, \"value\": 1161}, \"1162\": {\"frequency\": 5, \"value\": 1162}, \"1163\": {\"frequency\": 25, \"value\": 1163}, \"1164\": {\"frequency\": 6, \"value\": 1164}, \"1165\": {\"frequency\": 14, \"value\": 1165}, \"1166\": {\"frequency\": 12, \"value\": 1166}, \"1167\": {\"frequency\": 11, \"value\": 1167}, \"1168\": {\"frequency\": 22, \"value\": 1168}, \"1169\": {\"frequency\": 10, \"value\": 1169}, \"1170\": {\"frequency\": 27, \"value\": 1170}, \"1171\": {\"frequency\": 14, \"value\": 1171}, \"1172\": {\"frequency\": 15, \"value\": 1172}, \"1173\": {\"frequency\": 7, \"value\": 1173}, \"1174\": {\"frequency\": 8, \"value\": 1174}, \"1175\": {\"frequency\": 5, \"value\": 1175}, \"1176\": {\"frequency\": 22, \"value\": 1176}, \"1177\": {\"frequency\": 7, \"value\": 1177}, \"1178\": {\"frequency\": 19, \"value\": 1178}, \"1179\": {\"frequency\": 9, \"value\": 1179}, \"1180\": {\"frequency\": 10, \"value\": 1180}, \"1181\": {\"frequency\": 10, \"value\": 1181}, \"1182\": {\"frequency\": 13, \"value\": 1182}, \"1183\": {\"frequency\": 19, \"value\": 1183}, \"1184\": {\"frequency\": 10, \"value\": 1184}, \"1185\": {\"frequency\": 18, \"value\": 1185}, \"1186\": {\"frequency\": 3, \"value\": 1186}, \"1187\": {\"frequency\": 13, \"value\": 1187}, \"1188\": {\"frequency\": 44, \"value\": 1188}, \"1189\": {\"frequency\": 3, \"value\": 1189}, \"1190\": {\"frequency\": 11, \"value\": 1190}, \"1191\": {\"frequency\": 3, \"value\": 1191}, \"1192\": {\"frequency\": 13, \"value\": 1192}, \"1193\": {\"frequency\": 10, \"value\": 1193}, \"1194\": {\"frequency\": 31, \"value\": 1194}, \"1195\": {\"frequency\": 11, \"value\": 1195}, \"1196\": {\"frequency\": 3, \"value\": 1196}, \"1197\": {\"frequency\": 45, \"value\": 1197}, \"1198\": {\"frequency\": 7, \"value\": 1198}, \"1199\": {\"frequency\": 23, \"value\": 1199}, \"1200\": {\"frequency\": 7, \"value\": 1200}, \"1201\": {\"frequency\": 1, \"value\": 1201}, \"1202\": {\"frequency\": 8, \"value\": 1202}, \"1203\": {\"frequency\": 21, \"value\": 1203}, \"1204\": {\"frequency\": 18, \"value\": 1204}, \"1205\": {\"frequency\": 6, \"value\": 1205}, \"1206\": {\"frequency\": 19, \"value\": 1206}, \"1207\": {\"frequency\": 17, \"value\": 1207}, \"1208\": {\"frequency\": 20, \"value\": 1208}, \"1209\": {\"frequency\": 15, \"value\": 1209}, \"1210\": {\"frequency\": 38, \"value\": 1210}, \"1211\": {\"frequency\": 12, \"value\": 1211}, \"1212\": {\"frequency\": 6, \"value\": 1212}, \"1213\": {\"frequency\": 6, \"value\": 1213}, \"1214\": {\"frequency\": 9, \"value\": 1214}, \"1215\": {\"frequency\": 30, \"value\": 1215}, \"1216\": {\"frequency\": 6, \"value\": 1216}, \"1217\": {\"frequency\": 39, \"value\": 1217}, \"1218\": {\"frequency\": 26, \"value\": 1218}, \"1219\": {\"frequency\": 20, \"value\": 1219}, \"1220\": {\"frequency\": 30, \"value\": 1220}, \"1221\": {\"frequency\": 39, \"value\": 1221}, \"1222\": {\"frequency\": 25, \"value\": 1222}, \"1223\": {\"frequency\": 4, \"value\": 1223}, \"1224\": {\"frequency\": 12, \"value\": 1224}, \"1225\": {\"frequency\": 14, \"value\": 1225}, \"1226\": {\"frequency\": 32, \"value\": 1226}, \"1227\": {\"frequency\": 8, \"value\": 1227}, \"1228\": {\"frequency\": 48, \"value\": 1228}, \"1229\": {\"frequency\": 13, \"value\": 1229}, \"1230\": {\"frequency\": 18, \"value\": 1230}, \"1231\": {\"frequency\": 22, \"value\": 1231}, \"1232\": {\"frequency\": 17, \"value\": 1232}, \"1233\": {\"frequency\": 6, \"value\": 1233}, \"1234\": {\"frequency\": 8, \"value\": 1234}, \"1235\": {\"frequency\": 1, \"value\": 1235}, \"1236\": {\"frequency\": 1, \"value\": 1236}, \"1237\": {\"frequency\": 6, \"value\": 1237}, \"1238\": {\"frequency\": 8, \"value\": 1238}, \"1239\": {\"frequency\": 18, \"value\": 1239}, \"1240\": {\"frequency\": 26, \"value\": 1240}, \"1241\": {\"frequency\": 6, \"value\": 1241}, \"1242\": {\"frequency\": 5, \"value\": 1242}, \"1243\": {\"frequency\": 7, \"value\": 1243}, \"1244\": {\"frequency\": 36, \"value\": 1244}, \"1245\": {\"frequency\": 19, \"value\": 1245}, \"1246\": {\"frequency\": 7, \"value\": 1246}, \"1247\": {\"frequency\": 6, \"value\": 1247}, \"1248\": {\"frequency\": 19, \"value\": 1248}, \"1249\": {\"frequency\": 12, \"value\": 1249}, \"1250\": {\"frequency\": 6, \"value\": 1250}, \"1251\": {\"frequency\": 8, \"value\": 1251}, \"1252\": {\"frequency\": 9, \"value\": 1252}, \"1253\": {\"frequency\": 7, \"value\": 1253}, \"1254\": {\"frequency\": 11, \"value\": 1254}, \"1255\": {\"frequency\": 8, \"value\": 1255}, \"1256\": {\"frequency\": 3, \"value\": 1256}, \"1257\": {\"frequency\": 4, \"value\": 1257}, \"1258\": {\"frequency\": 23, \"value\": 1258}, \"1259\": {\"frequency\": 4, \"value\": 1259}, \"1260\": {\"frequency\": 4, \"value\": 1260}, \"1261\": {\"frequency\": 4, \"value\": 1261}, \"1262\": {\"frequency\": 8, \"value\": 1262}, \"1263\": {\"frequency\": 15, \"value\": 1263}, \"1264\": {\"frequency\": 7, \"value\": 1264}, \"1265\": {\"frequency\": 19, \"value\": 1265}, \"1266\": {\"frequency\": 12, \"value\": 1266}, \"1267\": {\"frequency\": 33, \"value\": 1267}, \"1268\": {\"frequency\": 10, \"value\": 1268}, \"1269\": {\"frequency\": 10, \"value\": 1269}, \"1270\": {\"frequency\": 7, \"value\": 1270}, \"1271\": {\"frequency\": 7, \"value\": 1271}, \"1272\": {\"frequency\": 5, \"value\": 1272}, \"1273\": {\"frequency\": 15, \"value\": 1273}, \"1274\": {\"frequency\": 11, \"value\": 1274}, \"1275\": {\"frequency\": 4, \"value\": 1275}, \"1276\": {\"frequency\": 8, \"value\": 1276}, \"1277\": {\"frequency\": 19, \"value\": 1277}, \"1278\": {\"frequency\": 16, \"value\": 1278}, \"1279\": {\"frequency\": 9, \"value\": 1279}, \"1280\": {\"frequency\": 16, \"value\": 1280}, \"1281\": {\"frequency\": 13, \"value\": 1281}, \"1282\": {\"frequency\": 9, \"value\": 1282}, \"1283\": {\"frequency\": 19, \"value\": 1283}, \"1284\": {\"frequency\": 26, \"value\": 1284}, \"1285\": {\"frequency\": 15, \"value\": 1285}, \"1286\": {\"frequency\": 17, \"value\": 1286}, \"1287\": {\"frequency\": 6, \"value\": 1287}, \"1288\": {\"frequency\": 7, \"value\": 1288}, \"1289\": {\"frequency\": 7, \"value\": 1289}, \"1290\": {\"frequency\": 2, \"value\": 1290}, \"1291\": {\"frequency\": 15, \"value\": 1291}, \"1292\": {\"frequency\": 3, \"value\": 1292}, \"1293\": {\"frequency\": 3, \"value\": 1293}, \"1294\": {\"frequency\": 7, \"value\": 1294}, \"1295\": {\"frequency\": 7, \"value\": 1295}, \"1296\": {\"frequency\": 20, \"value\": 1296}, \"1297\": {\"frequency\": 12, \"value\": 1297}, \"1298\": {\"frequency\": 9, \"value\": 1298}, \"1299\": {\"frequency\": 8, \"value\": 1299}, \"1300\": {\"frequency\": 9, \"value\": 1300}, \"1301\": {\"frequency\": 5, \"value\": 1301}, \"1302\": {\"frequency\": 5, \"value\": 1302}, \"1303\": {\"frequency\": 18, \"value\": 1303}, \"1304\": {\"frequency\": 2, \"value\": 1304}, \"1305\": {\"frequency\": 7, \"value\": 1305}, \"1306\": {\"frequency\": 2, \"value\": 1306}, \"1307\": {\"frequency\": 2, \"value\": 1307}, \"1308\": {\"frequency\": 2, \"value\": 1308}, \"1309\": {\"frequency\": 1, \"value\": 1309}, \"1310\": {\"frequency\": 1, \"value\": 1310}, \"1311\": {\"frequency\": 16, \"value\": 1311}, \"1312\": {\"frequency\": 7, \"value\": 1312}, \"1313\": {\"frequency\": 14, \"value\": 1313}, \"1314\": {\"frequency\": 11, \"value\": 1314}, \"1315\": {\"frequency\": 23, \"value\": 1315}, \"1316\": {\"frequency\": 7, \"value\": 1316}, \"1317\": {\"frequency\": 4, \"value\": 1317}, \"1318\": {\"frequency\": 3, \"value\": 1318}, \"1319\": {\"frequency\": 4, \"value\": 1319}, \"1320\": {\"frequency\": 1, \"value\": 1320}, \"1321\": {\"frequency\": 2, \"value\": 1321}, \"1322\": {\"frequency\": 6, \"value\": 1322}, \"1323\": {\"frequency\": 3, \"value\": 1323}, \"1324\": {\"frequency\": 5, \"value\": 1324}, \"1325\": {\"frequency\": 1, \"value\": 1325}, \"1326\": {\"frequency\": 6, \"value\": 1326}, \"1327\": {\"frequency\": 3, \"value\": 1327}, \"1328\": {\"frequency\": 6, \"value\": 1328}, \"1329\": {\"frequency\": 1, \"value\": 1329}, \"1330\": {\"frequency\": 4, \"value\": 1330}, \"1331\": {\"frequency\": 4, \"value\": 1331}, \"1332\": {\"frequency\": 2, \"value\": 1332}, \"1333\": {\"frequency\": 5, \"value\": 1333}, \"1334\": {\"frequency\": 2, \"value\": 1334}, \"1335\": {\"frequency\": 11, \"value\": 1335}, \"1336\": {\"frequency\": 10, \"value\": 1336}, \"1337\": {\"frequency\": 9, \"value\": 1337}, \"1338\": {\"frequency\": 4, \"value\": 1338}, \"1339\": {\"frequency\": 1, \"value\": 1339}, \"1340\": {\"frequency\": 1, \"value\": 1340}, \"1341\": {\"frequency\": 1, \"value\": 1341}, \"1342\": {\"frequency\": 2, \"value\": 1342}, \"1343\": {\"frequency\": 1, \"value\": 1343}, \"1344\": {\"frequency\": 5, \"value\": 1344}, \"1345\": {\"frequency\": 2, \"value\": 1345}, \"1346\": {\"frequency\": 5, \"value\": 1346}, \"1347\": {\"frequency\": 4, \"value\": 1347}, \"1348\": {\"frequency\": 1, \"value\": 1348}, \"1349\": {\"frequency\": 1, \"value\": 1349}, \"1350\": {\"frequency\": 2, \"value\": 1350}, \"1351\": {\"frequency\": 3, \"value\": 1351}, \"1352\": {\"frequency\": 1, \"value\": 1352}, \"1353\": {\"frequency\": 5, \"value\": 1353}, \"1354\": {\"frequency\": 2, \"value\": 1354}, \"1355\": {\"frequency\": 6, \"value\": 1355}, \"1356\": {\"frequency\": 3, \"value\": 1356}, \"1357\": {\"frequency\": 3, \"value\": 1357}, \"1358\": {\"frequency\": 2, \"value\": 1358}, \"1359\": {\"frequency\": 2, \"value\": 1359}, \"1360\": {\"frequency\": 2, \"value\": 1360}, \"1361\": {\"frequency\": 3, \"value\": 1361}, \"1362\": {\"frequency\": 2, \"value\": 1362}, \"1363\": {\"frequency\": 1, \"value\": 1363}, \"1364\": {\"frequency\": 1, \"value\": 1364}, \"1365\": {\"frequency\": 2, \"value\": 1365}, \"1366\": {\"frequency\": 1, \"value\": 1366}, \"1367\": {\"frequency\": 5, \"value\": 1367}, \"1368\": {\"frequency\": 6, \"value\": 1368}, \"1369\": {\"frequency\": 4, \"value\": 1369}, \"1370\": {\"frequency\": 3, \"value\": 1370}, \"1371\": {\"frequency\": 2, \"value\": 1371}, \"1372\": {\"frequency\": 3, \"value\": 1372}, \"1373\": {\"frequency\": 1, \"value\": 1373}, \"1374\": {\"frequency\": 2, \"value\": 1374}, \"1375\": {\"frequency\": 10, \"value\": 1375}, \"1376\": {\"frequency\": 7, \"value\": 1376}, \"1377\": {\"frequency\": 4, \"value\": 1377}, \"1378\": {\"frequency\": 5, \"value\": 1378}, \"1379\": {\"frequency\": 7, \"value\": 1379}, \"1380\": {\"frequency\": 6, \"value\": 1380}, \"1381\": {\"frequency\": 8, \"value\": 1381}, \"1382\": {\"frequency\": 4, \"value\": 1382}, \"1383\": {\"frequency\": 6, \"value\": 1383}, \"1384\": {\"frequency\": 3, \"value\": 1384}, \"1385\": {\"frequency\": 5, \"value\": 1385}, \"1386\": {\"frequency\": 6, \"value\": 1386}, \"1387\": {\"frequency\": 3, \"value\": 1387}, \"1388\": {\"frequency\": 6, \"value\": 1388}, \"1389\": {\"frequency\": 3, \"value\": 1389}, \"1390\": {\"frequency\": 2, \"value\": 1390}, \"1391\": {\"frequency\": 3, \"value\": 1391}, \"1392\": {\"frequency\": 5, \"value\": 1392}, \"1393\": {\"frequency\": 9, \"value\": 1393}, \"1394\": {\"frequency\": 7, \"value\": 1394}, \"1395\": {\"frequency\": 6, \"value\": 1395}, \"1396\": {\"frequency\": 5, \"value\": 1396}, \"1397\": {\"frequency\": 5, \"value\": 1397}, \"1398\": {\"frequency\": 2, \"value\": 1398}, \"1399\": {\"frequency\": 7, \"value\": 1399}, \"1400\": {\"frequency\": 10, \"value\": 1400}, \"1401\": {\"frequency\": 18, \"value\": 1401}, \"1402\": {\"frequency\": 4, \"value\": 1402}, \"1403\": {\"frequency\": 4, \"value\": 1403}, \"1404\": {\"frequency\": 13, \"value\": 1404}, \"1405\": {\"frequency\": 6, \"value\": 1405}, \"1406\": {\"frequency\": 5, \"value\": 1406}, \"1407\": {\"frequency\": 20, \"value\": 1407}, \"1408\": {\"frequency\": 3, \"value\": 1408}, \"1409\": {\"frequency\": 7, \"value\": 1409}, \"1410\": {\"frequency\": 4, \"value\": 1410}, \"1411\": {\"frequency\": 28, \"value\": 1411}, \"1412\": {\"frequency\": 6, \"value\": 1412}, \"1413\": {\"frequency\": 8, \"value\": 1413}, \"1414\": {\"frequency\": 1, \"value\": 1414}, \"1415\": {\"frequency\": 9, \"value\": 1415}, \"1416\": {\"frequency\": 5, \"value\": 1416}, \"1417\": {\"frequency\": 2, \"value\": 1417}, \"1418\": {\"frequency\": 3, \"value\": 1418}, \"1419\": {\"frequency\": 16, \"value\": 1419}, \"1420\": {\"frequency\": 3, \"value\": 1420}, \"1421\": {\"frequency\": 11, \"value\": 1421}, \"1422\": {\"frequency\": 4, \"value\": 1422}, \"1423\": {\"frequency\": 4, \"value\": 1423}, \"1424\": {\"frequency\": 3, \"value\": 1424}, \"1425\": {\"frequency\": 10, \"value\": 1425}, \"1426\": {\"frequency\": 8, \"value\": 1426}, \"1427\": {\"frequency\": 5, \"value\": 1427}, \"1428\": {\"frequency\": 12, \"value\": 1428}, \"1429\": {\"frequency\": 4, \"value\": 1429}, \"1430\": {\"frequency\": 3, \"value\": 1430}, \"1431\": {\"frequency\": 5, \"value\": 1431}, \"1432\": {\"frequency\": 3, \"value\": 1432}, \"1433\": {\"frequency\": 2, \"value\": 1433}, \"1434\": {\"frequency\": 10, \"value\": 1434}, \"1435\": {\"frequency\": 7, \"value\": 1435}, \"1436\": {\"frequency\": 2, \"value\": 1436}, \"1437\": {\"frequency\": 9, \"value\": 1437}, \"1438\": {\"frequency\": 5, \"value\": 1438}, \"1439\": {\"frequency\": 8, \"value\": 1439}, \"1440\": {\"frequency\": 5, \"value\": 1440}, \"1441\": {\"frequency\": 7, \"value\": 1441}, \"1442\": {\"frequency\": 5, \"value\": 1442}, \"1443\": {\"frequency\": 4, \"value\": 1443}, \"1444\": {\"frequency\": 19, \"value\": 1444}, \"1445\": {\"frequency\": 4, \"value\": 1445}, \"1446\": {\"frequency\": 15, \"value\": 1446}, \"1447\": {\"frequency\": 1, \"value\": 1447}, \"1448\": {\"frequency\": 3, \"value\": 1448}, \"1449\": {\"frequency\": 8, \"value\": 1449}, \"1450\": {\"frequency\": 2, \"value\": 1450}, \"1451\": {\"frequency\": 15, \"value\": 1451}, \"1452\": {\"frequency\": 1, \"value\": 1452}, \"1453\": {\"frequency\": 1, \"value\": 1453}, \"1454\": {\"frequency\": 6, \"value\": 1454}, \"1455\": {\"frequency\": 2, \"value\": 1455}, \"1456\": {\"frequency\": 7, \"value\": 1456}, \"1457\": {\"frequency\": 1, \"value\": 1457}, \"1458\": {\"frequency\": 1, \"value\": 1458}, \"1459\": {\"frequency\": 7, \"value\": 1459}, \"1460\": {\"frequency\": 1, \"value\": 1460}, \"1461\": {\"frequency\": 1, \"value\": 1461}, \"1462\": {\"frequency\": 7, \"value\": 1462}, \"1463\": {\"frequency\": 3, \"value\": 1463}, \"1464\": {\"frequency\": 3, \"value\": 1464}, \"1465\": {\"frequency\": 3, \"value\": 1465}, \"1466\": {\"frequency\": 6, \"value\": 1466}, \"1467\": {\"frequency\": 2, \"value\": 1467}, \"1468\": {\"frequency\": 6, \"value\": 1468}, \"1469\": {\"frequency\": 12, \"value\": 1469}, \"1470\": {\"frequency\": 5, \"value\": 1470}, \"1471\": {\"frequency\": 9, \"value\": 1471}, \"1472\": {\"frequency\": 2, \"value\": 1472}, \"1473\": {\"frequency\": 9, \"value\": 1473}, \"1474\": {\"frequency\": 6, \"value\": 1474}, \"1475\": {\"frequency\": 8, \"value\": 1475}, \"1476\": {\"frequency\": 1, \"value\": 1476}, \"1477\": {\"frequency\": 2, \"value\": 1477}, \"1478\": {\"frequency\": 18, \"value\": 1478}, \"1479\": {\"frequency\": 8, \"value\": 1479}, \"1480\": {\"frequency\": 11, \"value\": 1480}, \"1481\": {\"frequency\": 2, \"value\": 1481}, \"1482\": {\"frequency\": 1, \"value\": 1482}, \"1483\": {\"frequency\": 12, \"value\": 1483}, \"1484\": {\"frequency\": 3, \"value\": 1484}, \"1485\": {\"frequency\": 4, \"value\": 1485}, \"1486\": {\"frequency\": 1, \"value\": 1486}, \"1487\": {\"frequency\": 5, \"value\": 1487}, \"1488\": {\"frequency\": 4, \"value\": 1488}, \"1489\": {\"frequency\": 5, \"value\": 1489}, \"1490\": {\"frequency\": 3, \"value\": 1490}, \"1491\": {\"frequency\": 2, \"value\": 1491}, \"1492\": {\"frequency\": 1, \"value\": 1492}, \"1493\": {\"frequency\": 1, \"value\": 1493}, \"1494\": {\"frequency\": 1, \"value\": 1494}, \"1495\": {\"frequency\": 5, \"value\": 1495}, \"1496\": {\"frequency\": 5, \"value\": 1496}, \"1497\": {\"frequency\": 2, \"value\": 1497}, \"1498\": {\"frequency\": 1, \"value\": 1498}, \"1499\": {\"frequency\": 4, \"value\": 1499}, \"1500\": {\"frequency\": 2, \"value\": 1500}, \"1501\": {\"frequency\": 5, \"value\": 1501}, \"1502\": {\"frequency\": 2, \"value\": 1502}, \"1503\": {\"frequency\": 10, \"value\": 1503}, \"1504\": {\"frequency\": 3, \"value\": 1504}, \"1505\": {\"frequency\": 1, \"value\": 1505}, \"1506\": {\"frequency\": 3, \"value\": 1506}, \"1507\": {\"frequency\": 1, \"value\": 1507}, \"1508\": {\"frequency\": 3, \"value\": 1508}, \"1509\": {\"frequency\": 5, \"value\": 1509}, \"1510\": {\"frequency\": 1, \"value\": 1510}, \"1511\": {\"frequency\": 5, \"value\": 1511}, \"1512\": {\"frequency\": 6, \"value\": 1512}, \"1513\": {\"frequency\": 3, \"value\": 1513}, \"1514\": {\"frequency\": 7, \"value\": 1514}, \"1515\": {\"frequency\": 1, \"value\": 1515}, \"1516\": {\"frequency\": 3, \"value\": 1516}, \"1517\": {\"frequency\": 5, \"value\": 1517}, \"1518\": {\"frequency\": 12, \"value\": 1518}, \"1519\": {\"frequency\": 2, \"value\": 1519}, \"1520\": {\"frequency\": 1, \"value\": 1520}, \"1521\": {\"frequency\": 4, \"value\": 1521}, \"1522\": {\"frequency\": 7, \"value\": 1522}, \"1523\": {\"frequency\": 2, \"value\": 1523}, \"1524\": {\"frequency\": 8, \"value\": 1524}, \"1525\": {\"frequency\": 1, \"value\": 1525}, \"1526\": {\"frequency\": 1, \"value\": 1526}, \"1527\": {\"frequency\": 7, \"value\": 1527}, \"1528\": {\"frequency\": 3, \"value\": 1528}, \"1529\": {\"frequency\": 5, \"value\": 1529}, \"1530\": {\"frequency\": 5, \"value\": 1530}, \"1531\": {\"frequency\": 7, \"value\": 1531}, \"1532\": {\"frequency\": 2, \"value\": 1532}, \"1533\": {\"frequency\": 1, \"value\": 1533}, \"1534\": {\"frequency\": 6, \"value\": 1534}, \"1535\": {\"frequency\": 4, \"value\": 1535}, \"1536\": {\"frequency\": 1, \"value\": 1536}, \"1537\": {\"frequency\": 4, \"value\": 1537}, \"1538\": {\"frequency\": 3, \"value\": 1538}, \"1539\": {\"frequency\": 4, \"value\": 1539}, \"1540\": {\"frequency\": 10, \"value\": 1540}, \"1541\": {\"frequency\": 2, \"value\": 1541}, \"1542\": {\"frequency\": 2, \"value\": 1542}, \"1543\": {\"frequency\": 1, \"value\": 1543}, \"1544\": {\"frequency\": 3, \"value\": 1544}, \"1545\": {\"frequency\": 4, \"value\": 1545}, \"1546\": {\"frequency\": 1, \"value\": 1546}, \"1547\": {\"frequency\": 2, \"value\": 1547}, \"1548\": {\"frequency\": 1, \"value\": 1548}, \"1549\": {\"frequency\": 2, \"value\": 1549}, \"1550\": {\"frequency\": 2, \"value\": 1550}, \"1551\": {\"frequency\": 2, \"value\": 1551}, \"1552\": {\"frequency\": 3, \"value\": 1552}, \"1553\": {\"frequency\": 4, \"value\": 1553}, \"1554\": {\"frequency\": 2, \"value\": 1554}, \"1555\": {\"frequency\": 5, \"value\": 1555}, \"1556\": {\"frequency\": 2, \"value\": 1556}, \"1557\": {\"frequency\": 1, \"value\": 1557}, \"1558\": {\"frequency\": 7, \"value\": 1558}, \"1559\": {\"frequency\": 1, \"value\": 1559}, \"1560\": {\"frequency\": 4, \"value\": 1560}, \"1561\": {\"frequency\": 1, \"value\": 1561}, \"1562\": {\"frequency\": 1, \"value\": 1562}, \"1563\": {\"frequency\": 1, \"value\": 1563}, \"1564\": {\"frequency\": 1, \"value\": 1564}, \"1565\": {\"frequency\": 1, \"value\": 1565}, \"1566\": {\"frequency\": 1, \"value\": 1566}, \"1567\": {\"frequency\": 1, \"value\": 1567}, \"1568\": {\"frequency\": 1, \"value\": 1568}, \"1569\": {\"frequency\": 1, \"value\": 1569}, \"1570\": {\"frequency\": 1, \"value\": 1570}, \"1571\": {\"frequency\": 1, \"value\": 1571}, \"1572\": {\"frequency\": 1, \"value\": 1572}, \"1573\": {\"frequency\": 2, \"value\": 1573}, \"1574\": {\"frequency\": 1, \"value\": 1574}, \"1575\": {\"frequency\": 1, \"value\": 1575}, \"1576\": {\"frequency\": 1, \"value\": 1576}, \"1577\": {\"frequency\": 1, \"value\": 1577}, \"1578\": {\"frequency\": 2, \"value\": 1578}, \"1579\": {\"frequency\": 1, \"value\": 1579}, \"1580\": {\"frequency\": 1, \"value\": 1580}, \"1581\": {\"frequency\": 1, \"value\": 1581}, \"1582\": {\"frequency\": 1, \"value\": 1582}, \"1583\": {\"frequency\": 1, \"value\": 1583}, \"1584\": {\"frequency\": 1, \"value\": 1584}, \"1585\": {\"frequency\": 2, \"value\": 1585}, \"1586\": {\"frequency\": 1, \"value\": 1586}, \"1587\": {\"frequency\": 1, \"value\": 1587}, \"1588\": {\"frequency\": 2, \"value\": 1588}, \"1589\": {\"frequency\": 4, \"value\": 1589}, \"1590\": {\"frequency\": 2, \"value\": 1590}, \"1591\": {\"frequency\": 6, \"value\": 1591}, \"1592\": {\"frequency\": 5, \"value\": 1592}, \"1593\": {\"frequency\": 1, \"value\": 1593}, \"1594\": {\"frequency\": 2, \"value\": 1594}, \"1595\": {\"frequency\": 1, \"value\": 1595}, \"1596\": {\"frequency\": 1, \"value\": 1596}, \"1597\": {\"frequency\": 5, \"value\": 1597}, \"1598\": {\"frequency\": 6, \"value\": 1598}, \"1599\": {\"frequency\": 1, \"value\": 1599}, \"1600\": {\"frequency\": 4, \"value\": 1600}, \"1601\": {\"frequency\": 1, \"value\": 1601}, \"1602\": {\"frequency\": 3, \"value\": 1602}, \"1603\": {\"frequency\": 1, \"value\": 1603}, \"1604\": {\"frequency\": 1, \"value\": 1604}, \"1605\": {\"frequency\": 4, \"value\": 1605}, \"1606\": {\"frequency\": 1, \"value\": 1606}, \"1607\": {\"frequency\": 3, \"value\": 1607}, \"1608\": {\"frequency\": 4, \"value\": 1608}, \"1609\": {\"frequency\": 3, \"value\": 1609}, \"1610\": {\"frequency\": 3, \"value\": 1610}, \"1611\": {\"frequency\": 2, \"value\": 1611}, \"1612\": {\"frequency\": 4, \"value\": 1612}, \"1613\": {\"frequency\": 1, \"value\": 1613}, \"1614\": {\"frequency\": 1, \"value\": 1614}, \"1615\": {\"frequency\": 10, \"value\": 1615}, \"1616\": {\"frequency\": 1, \"value\": 1616}, \"1617\": {\"frequency\": 2, \"value\": 1617}, \"1618\": {\"frequency\": 1, \"value\": 1618}, \"1619\": {\"frequency\": 1, \"value\": 1619}, \"1620\": {\"frequency\": 9, \"value\": 1620}, \"1621\": {\"frequency\": 1, \"value\": 1621}, \"1622\": {\"frequency\": 3, \"value\": 1622}, \"1623\": {\"frequency\": 3, \"value\": 1623}, \"1624\": {\"frequency\": 1, \"value\": 1624}, \"1625\": {\"frequency\": 1, \"value\": 1625}, \"1626\": {\"frequency\": 1, \"value\": 1626}, \"1627\": {\"frequency\": 1, \"value\": 1627}, \"1628\": {\"frequency\": 4, \"value\": 1628}, \"1629\": {\"frequency\": 2, \"value\": 1629}, \"1630\": {\"frequency\": 1, \"value\": 1630}, \"1631\": {\"frequency\": 2, \"value\": 1631}, \"1632\": {\"frequency\": 1, \"value\": 1632}, \"1633\": {\"frequency\": 1, \"value\": 1633}, \"1634\": {\"frequency\": 1, \"value\": 1634}, \"1635\": {\"frequency\": 1, \"value\": 1635}, \"1636\": {\"frequency\": 1, \"value\": 1636}, \"1637\": {\"frequency\": 1, \"value\": 1637}, \"1638\": {\"frequency\": 1, \"value\": 1638}, \"1639\": {\"frequency\": 3, \"value\": 1639}, \"1640\": {\"frequency\": 1, \"value\": 1640}, \"1641\": {\"frequency\": 1, \"value\": 1641}, \"1642\": {\"frequency\": 2, \"value\": 1642}, \"1643\": {\"frequency\": 4, \"value\": 1643}, \"1644\": {\"frequency\": 2, \"value\": 1644}, \"1645\": {\"frequency\": 1, \"value\": 1645}, \"1646\": {\"frequency\": 2, \"value\": 1646}, \"1647\": {\"frequency\": 1, \"value\": 1647}, \"1648\": {\"frequency\": 1, \"value\": 1648}, \"1649\": {\"frequency\": 1, \"value\": 1649}, \"1650\": {\"frequency\": 1, \"value\": 1650}, \"1651\": {\"frequency\": 1, \"value\": 1651}, \"1652\": {\"frequency\": 3, \"value\": 1652}, \"1653\": {\"frequency\": 1, \"value\": 1653}, \"1654\": {\"frequency\": 1, \"value\": 1654}, \"1655\": {\"frequency\": 1, \"value\": 1655}, \"1656\": {\"frequency\": 2, \"value\": 1656}, \"1657\": {\"frequency\": 1, \"value\": 1657}, \"1658\": {\"frequency\": 3, \"value\": 1658}, \"1659\": {\"frequency\": 1, \"value\": 1659}, \"1660\": {\"frequency\": 1, \"value\": 1660}, \"1661\": {\"frequency\": 1, \"value\": 1661}, \"1662\": {\"frequency\": 2, \"value\": 1662}, \"1663\": {\"frequency\": 1, \"value\": 1663}, \"1664\": {\"frequency\": 4, \"value\": 1664}, \"1665\": {\"frequency\": 1, \"value\": 1665}, \"1666\": {\"frequency\": 1, \"value\": 1666}, \"1667\": {\"frequency\": 1, \"value\": 1667}, \"1668\": {\"frequency\": 1, \"value\": 1668}, \"1669\": {\"frequency\": 1, \"value\": 1669}, \"1670\": {\"frequency\": 1, \"value\": 1670}, \"1671\": {\"frequency\": 1, \"value\": 1671}, \"1672\": {\"frequency\": 2, \"value\": 1672}, \"1673\": {\"frequency\": 1, \"value\": 1673}, \"1674\": {\"frequency\": 1, \"value\": 1674}, \"1675\": {\"frequency\": 1, \"value\": 1675}, \"1676\": {\"frequency\": 1, \"value\": 1676}, \"1677\": {\"frequency\": 1, \"value\": 1677}, \"1678\": {\"frequency\": 1, \"value\": 1678}, \"1679\": {\"frequency\": 1, \"value\": 1679}, \"1680\": {\"frequency\": 1, \"value\": 1680}, \"1681\": {\"frequency\": 1, \"value\": 1681}, \"1682\": {\"frequency\": 1, \"value\": 1682}}, \"mean\": 425.5301300000002}, \"rating\": {\"std\": 1.1256679707622514, \"complete\": true, \"min\": 1.0, \"max\": 5.0, \"quantile\": [1.0, 1.0, 1.0, 1.0, 1.0, 1.0, 1.0, 2.0, 2.0, 2.0, 2.0, 2.0, 2.0, 2.0, 2.0, 2.0, 2.0, 2.0, 3.0, 3.0, 3.0, 3.0, 3.0, 3.0, 3.0, 3.0, 3.0, 3.0, 3.0, 3.0, 3.0, 3.0, 3.0, 3.0, 3.0, 3.0, 3.0, 3.0, 3.0, 3.0, 3.0, 3.0, 3.0, 3.0, 3.0, 4.0, 4.0, 4.0, 4.0, 4.0, 4.0, 4.0, 4.0, 4.0, 4.0, 4.0, 4.0, 4.0, 4.0, 4.0, 4.0, 4.0, 4.0, 4.0, 4.0, 4.0, 4.0, 4.0, 4.0, 4.0, 4.0, 4.0, 4.0, 4.0, 4.0, 4.0, 4.0, 4.0, 4.0, 5.0, 5.0, 5.0, 5.0, 5.0, 5.0, 5.0, 5.0, 5.0, 5.0, 5.0, 5.0, 5.0, 5.0, 5.0, 5.0, 5.0, 5.0, 5.0, 5.0, 5.0, 5.0], \"median\": 4.0, \"numeric\": true, \"num_unique\": 5, \"num_undefined\": 0, \"var\": 1.2671283804000049, \"progress\": 1.0, \"size\": 100000, \"frequent_items\": {\"1\": {\"frequency\": 6110, \"value\": 1}, \"2\": {\"frequency\": 11370, \"value\": 2}, \"3\": {\"frequency\": 27145, \"value\": 3}, \"4\": {\"frequency\": 34174, \"value\": 4}, \"5\": {\"frequency\": 21201, \"value\": 5}}, \"mean\": 3.5298600000000007}, \"user_id\": {\"std\": 266.6130870520763, \"complete\": true, \"min\": 1.0, \"max\": 943.0, \"quantile\": [1.0, 7.0, 13.0, 19.0, 34.0, 45.0, 59.0, 64.0, 77.0, 87.0, 94.0, 100.0, 112.0, 125.0, 138.0, 151.0, 161.0, 178.0, 185.0, 194.0, 201.0, 214.0, 223.0, 234.0, 244.0, 254.0, 267.0, 271.0, 276.0, 286.0, 293.0, 298.0, 303.0, 308.0, 314.0, 325.0, 330.0, 339.0, 345.0, 354.0, 369.0, 378.0, 385.0, 392.0, 399.0, 405.0, 409.0, 417.0, 429.0, 435.0, 447.0, 453.0, 457.0, 468.0, 478.0, 487.0, 496.0, 504.0, 514.0, 526.0, 535.0, 540.0, 551.0, 561.0, 573.0, 587.0, 595.0, 608.0, 621.0, 630.0, 642.0, 648.0, 655.0, 660.0, 668.0, 682.0, 695.0, 708.0, 716.0, 727.0, 745.0, 752.0, 762.0, 774.0, 787.0, 796.0, 805.0, 818.0, 831.0, 843.0, 848.0, 863.0, 870.0, 880.0, 886.0, 893.0, 899.0, 913.0, 922.0, 933.0, 943.0], \"median\": 447.0, \"numeric\": true, \"num_unique\": 936, \"num_undefined\": 0, \"var\": 71082.53818743803, \"progress\": 1.0, \"size\": 100000, \"frequent_items\": {\"1\": {\"frequency\": 272, \"value\": 1}, \"2\": {\"frequency\": 62, \"value\": 2}, \"3\": {\"frequency\": 54, \"value\": 3}, \"4\": {\"frequency\": 24, \"value\": 4}, \"5\": {\"frequency\": 175, \"value\": 5}, \"6\": {\"frequency\": 211, \"value\": 6}, \"7\": {\"frequency\": 403, \"value\": 7}, \"8\": {\"frequency\": 59, \"value\": 8}, \"9\": {\"frequency\": 22, \"value\": 9}, \"10\": {\"frequency\": 184, \"value\": 10}, \"11\": {\"frequency\": 181, \"value\": 11}, \"12\": {\"frequency\": 51, \"value\": 12}, \"13\": {\"frequency\": 636, \"value\": 13}, \"14\": {\"frequency\": 98, \"value\": 14}, \"15\": {\"frequency\": 104, \"value\": 15}, \"16\": {\"frequency\": 140, \"value\": 16}, \"17\": {\"frequency\": 28, \"value\": 17}, \"18\": {\"frequency\": 277, \"value\": 18}, \"19\": {\"frequency\": 20, \"value\": 19}, \"20\": {\"frequency\": 48, \"value\": 20}, \"21\": {\"frequency\": 179, \"value\": 21}, \"22\": {\"frequency\": 128, \"value\": 22}, \"23\": {\"frequency\": 151, \"value\": 23}, \"24\": {\"frequency\": 68, \"value\": 24}, \"25\": {\"frequency\": 78, \"value\": 25}, \"26\": {\"frequency\": 107, \"value\": 26}, \"27\": {\"frequency\": 25, \"value\": 27}, \"28\": {\"frequency\": 79, \"value\": 28}, \"29\": {\"frequency\": 34, \"value\": 29}, \"30\": {\"frequency\": 43, \"value\": 30}, \"31\": {\"frequency\": 36, \"value\": 31}, \"32\": {\"frequency\": 41, \"value\": 32}, \"33\": {\"frequency\": 24, \"value\": 33}, \"34\": {\"frequency\": 20, \"value\": 34}, \"35\": {\"frequency\": 25, \"value\": 35}, \"36\": {\"frequency\": 20, \"value\": 36}, \"37\": {\"frequency\": 57, \"value\": 37}, \"38\": {\"frequency\": 121, \"value\": 38}, \"39\": {\"frequency\": 22, \"value\": 39}, \"40\": {\"frequency\": 35, \"value\": 40}, \"41\": {\"frequency\": 52, \"value\": 41}, \"42\": {\"frequency\": 183, \"value\": 42}, \"43\": {\"frequency\": 221, \"value\": 43}, \"44\": {\"frequency\": 151, \"value\": 44}, \"45\": {\"frequency\": 48, \"value\": 45}, \"46\": {\"frequency\": 27, \"value\": 46}, \"47\": {\"frequency\": 25, \"value\": 47}, \"48\": {\"frequency\": 66, \"value\": 48}, \"49\": {\"frequency\": 215, \"value\": 49}, \"50\": {\"frequency\": 24, \"value\": 50}, \"51\": {\"frequency\": 23, \"value\": 51}, \"52\": {\"frequency\": 56, \"value\": 52}, \"53\": {\"frequency\": 28, \"value\": 53}, \"54\": {\"frequency\": 65, \"value\": 54}, \"55\": {\"frequency\": 21, \"value\": 55}, \"56\": {\"frequency\": 187, \"value\": 56}, \"57\": {\"frequency\": 106, \"value\": 57}, \"58\": {\"frequency\": 154, \"value\": 58}, \"59\": {\"frequency\": 382, \"value\": 59}, \"60\": {\"frequency\": 208, \"value\": 60}, \"61\": {\"frequency\": 21, \"value\": 61}, \"62\": {\"frequency\": 232, \"value\": 62}, \"63\": {\"frequency\": 93, \"value\": 63}, \"64\": {\"frequency\": 200, \"value\": 64}, \"65\": {\"frequency\": 80, \"value\": 65}, \"66\": {\"frequency\": 38, \"value\": 66}, \"67\": {\"frequency\": 30, \"value\": 67}, \"68\": {\"frequency\": 34, \"value\": 68}, \"69\": {\"frequency\": 65, \"value\": 69}, \"70\": {\"frequency\": 131, \"value\": 70}, \"71\": {\"frequency\": 38, \"value\": 71}, \"72\": {\"frequency\": 137, \"value\": 72}, \"73\": {\"frequency\": 66, \"value\": 73}, \"74\": {\"frequency\": 39, \"value\": 74}, \"75\": {\"frequency\": 79, \"value\": 75}, \"76\": {\"frequency\": 82, \"value\": 76}, \"77\": {\"frequency\": 72, \"value\": 77}, \"78\": {\"frequency\": 21, \"value\": 78}, \"79\": {\"frequency\": 55, \"value\": 79}, \"80\": {\"frequency\": 29, \"value\": 80}, \"81\": {\"frequency\": 58, \"value\": 81}, \"82\": {\"frequency\": 168, \"value\": 82}, \"83\": {\"frequency\": 155, \"value\": 83}, \"84\": {\"frequency\": 68, \"value\": 84}, \"85\": {\"frequency\": 288, \"value\": 85}, \"86\": {\"frequency\": 23, \"value\": 86}, \"87\": {\"frequency\": 211, \"value\": 87}, \"88\": {\"frequency\": 21, \"value\": 88}, \"89\": {\"frequency\": 76, \"value\": 89}, \"90\": {\"frequency\": 300, \"value\": 90}, \"91\": {\"frequency\": 98, \"value\": 91}, \"92\": {\"frequency\": 388, \"value\": 92}, \"93\": {\"frequency\": 20, \"value\": 93}, \"94\": {\"frequency\": 400, \"value\": 94}, \"95\": {\"frequency\": 278, \"value\": 95}, \"96\": {\"frequency\": 56, \"value\": 96}, \"97\": {\"frequency\": 63, \"value\": 97}, \"98\": {\"frequency\": 27, \"value\": 98}, \"99\": {\"frequency\": 136, \"value\": 99}, \"100\": {\"frequency\": 59, \"value\": 100}, \"101\": {\"frequency\": 67, \"value\": 101}, \"102\": {\"frequency\": 216, \"value\": 102}, \"103\": {\"frequency\": 29, \"value\": 103}, \"104\": {\"frequency\": 111, \"value\": 104}, \"105\": {\"frequency\": 23, \"value\": 105}, \"106\": {\"frequency\": 64, \"value\": 106}, \"107\": {\"frequency\": 22, \"value\": 107}, \"108\": {\"frequency\": 33, \"value\": 108}, \"109\": {\"frequency\": 234, \"value\": 109}, \"110\": {\"frequency\": 133, \"value\": 110}, \"111\": {\"frequency\": 24, \"value\": 111}, \"112\": {\"frequency\": 46, \"value\": 112}, \"113\": {\"frequency\": 51, \"value\": 113}, \"114\": {\"frequency\": 48, \"value\": 114}, \"115\": {\"frequency\": 92, \"value\": 115}, \"116\": {\"frequency\": 143, \"value\": 116}, \"117\": {\"frequency\": 86, \"value\": 117}, \"118\": {\"frequency\": 71, \"value\": 118}, \"119\": {\"frequency\": 181, \"value\": 119}, \"120\": {\"frequency\": 26, \"value\": 120}, \"121\": {\"frequency\": 74, \"value\": 121}, \"122\": {\"frequency\": 61, \"value\": 122}, \"123\": {\"frequency\": 54, \"value\": 123}, \"124\": {\"frequency\": 24, \"value\": 124}, \"125\": {\"frequency\": 182, \"value\": 125}, \"126\": {\"frequency\": 45, \"value\": 126}, \"127\": {\"frequency\": 23, \"value\": 127}, \"128\": {\"frequency\": 184, \"value\": 128}, \"129\": {\"frequency\": 30, \"value\": 129}, \"130\": {\"frequency\": 353, \"value\": 130}, \"131\": {\"frequency\": 30, \"value\": 131}, \"132\": {\"frequency\": 22, \"value\": 132}, \"133\": {\"frequency\": 26, \"value\": 133}, \"134\": {\"frequency\": 25, \"value\": 134}, \"135\": {\"frequency\": 55, \"value\": 135}, \"136\": {\"frequency\": 35, \"value\": 136}, \"137\": {\"frequency\": 47, \"value\": 137}, \"138\": {\"frequency\": 51, \"value\": 138}, \"139\": {\"frequency\": 24, \"value\": 139}, \"140\": {\"frequency\": 21, \"value\": 140}, \"141\": {\"frequency\": 107, \"value\": 141}, \"142\": {\"frequency\": 33, \"value\": 142}, \"143\": {\"frequency\": 20, \"value\": 143}, \"144\": {\"frequency\": 206, \"value\": 144}, \"145\": {\"frequency\": 316, \"value\": 145}, \"146\": {\"frequency\": 29, \"value\": 146}, \"147\": {\"frequency\": 20, \"value\": 147}, \"148\": {\"frequency\": 65, \"value\": 148}, \"149\": {\"frequency\": 36, \"value\": 149}, \"150\": {\"frequency\": 32, \"value\": 150}, \"151\": {\"frequency\": 307, \"value\": 151}, \"152\": {\"frequency\": 106, \"value\": 152}, \"153\": {\"frequency\": 23, \"value\": 153}, \"154\": {\"frequency\": 51, \"value\": 154}, \"155\": {\"frequency\": 22, \"value\": 155}, \"156\": {\"frequency\": 37, \"value\": 156}, \"157\": {\"frequency\": 51, \"value\": 157}, \"158\": {\"frequency\": 173, \"value\": 158}, \"159\": {\"frequency\": 107, \"value\": 159}, \"160\": {\"frequency\": 120, \"value\": 160}, \"161\": {\"frequency\": 58, \"value\": 161}, \"162\": {\"frequency\": 42, \"value\": 162}, \"163\": {\"frequency\": 23, \"value\": 163}, \"164\": {\"frequency\": 63, \"value\": 164}, \"165\": {\"frequency\": 30, \"value\": 165}, \"166\": {\"frequency\": 20, \"value\": 166}, \"167\": {\"frequency\": 69, \"value\": 167}, \"168\": {\"frequency\": 69, \"value\": 168}, \"169\": {\"frequency\": 37, \"value\": 169}, \"170\": {\"frequency\": 22, \"value\": 170}, \"171\": {\"frequency\": 28, \"value\": 171}, \"172\": {\"frequency\": 27, \"value\": 172}, \"173\": {\"frequency\": 43, \"value\": 173}, \"174\": {\"frequency\": 177, \"value\": 174}, \"175\": {\"frequency\": 38, \"value\": 175}, \"176\": {\"frequency\": 63, \"value\": 176}, \"177\": {\"frequency\": 115, \"value\": 177}, \"178\": {\"frequency\": 273, \"value\": 178}, \"179\": {\"frequency\": 42, \"value\": 179}, \"180\": {\"frequency\": 63, \"value\": 180}, \"181\": {\"frequency\": 435, \"value\": 181}, \"182\": {\"frequency\": 28, \"value\": 182}, \"183\": {\"frequency\": 53, \"value\": 183}, \"184\": {\"frequency\": 251, \"value\": 184}, \"185\": {\"frequency\": 48, \"value\": 185}, \"186\": {\"frequency\": 92, \"value\": 186}, \"187\": {\"frequency\": 56, \"value\": 187}, \"188\": {\"frequency\": 112, \"value\": 188}, \"189\": {\"frequency\": 187, \"value\": 189}, \"190\": {\"frequency\": 59, \"value\": 190}, \"191\": {\"frequency\": 27, \"value\": 191}, \"192\": {\"frequency\": 35, \"value\": 192}, \"193\": {\"frequency\": 121, \"value\": 193}, \"194\": {\"frequency\": 305, \"value\": 194}, \"195\": {\"frequency\": 96, \"value\": 195}, \"196\": {\"frequency\": 39, \"value\": 196}, \"197\": {\"frequency\": 118, \"value\": 197}, \"198\": {\"frequency\": 181, \"value\": 198}, \"199\": {\"frequency\": 40, \"value\": 199}, \"200\": {\"frequency\": 216, \"value\": 200}, \"201\": {\"frequency\": 386, \"value\": 201}, \"202\": {\"frequency\": 20, \"value\": 202}, \"203\": {\"frequency\": 43, \"value\": 203}, \"204\": {\"frequency\": 42, \"value\": 204}, \"205\": {\"frequency\": 22, \"value\": 205}, \"206\": {\"frequency\": 64, \"value\": 206}, \"207\": {\"frequency\": 230, \"value\": 207}, \"208\": {\"frequency\": 33, \"value\": 208}, \"209\": {\"frequency\": 33, \"value\": 209}, \"210\": {\"frequency\": 132, \"value\": 210}, \"211\": {\"frequency\": 37, \"value\": 211}, \"212\": {\"frequency\": 25, \"value\": 212}, \"213\": {\"frequency\": 126, \"value\": 213}, \"214\": {\"frequency\": 128, \"value\": 214}, \"215\": {\"frequency\": 93, \"value\": 215}, \"216\": {\"frequency\": 131, \"value\": 216}, \"217\": {\"frequency\": 76, \"value\": 217}, \"218\": {\"frequency\": 53, \"value\": 218}, \"219\": {\"frequency\": 28, \"value\": 219}, \"220\": {\"frequency\": 22, \"value\": 220}, \"221\": {\"frequency\": 146, \"value\": 221}, \"222\": {\"frequency\": 387, \"value\": 222}, \"223\": {\"frequency\": 105, \"value\": 223}, \"224\": {\"frequency\": 141, \"value\": 224}, \"225\": {\"frequency\": 27, \"value\": 225}, \"226\": {\"frequency\": 50, \"value\": 226}, \"227\": {\"frequency\": 58, \"value\": 227}, \"228\": {\"frequency\": 21, \"value\": 228}, \"229\": {\"frequency\": 30, \"value\": 229}, \"230\": {\"frequency\": 133, \"value\": 230}, \"231\": {\"frequency\": 21, \"value\": 231}, \"232\": {\"frequency\": 93, \"value\": 232}, \"233\": {\"frequency\": 110, \"value\": 233}, \"234\": {\"frequency\": 480, \"value\": 234}, \"235\": {\"frequency\": 94, \"value\": 235}, \"236\": {\"frequency\": 124, \"value\": 236}, \"237\": {\"frequency\": 48, \"value\": 237}, \"238\": {\"frequency\": 29, \"value\": 238}, \"239\": {\"frequency\": 159, \"value\": 239}, \"240\": {\"frequency\": 24, \"value\": 240}, \"241\": {\"frequency\": 23, \"value\": 241}, \"242\": {\"frequency\": 20, \"value\": 242}, \"243\": {\"frequency\": 81, \"value\": 243}, \"244\": {\"frequency\": 238, \"value\": 244}, \"245\": {\"frequency\": 22, \"value\": 245}, \"246\": {\"frequency\": 195, \"value\": 246}, \"247\": {\"frequency\": 26, \"value\": 247}, \"248\": {\"frequency\": 56, \"value\": 248}, \"249\": {\"frequency\": 161, \"value\": 249}, \"250\": {\"frequency\": 122, \"value\": 250}, \"251\": {\"frequency\": 77, \"value\": 251}, \"252\": {\"frequency\": 21, \"value\": 252}, \"253\": {\"frequency\": 97, \"value\": 253}, \"254\": {\"frequency\": 159, \"value\": 254}, \"255\": {\"frequency\": 83, \"value\": 255}, \"256\": {\"frequency\": 207, \"value\": 256}, \"257\": {\"frequency\": 57, \"value\": 257}, \"258\": {\"frequency\": 23, \"value\": 258}, \"259\": {\"frequency\": 46, \"value\": 259}, \"260\": {\"frequency\": 24, \"value\": 260}, \"261\": {\"frequency\": 27, \"value\": 261}, \"262\": {\"frequency\": 160, \"value\": 262}, \"263\": {\"frequency\": 123, \"value\": 263}, \"264\": {\"frequency\": 120, \"value\": 264}, \"265\": {\"frequency\": 46, \"value\": 265}, \"266\": {\"frequency\": 23, \"value\": 266}, \"267\": {\"frequency\": 185, \"value\": 267}, \"268\": {\"frequency\": 328, \"value\": 268}, \"269\": {\"frequency\": 323, \"value\": 269}, \"270\": {\"frequency\": 138, \"value\": 270}, \"271\": {\"frequency\": 278, \"value\": 271}, \"272\": {\"frequency\": 51, \"value\": 272}, \"273\": {\"frequency\": 22, \"value\": 273}, \"274\": {\"frequency\": 71, \"value\": 274}, \"275\": {\"frequency\": 95, \"value\": 275}, \"276\": {\"frequency\": 518, \"value\": 276}, \"277\": {\"frequency\": 54, \"value\": 277}, \"278\": {\"frequency\": 23, \"value\": 278}, \"279\": {\"frequency\": 434, \"value\": 279}, \"280\": {\"frequency\": 258, \"value\": 280}, \"281\": {\"frequency\": 26, \"value\": 281}, \"282\": {\"frequency\": 22, \"value\": 282}, \"283\": {\"frequency\": 53, \"value\": 283}, \"284\": {\"frequency\": 47, \"value\": 284}, \"285\": {\"frequency\": 32, \"value\": 285}, \"286\": {\"frequency\": 288, \"value\": 286}, \"287\": {\"frequency\": 62, \"value\": 287}, \"288\": {\"frequency\": 75, \"value\": 288}, \"289\": {\"frequency\": 27, \"value\": 289}, \"290\": {\"frequency\": 150, \"value\": 290}, \"291\": {\"frequency\": 296, \"value\": 291}, \"292\": {\"frequency\": 124, \"value\": 292}, \"293\": {\"frequency\": 388, \"value\": 293}, \"294\": {\"frequency\": 150, \"value\": 294}, \"295\": {\"frequency\": 196, \"value\": 295}, \"296\": {\"frequency\": 147, \"value\": 296}, \"297\": {\"frequency\": 192, \"value\": 297}, \"298\": {\"frequency\": 127, \"value\": 298}, \"299\": {\"frequency\": 280, \"value\": 299}, \"300\": {\"frequency\": 20, \"value\": 300}, \"301\": {\"frequency\": 275, \"value\": 301}, \"302\": {\"frequency\": 21, \"value\": 302}, \"303\": {\"frequency\": 484, \"value\": 303}, \"304\": {\"frequency\": 26, \"value\": 304}, \"305\": {\"frequency\": 222, \"value\": 305}, \"306\": {\"frequency\": 32, \"value\": 306}, \"307\": {\"frequency\": 112, \"value\": 307}, \"308\": {\"frequency\": 397, \"value\": 308}, \"309\": {\"frequency\": 20, \"value\": 309}, \"310\": {\"frequency\": 21, \"value\": 310}, \"311\": {\"frequency\": 294, \"value\": 311}, \"312\": {\"frequency\": 223, \"value\": 312}, \"313\": {\"frequency\": 262, \"value\": 313}, \"314\": {\"frequency\": 245, \"value\": 314}, \"315\": {\"frequency\": 87, \"value\": 315}, \"316\": {\"frequency\": 75, \"value\": 316}, \"317\": {\"frequency\": 22, \"value\": 317}, \"318\": {\"frequency\": 174, \"value\": 318}, \"319\": {\"frequency\": 23, \"value\": 319}, \"320\": {\"frequency\": 154, \"value\": 320}, \"321\": {\"frequency\": 125, \"value\": 321}, \"322\": {\"frequency\": 51, \"value\": 322}, \"323\": {\"frequency\": 89, \"value\": 323}, \"324\": {\"frequency\": 66, \"value\": 324}, \"325\": {\"frequency\": 142, \"value\": 325}, \"326\": {\"frequency\": 187, \"value\": 326}, \"327\": {\"frequency\": 284, \"value\": 327}, \"328\": {\"frequency\": 283, \"value\": 328}, \"329\": {\"frequency\": 65, \"value\": 329}, \"330\": {\"frequency\": 147, \"value\": 330}, \"331\": {\"frequency\": 70, \"value\": 331}, \"332\": {\"frequency\": 183, \"value\": 332}, \"333\": {\"frequency\": 26, \"value\": 333}, \"334\": {\"frequency\": 333, \"value\": 334}, \"335\": {\"frequency\": 22, \"value\": 335}, \"336\": {\"frequency\": 130, \"value\": 336}, \"337\": {\"frequency\": 34, \"value\": 337}, \"338\": {\"frequency\": 75, \"value\": 338}, \"339\": {\"frequency\": 254, \"value\": 339}, \"340\": {\"frequency\": 44, \"value\": 340}, \"341\": {\"frequency\": 21, \"value\": 341}, \"342\": {\"frequency\": 201, \"value\": 342}, \"343\": {\"frequency\": 237, \"value\": 343}, \"344\": {\"frequency\": 190, \"value\": 344}, \"345\": {\"frequency\": 232, \"value\": 345}, \"346\": {\"frequency\": 193, \"value\": 346}, \"347\": {\"frequency\": 199, \"value\": 347}, \"348\": {\"frequency\": 58, \"value\": 348}, \"349\": {\"frequency\": 41, \"value\": 349}, \"350\": {\"frequency\": 50, \"value\": 350}, \"351\": {\"frequency\": 44, \"value\": 351}, \"352\": {\"frequency\": 42, \"value\": 352}, \"353\": {\"frequency\": 25, \"value\": 353}, \"354\": {\"frequency\": 233, \"value\": 354}, \"355\": {\"frequency\": 26, \"value\": 355}, \"356\": {\"frequency\": 24, \"value\": 356}, \"357\": {\"frequency\": 76, \"value\": 357}, \"358\": {\"frequency\": 43, \"value\": 358}, \"359\": {\"frequency\": 27, \"value\": 359}, \"360\": {\"frequency\": 102, \"value\": 360}, \"361\": {\"frequency\": 121, \"value\": 361}, \"362\": {\"frequency\": 25, \"value\": 362}, \"363\": {\"frequency\": 311, \"value\": 363}, \"364\": {\"frequency\": 20, \"value\": 364}, \"365\": {\"frequency\": 58, \"value\": 365}, \"366\": {\"frequency\": 33, \"value\": 366}, \"367\": {\"frequency\": 58, \"value\": 367}, \"368\": {\"frequency\": 45, \"value\": 368}, \"369\": {\"frequency\": 22, \"value\": 369}, \"370\": {\"frequency\": 75, \"value\": 370}, \"371\": {\"frequency\": 51, \"value\": 371}, \"372\": {\"frequency\": 66, \"value\": 372}, \"373\": {\"frequency\": 233, \"value\": 373}, \"374\": {\"frequency\": 274, \"value\": 374}, \"375\": {\"frequency\": 28, \"value\": 375}, \"376\": {\"frequency\": 30, \"value\": 376}, \"377\": {\"frequency\": 33, \"value\": 377}, \"378\": {\"frequency\": 375, \"value\": 378}, \"379\": {\"frequency\": 196, \"value\": 379}, \"380\": {\"frequency\": 162, \"value\": 380}, \"381\": {\"frequency\": 127, \"value\": 381}, \"382\": {\"frequency\": 53, \"value\": 382}, \"383\": {\"frequency\": 71, \"value\": 383}, \"384\": {\"frequency\": 22, \"value\": 384}, \"385\": {\"frequency\": 281, \"value\": 385}, \"386\": {\"frequency\": 23, \"value\": 386}, \"387\": {\"frequency\": 304, \"value\": 387}, \"388\": {\"frequency\": 52, \"value\": 388}, \"389\": {\"frequency\": 271, \"value\": 389}, \"390\": {\"frequency\": 31, \"value\": 390}, \"391\": {\"frequency\": 121, \"value\": 391}, \"392\": {\"frequency\": 111, \"value\": 392}, \"393\": {\"frequency\": 448, \"value\": 393}, \"394\": {\"frequency\": 149, \"value\": 394}, \"395\": {\"frequency\": 57, \"value\": 395}, \"396\": {\"frequency\": 54, \"value\": 396}, \"397\": {\"frequency\": 102, \"value\": 397}, \"398\": {\"frequency\": 172, \"value\": 398}, \"399\": {\"frequency\": 319, \"value\": 399}, \"400\": {\"frequency\": 22, \"value\": 400}, \"401\": {\"frequency\": 153, \"value\": 401}, \"402\": {\"frequency\": 68, \"value\": 402}, \"403\": {\"frequency\": 50, \"value\": 403}, \"404\": {\"frequency\": 44, \"value\": 404}, \"405\": {\"frequency\": 737, \"value\": 405}, \"406\": {\"frequency\": 342, \"value\": 406}, \"407\": {\"frequency\": 226, \"value\": 407}, \"408\": {\"frequency\": 27, \"value\": 408}, \"409\": {\"frequency\": 203, \"value\": 409}, \"410\": {\"frequency\": 28, \"value\": 410}, \"411\": {\"frequency\": 58, \"value\": 411}, \"412\": {\"frequency\": 51, \"value\": 412}, \"413\": {\"frequency\": 50, \"value\": 413}, \"414\": {\"frequency\": 25, \"value\": 414}, \"415\": {\"frequency\": 24, \"value\": 415}, \"416\": {\"frequency\": 493, \"value\": 416}, \"417\": {\"frequency\": 365, \"value\": 417}, \"418\": {\"frequency\": 20, \"value\": 418}, \"419\": {\"frequency\": 32, \"value\": 419}, \"420\": {\"frequency\": 36, \"value\": 420}, \"421\": {\"frequency\": 62, \"value\": 421}, \"422\": {\"frequency\": 97, \"value\": 422}, \"423\": {\"frequency\": 64, \"value\": 423}, \"424\": {\"frequency\": 44, \"value\": 424}, \"425\": {\"frequency\": 204, \"value\": 425}, \"426\": {\"frequency\": 101, \"value\": 426}, \"427\": {\"frequency\": 31, \"value\": 427}, \"428\": {\"frequency\": 55, \"value\": 428}, \"429\": {\"frequency\": 414, \"value\": 429}, \"430\": {\"frequency\": 65, \"value\": 430}, \"431\": {\"frequency\": 21, \"value\": 431}, \"432\": {\"frequency\": 62, \"value\": 432}, \"433\": {\"frequency\": 41, \"value\": 433}, \"434\": {\"frequency\": 44, \"value\": 434}, \"435\": {\"frequency\": 379, \"value\": 435}, \"436\": {\"frequency\": 145, \"value\": 436}, \"437\": {\"frequency\": 263, \"value\": 437}, \"438\": {\"frequency\": 33, \"value\": 438}, \"439\": {\"frequency\": 31, \"value\": 439}, \"440\": {\"frequency\": 51, \"value\": 440}, \"441\": {\"frequency\": 20, \"value\": 441}, \"442\": {\"frequency\": 143, \"value\": 442}, \"443\": {\"frequency\": 24, \"value\": 443}, \"444\": {\"frequency\": 24, \"value\": 444}, \"445\": {\"frequency\": 135, \"value\": 445}, \"446\": {\"frequency\": 36, \"value\": 446}, \"447\": {\"frequency\": 139, \"value\": 447}, \"448\": {\"frequency\": 38, \"value\": 448}, \"449\": {\"frequency\": 75, \"value\": 449}, \"450\": {\"frequency\": 540, \"value\": 450}, \"451\": {\"frequency\": 98, \"value\": 451}, \"452\": {\"frequency\": 206, \"value\": 452}, \"453\": {\"frequency\": 156, \"value\": 453}, \"454\": {\"frequency\": 236, \"value\": 454}, \"455\": {\"frequency\": 189, \"value\": 455}, \"456\": {\"frequency\": 217, \"value\": 456}, \"457\": {\"frequency\": 277, \"value\": 457}, \"458\": {\"frequency\": 183, \"value\": 458}, \"459\": {\"frequency\": 118, \"value\": 459}, \"460\": {\"frequency\": 68, \"value\": 460}, \"461\": {\"frequency\": 23, \"value\": 461}, \"462\": {\"frequency\": 33, \"value\": 462}, \"463\": {\"frequency\": 133, \"value\": 463}, \"464\": {\"frequency\": 53, \"value\": 464}, \"465\": {\"frequency\": 80, \"value\": 465}, \"466\": {\"frequency\": 101, \"value\": 466}, \"467\": {\"frequency\": 44, \"value\": 467}, \"468\": {\"frequency\": 143, \"value\": 468}, \"469\": {\"frequency\": 43, \"value\": 469}, \"470\": {\"frequency\": 57, \"value\": 470}, \"471\": {\"frequency\": 31, \"value\": 471}, \"472\": {\"frequency\": 263, \"value\": 472}, \"473\": {\"frequency\": 35, \"value\": 473}, \"474\": {\"frequency\": 327, \"value\": 474}, \"475\": {\"frequency\": 20, \"value\": 475}, \"476\": {\"frequency\": 83, \"value\": 476}, \"477\": {\"frequency\": 35, \"value\": 477}, \"478\": {\"frequency\": 113, \"value\": 478}, \"479\": {\"frequency\": 202, \"value\": 479}, \"480\": {\"frequency\": 60, \"value\": 480}, \"481\": {\"frequency\": 56, \"value\": 481}, \"482\": {\"frequency\": 26, \"value\": 482}, \"483\": {\"frequency\": 59, \"value\": 483}, \"484\": {\"frequency\": 139, \"value\": 484}, \"485\": {\"frequency\": 26, \"value\": 485}, \"486\": {\"frequency\": 189, \"value\": 486}, \"487\": {\"frequency\": 231, \"value\": 487}, \"488\": {\"frequency\": 154, \"value\": 488}, \"489\": {\"frequency\": 109, \"value\": 489}, \"490\": {\"frequency\": 57, \"value\": 490}, \"491\": {\"frequency\": 33, \"value\": 491}, \"492\": {\"frequency\": 55, \"value\": 492}, \"493\": {\"frequency\": 135, \"value\": 493}, \"494\": {\"frequency\": 47, \"value\": 494}, \"495\": {\"frequency\": 213, \"value\": 495}, \"496\": {\"frequency\": 129, \"value\": 496}, \"497\": {\"frequency\": 279, \"value\": 497}, \"498\": {\"frequency\": 149, \"value\": 498}, \"499\": {\"frequency\": 102, \"value\": 499}, \"500\": {\"frequency\": 225, \"value\": 500}, \"501\": {\"frequency\": 73, \"value\": 501}, \"502\": {\"frequency\": 37, \"value\": 502}, \"503\": {\"frequency\": 160, \"value\": 503}, \"504\": {\"frequency\": 251, \"value\": 504}, \"505\": {\"frequency\": 112, \"value\": 505}, \"506\": {\"frequency\": 242, \"value\": 506}, \"507\": {\"frequency\": 58, \"value\": 507}, \"508\": {\"frequency\": 87, \"value\": 508}, \"509\": {\"frequency\": 33, \"value\": 509}, \"510\": {\"frequency\": 30, \"value\": 510}, \"511\": {\"frequency\": 24, \"value\": 511}, \"512\": {\"frequency\": 21, \"value\": 512}, \"513\": {\"frequency\": 22, \"value\": 513}, \"514\": {\"frequency\": 194, \"value\": 514}, \"515\": {\"frequency\": 40, \"value\": 515}, \"516\": {\"frequency\": 21, \"value\": 516}, \"517\": {\"frequency\": 37, \"value\": 517}, \"518\": {\"frequency\": 73, \"value\": 518}, \"519\": {\"frequency\": 49, \"value\": 519}, \"520\": {\"frequency\": 23, \"value\": 520}, \"521\": {\"frequency\": 150, \"value\": 521}, \"522\": {\"frequency\": 30, \"value\": 522}, \"523\": {\"frequency\": 100, \"value\": 523}, \"524\": {\"frequency\": 306, \"value\": 524}, \"525\": {\"frequency\": 54, \"value\": 525}, \"526\": {\"frequency\": 68, \"value\": 526}, \"527\": {\"frequency\": 137, \"value\": 527}, \"528\": {\"frequency\": 53, \"value\": 528}, \"529\": {\"frequency\": 43, \"value\": 529}, \"530\": {\"frequency\": 45, \"value\": 530}, \"531\": {\"frequency\": 30, \"value\": 531}, \"532\": {\"frequency\": 274, \"value\": 532}, \"533\": {\"frequency\": 260, \"value\": 533}, \"534\": {\"frequency\": 80, \"value\": 534}, \"535\": {\"frequency\": 218, \"value\": 535}, \"536\": {\"frequency\": 163, \"value\": 536}, \"537\": {\"frequency\": 490, \"value\": 537}, \"538\": {\"frequency\": 81, \"value\": 538}, \"539\": {\"frequency\": 56, \"value\": 539}, \"540\": {\"frequency\": 63, \"value\": 540}, \"541\": {\"frequency\": 133, \"value\": 541}, \"542\": {\"frequency\": 135, \"value\": 542}, \"543\": {\"frequency\": 197, \"value\": 543}, \"544\": {\"frequency\": 31, \"value\": 544}, \"545\": {\"frequency\": 162, \"value\": 545}, \"546\": {\"frequency\": 59, \"value\": 546}, \"547\": {\"frequency\": 23, \"value\": 547}, \"548\": {\"frequency\": 155, \"value\": 548}, \"549\": {\"frequency\": 25, \"value\": 549}, \"550\": {\"frequency\": 40, \"value\": 550}, \"551\": {\"frequency\": 334, \"value\": 551}, \"552\": {\"frequency\": 84, \"value\": 552}, \"553\": {\"frequency\": 100, \"value\": 553}, \"554\": {\"frequency\": 114, \"value\": 554}, \"555\": {\"frequency\": 52, \"value\": 555}, \"556\": {\"frequency\": 44, \"value\": 556}, \"557\": {\"frequency\": 53, \"value\": 557}, \"558\": {\"frequency\": 20, \"value\": 558}, \"559\": {\"frequency\": 76, \"value\": 559}, \"560\": {\"frequency\": 101, \"value\": 560}, \"561\": {\"frequency\": 357, \"value\": 561}, \"562\": {\"frequency\": 72, \"value\": 562}, \"563\": {\"frequency\": 30, \"value\": 563}, \"564\": {\"frequency\": 34, \"value\": 564}, \"565\": {\"frequency\": 35, \"value\": 565}, \"566\": {\"frequency\": 149, \"value\": 566}, \"567\": {\"frequency\": 155, \"value\": 567}, \"568\": {\"frequency\": 81, \"value\": 568}, \"569\": {\"frequency\": 70, \"value\": 569}, \"570\": {\"frequency\": 22, \"value\": 570}, \"571\": {\"frequency\": 20, \"value\": 571}, \"572\": {\"frequency\": 20, \"value\": 572}, \"573\": {\"frequency\": 51, \"value\": 573}, \"574\": {\"frequency\": 46, \"value\": 574}, \"575\": {\"frequency\": 26, \"value\": 575}, \"576\": {\"frequency\": 36, \"value\": 576}, \"577\": {\"frequency\": 188, \"value\": 577}, \"578\": {\"frequency\": 24, \"value\": 578}, \"579\": {\"frequency\": 74, \"value\": 579}, \"580\": {\"frequency\": 47, \"value\": 580}, \"581\": {\"frequency\": 28, \"value\": 581}, \"582\": {\"frequency\": 62, \"value\": 582}, \"583\": {\"frequency\": 27, \"value\": 583}, \"584\": {\"frequency\": 24, \"value\": 584}, \"585\": {\"frequency\": 80, \"value\": 585}, \"586\": {\"frequency\": 166, \"value\": 586}, \"587\": {\"frequency\": 98, \"value\": 587}, \"588\": {\"frequency\": 225, \"value\": 588}, \"589\": {\"frequency\": 43, \"value\": 589}, \"590\": {\"frequency\": 48, \"value\": 590}, \"591\": {\"frequency\": 84, \"value\": 591}, \"592\": {\"frequency\": 360, \"value\": 592}, \"593\": {\"frequency\": 156, \"value\": 593}, \"594\": {\"frequency\": 25, \"value\": 594}, \"595\": {\"frequency\": 96, \"value\": 595}, \"596\": {\"frequency\": 20, \"value\": 596}, \"597\": {\"frequency\": 41, \"value\": 597}, \"598\": {\"frequency\": 25, \"value\": 598}, \"599\": {\"frequency\": 47, \"value\": 599}, \"600\": {\"frequency\": 89, \"value\": 600}, \"601\": {\"frequency\": 148, \"value\": 601}, \"602\": {\"frequency\": 29, \"value\": 602}, \"603\": {\"frequency\": 47, \"value\": 603}, \"604\": {\"frequency\": 27, \"value\": 604}, \"605\": {\"frequency\": 90, \"value\": 605}, \"606\": {\"frequency\": 236, \"value\": 606}, \"607\": {\"frequency\": 37, \"value\": 607}, \"608\": {\"frequency\": 163, \"value\": 608}, \"609\": {\"frequency\": 28, \"value\": 609}, \"610\": {\"frequency\": 75, \"value\": 610}, \"611\": {\"frequency\": 42, \"value\": 611}, \"612\": {\"frequency\": 27, \"value\": 612}, \"613\": {\"frequency\": 28, \"value\": 613}, \"614\": {\"frequency\": 39, \"value\": 614}, \"615\": {\"frequency\": 103, \"value\": 615}, \"616\": {\"frequency\": 43, \"value\": 616}, \"617\": {\"frequency\": 108, \"value\": 617}, \"618\": {\"frequency\": 216, \"value\": 618}, \"619\": {\"frequency\": 89, \"value\": 619}, \"620\": {\"frequency\": 110, \"value\": 620}, \"621\": {\"frequency\": 171, \"value\": 621}, \"622\": {\"frequency\": 228, \"value\": 622}, \"623\": {\"frequency\": 45, \"value\": 623}, \"624\": {\"frequency\": 141, \"value\": 624}, \"625\": {\"frequency\": 106, \"value\": 625}, \"626\": {\"frequency\": 32, \"value\": 626}, \"627\": {\"frequency\": 181, \"value\": 627}, \"628\": {\"frequency\": 27, \"value\": 628}, \"629\": {\"frequency\": 121, \"value\": 629}, \"630\": {\"frequency\": 108, \"value\": 630}, \"631\": {\"frequency\": 20, \"value\": 631}, \"632\": {\"frequency\": 118, \"value\": 632}, \"633\": {\"frequency\": 58, \"value\": 633}, \"634\": {\"frequency\": 135, \"value\": 634}, \"635\": {\"frequency\": 34, \"value\": 635}, \"636\": {\"frequency\": 20, \"value\": 636}, \"637\": {\"frequency\": 104, \"value\": 637}, \"638\": {\"frequency\": 67, \"value\": 638}, \"639\": {\"frequency\": 148, \"value\": 639}, \"640\": {\"frequency\": 109, \"value\": 640}, \"641\": {\"frequency\": 40, \"value\": 641}, \"642\": {\"frequency\": 318, \"value\": 642}, \"643\": {\"frequency\": 206, \"value\": 643}, \"644\": {\"frequency\": 42, \"value\": 644}, \"645\": {\"frequency\": 122, \"value\": 645}, \"646\": {\"frequency\": 38, \"value\": 646}, \"647\": {\"frequency\": 58, \"value\": 647}, \"648\": {\"frequency\": 297, \"value\": 648}, \"649\": {\"frequency\": 24, \"value\": 649}, \"650\": {\"frequency\": 311, \"value\": 650}, \"651\": {\"frequency\": 21, \"value\": 651}, \"652\": {\"frequency\": 22, \"value\": 652}, \"653\": {\"frequency\": 283, \"value\": 653}, \"654\": {\"frequency\": 147, \"value\": 654}, \"655\": {\"frequency\": 685, \"value\": 655}, \"656\": {\"frequency\": 24, \"value\": 656}, \"657\": {\"frequency\": 29, \"value\": 657}, \"658\": {\"frequency\": 71, \"value\": 658}, \"659\": {\"frequency\": 191, \"value\": 659}, \"660\": {\"frequency\": 224, \"value\": 660}, \"661\": {\"frequency\": 121, \"value\": 661}, \"662\": {\"frequency\": 23, \"value\": 662}, \"663\": {\"frequency\": 158, \"value\": 663}, \"664\": {\"frequency\": 166, \"value\": 664}, \"665\": {\"frequency\": 142, \"value\": 665}, \"666\": {\"frequency\": 245, \"value\": 666}, \"667\": {\"frequency\": 47, \"value\": 667}, \"668\": {\"frequency\": 46, \"value\": 668}, \"669\": {\"frequency\": 100, \"value\": 669}, \"670\": {\"frequency\": 46, \"value\": 670}, \"671\": {\"frequency\": 124, \"value\": 671}, \"672\": {\"frequency\": 29, \"value\": 672}, \"673\": {\"frequency\": 35, \"value\": 673}, \"674\": {\"frequency\": 41, \"value\": 674}, \"675\": {\"frequency\": 34, \"value\": 675}, \"676\": {\"frequency\": 77, \"value\": 676}, \"677\": {\"frequency\": 49, \"value\": 677}, \"678\": {\"frequency\": 28, \"value\": 678}, \"679\": {\"frequency\": 62, \"value\": 679}, \"680\": {\"frequency\": 38, \"value\": 680}, \"681\": {\"frequency\": 22, \"value\": 681}, \"682\": {\"frequency\": 399, \"value\": 682}, \"683\": {\"frequency\": 75, \"value\": 683}, \"684\": {\"frequency\": 86, \"value\": 684}, \"685\": {\"frequency\": 20, \"value\": 685}, \"686\": {\"frequency\": 71, \"value\": 686}, \"687\": {\"frequency\": 21, \"value\": 687}, \"688\": {\"frequency\": 24, \"value\": 688}, \"689\": {\"frequency\": 36, \"value\": 689}, \"690\": {\"frequency\": 115, \"value\": 690}, \"691\": {\"frequency\": 32, \"value\": 691}, \"692\": {\"frequency\": 40, \"value\": 692}, \"693\": {\"frequency\": 154, \"value\": 693}, \"694\": {\"frequency\": 157, \"value\": 694}, \"695\": {\"frequency\": 38, \"value\": 695}, \"696\": {\"frequency\": 29, \"value\": 696}, \"697\": {\"frequency\": 105, \"value\": 697}, \"698\": {\"frequency\": 127, \"value\": 698}, \"699\": {\"frequency\": 149, \"value\": 699}, \"700\": {\"frequency\": 21, \"value\": 700}, \"701\": {\"frequency\": 33, \"value\": 701}, \"702\": {\"frequency\": 31, \"value\": 702}, \"703\": {\"frequency\": 47, \"value\": 703}, \"704\": {\"frequency\": 90, \"value\": 704}, \"705\": {\"frequency\": 114, \"value\": 705}, \"706\": {\"frequency\": 29, \"value\": 706}, \"707\": {\"frequency\": 236, \"value\": 707}, \"708\": {\"frequency\": 105, \"value\": 708}, \"709\": {\"frequency\": 138, \"value\": 709}, \"710\": {\"frequency\": 86, \"value\": 710}, \"711\": {\"frequency\": 221, \"value\": 711}, \"712\": {\"frequency\": 162, \"value\": 712}, \"713\": {\"frequency\": 30, \"value\": 713}, \"714\": {\"frequency\": 44, \"value\": 714}, \"715\": {\"frequency\": 167, \"value\": 715}, \"716\": {\"frequency\": 269, \"value\": 716}, \"717\": {\"frequency\": 93, \"value\": 717}, \"718\": {\"frequency\": 39, \"value\": 718}, \"719\": {\"frequency\": 67, \"value\": 719}, \"720\": {\"frequency\": 30, \"value\": 720}, \"721\": {\"frequency\": 168, \"value\": 721}, \"722\": {\"frequency\": 42, \"value\": 722}, \"723\": {\"frequency\": 22, \"value\": 723}, \"724\": {\"frequency\": 85, \"value\": 724}, \"725\": {\"frequency\": 25, \"value\": 725}, \"726\": {\"frequency\": 24, \"value\": 726}, \"727\": {\"frequency\": 322, \"value\": 727}, \"728\": {\"frequency\": 26, \"value\": 728}, \"729\": {\"frequency\": 21, \"value\": 729}, \"730\": {\"frequency\": 38, \"value\": 730}, \"731\": {\"frequency\": 83, \"value\": 731}, \"732\": {\"frequency\": 20, \"value\": 732}, \"733\": {\"frequency\": 107, \"value\": 733}, \"734\": {\"frequency\": 64, \"value\": 734}, \"735\": {\"frequency\": 53, \"value\": 735}, \"736\": {\"frequency\": 24, \"value\": 736}, \"737\": {\"frequency\": 33, \"value\": 737}, \"738\": {\"frequency\": 148, \"value\": 738}, \"739\": {\"frequency\": 35, \"value\": 739}, \"740\": {\"frequency\": 20, \"value\": 740}, \"741\": {\"frequency\": 104, \"value\": 741}, \"742\": {\"frequency\": 26, \"value\": 742}, \"743\": {\"frequency\": 35, \"value\": 743}, \"744\": {\"frequency\": 27, \"value\": 744}, \"745\": {\"frequency\": 60, \"value\": 745}, \"746\": {\"frequency\": 67, \"value\": 746}, \"747\": {\"frequency\": 293, \"value\": 747}, \"748\": {\"frequency\": 108, \"value\": 748}, \"749\": {\"frequency\": 305, \"value\": 749}, \"750\": {\"frequency\": 33, \"value\": 750}, \"751\": {\"frequency\": 168, \"value\": 751}, \"752\": {\"frequency\": 73, \"value\": 752}, \"753\": {\"frequency\": 57, \"value\": 753}, \"754\": {\"frequency\": 34, \"value\": 754}, \"755\": {\"frequency\": 38, \"value\": 755}, \"756\": {\"frequency\": 109, \"value\": 756}, \"757\": {\"frequency\": 166, \"value\": 757}, \"758\": {\"frequency\": 357, \"value\": 758}, \"759\": {\"frequency\": 32, \"value\": 759}, \"760\": {\"frequency\": 41, \"value\": 760}, \"761\": {\"frequency\": 66, \"value\": 761}, \"762\": {\"frequency\": 21, \"value\": 762}, \"763\": {\"frequency\": 129, \"value\": 763}, \"764\": {\"frequency\": 109, \"value\": 764}, \"765\": {\"frequency\": 23, \"value\": 765}, \"766\": {\"frequency\": 175, \"value\": 766}, \"767\": {\"frequency\": 37, \"value\": 767}, \"768\": {\"frequency\": 64, \"value\": 768}, \"769\": {\"frequency\": 29, \"value\": 769}, \"770\": {\"frequency\": 64, \"value\": 770}, \"771\": {\"frequency\": 70, \"value\": 771}, \"772\": {\"frequency\": 33, \"value\": 772}, \"773\": {\"frequency\": 161, \"value\": 773}, \"774\": {\"frequency\": 224, \"value\": 774}, \"775\": {\"frequency\": 28, \"value\": 775}, \"776\": {\"frequency\": 105, \"value\": 776}, \"777\": {\"frequency\": 36, \"value\": 777}, \"778\": {\"frequency\": 65, \"value\": 778}, \"779\": {\"frequency\": 37, \"value\": 779}, \"780\": {\"frequency\": 55, \"value\": 780}, \"781\": {\"frequency\": 42, \"value\": 781}, \"782\": {\"frequency\": 232, \"value\": 782}, \"783\": {\"frequency\": 30, \"value\": 783}, \"784\": {\"frequency\": 39, \"value\": 784}, \"785\": {\"frequency\": 27, \"value\": 785}, \"786\": {\"frequency\": 117, \"value\": 786}, \"787\": {\"frequency\": 57, \"value\": 787}, \"788\": {\"frequency\": 249, \"value\": 788}, \"789\": {\"frequency\": 33, \"value\": 789}, \"790\": {\"frequency\": 231, \"value\": 790}, \"791\": {\"frequency\": 25, \"value\": 791}, \"792\": {\"frequency\": 47, \"value\": 792}, \"793\": {\"frequency\": 55, \"value\": 793}, \"794\": {\"frequency\": 39, \"value\": 794}, \"795\": {\"frequency\": 159, \"value\": 795}, \"796\": {\"frequency\": 358, \"value\": 796}, \"797\": {\"frequency\": 26, \"value\": 797}, \"798\": {\"frequency\": 239, \"value\": 798}, \"799\": {\"frequency\": 24, \"value\": 799}, \"800\": {\"frequency\": 28, \"value\": 800}, \"801\": {\"frequency\": 26, \"value\": 801}, \"802\": {\"frequency\": 75, \"value\": 802}, \"803\": {\"frequency\": 33, \"value\": 803}, \"804\": {\"frequency\": 332, \"value\": 804}, \"805\": {\"frequency\": 273, \"value\": 805}, \"806\": {\"frequency\": 140, \"value\": 806}, \"807\": {\"frequency\": 204, \"value\": 807}, \"808\": {\"frequency\": 23, \"value\": 808}, \"809\": {\"frequency\": 20, \"value\": 809}, \"810\": {\"frequency\": 26, \"value\": 810}, \"811\": {\"frequency\": 21, \"value\": 811}, \"812\": {\"frequency\": 20, \"value\": 812}, \"813\": {\"frequency\": 29, \"value\": 813}, \"814\": {\"frequency\": 35, \"value\": 814}, \"815\": {\"frequency\": 183, \"value\": 815}, \"816\": {\"frequency\": 25, \"value\": 816}, \"817\": {\"frequency\": 36, \"value\": 817}, \"818\": {\"frequency\": 21, \"value\": 818}, \"819\": {\"frequency\": 28, \"value\": 819}, \"820\": {\"frequency\": 21, \"value\": 820}, \"821\": {\"frequency\": 62, \"value\": 821}, \"822\": {\"frequency\": 25, \"value\": 822}, \"823\": {\"frequency\": 185, \"value\": 823}, \"824\": {\"frequency\": 20, \"value\": 824}, \"825\": {\"frequency\": 145, \"value\": 825}, \"826\": {\"frequency\": 115, \"value\": 826}, \"827\": {\"frequency\": 28, \"value\": 827}, \"828\": {\"frequency\": 104, \"value\": 828}, \"829\": {\"frequency\": 64, \"value\": 829}, \"830\": {\"frequency\": 106, \"value\": 830}, \"831\": {\"frequency\": 73, \"value\": 831}, \"832\": {\"frequency\": 25, \"value\": 832}, \"833\": {\"frequency\": 267, \"value\": 833}, \"834\": {\"frequency\": 54, \"value\": 834}, \"835\": {\"frequency\": 102, \"value\": 835}, \"836\": {\"frequency\": 50, \"value\": 836}, \"837\": {\"frequency\": 46, \"value\": 837}, \"838\": {\"frequency\": 93, \"value\": 838}, \"839\": {\"frequency\": 57, \"value\": 839}, \"840\": {\"frequency\": 197, \"value\": 840}, \"841\": {\"frequency\": 31, \"value\": 841}, \"842\": {\"frequency\": 27, \"value\": 842}, \"843\": {\"frequency\": 204, \"value\": 843}, \"844\": {\"frequency\": 81, \"value\": 844}, \"845\": {\"frequency\": 31, \"value\": 845}, \"846\": {\"frequency\": 405, \"value\": 846}, \"847\": {\"frequency\": 146, \"value\": 847}, \"848\": {\"frequency\": 150, \"value\": 848}, \"849\": {\"frequency\": 23, \"value\": 849}, \"850\": {\"frequency\": 51, \"value\": 850}, \"851\": {\"frequency\": 209, \"value\": 851}, \"852\": {\"frequency\": 49, \"value\": 852}, \"853\": {\"frequency\": 41, \"value\": 853}, \"854\": {\"frequency\": 217, \"value\": 854}, \"855\": {\"frequency\": 23, \"value\": 855}, \"856\": {\"frequency\": 26, \"value\": 856}, \"857\": {\"frequency\": 22, \"value\": 857}, \"858\": {\"frequency\": 21, \"value\": 858}, \"859\": {\"frequency\": 39, \"value\": 859}, \"860\": {\"frequency\": 71, \"value\": 860}, \"861\": {\"frequency\": 43, \"value\": 861}, \"862\": {\"frequency\": 165, \"value\": 862}, \"863\": {\"frequency\": 107, \"value\": 863}, \"864\": {\"frequency\": 294, \"value\": 864}, \"865\": {\"frequency\": 66, \"value\": 865}, \"866\": {\"frequency\": 20, \"value\": 866}, \"867\": {\"frequency\": 95, \"value\": 867}, \"868\": {\"frequency\": 208, \"value\": 868}, \"869\": {\"frequency\": 47, \"value\": 869}, \"870\": {\"frequency\": 269, \"value\": 870}, \"871\": {\"frequency\": 115, \"value\": 871}, \"872\": {\"frequency\": 71, \"value\": 872}, \"873\": {\"frequency\": 20, \"value\": 873}, \"874\": {\"frequency\": 34, \"value\": 874}, \"875\": {\"frequency\": 89, \"value\": 875}, \"876\": {\"frequency\": 21, \"value\": 876}, \"877\": {\"frequency\": 81, \"value\": 877}, \"878\": {\"frequency\": 134, \"value\": 878}, \"879\": {\"frequency\": 29, \"value\": 879}, \"880\": {\"frequency\": 368, \"value\": 880}, \"881\": {\"frequency\": 259, \"value\": 881}, \"882\": {\"frequency\": 137, \"value\": 882}, \"883\": {\"frequency\": 268, \"value\": 883}, \"884\": {\"frequency\": 43, \"value\": 884}, \"885\": {\"frequency\": 102, \"value\": 885}, \"886\": {\"frequency\": 240, \"value\": 886}, \"887\": {\"frequency\": 171, \"value\": 887}, \"888\": {\"frequency\": 20, \"value\": 888}, \"889\": {\"frequency\": 326, \"value\": 889}, \"890\": {\"frequency\": 119, \"value\": 890}, \"891\": {\"frequency\": 47, \"value\": 891}, \"892\": {\"frequency\": 226, \"value\": 892}, \"893\": {\"frequency\": 59, \"value\": 893}, \"894\": {\"frequency\": 245, \"value\": 894}, \"895\": {\"frequency\": 20, \"value\": 895}, \"896\": {\"frequency\": 362, \"value\": 896}, \"897\": {\"frequency\": 185, \"value\": 897}, \"898\": {\"frequency\": 30, \"value\": 898}, \"899\": {\"frequency\": 135, \"value\": 899}, \"900\": {\"frequency\": 45, \"value\": 900}, \"901\": {\"frequency\": 124, \"value\": 901}, \"902\": {\"frequency\": 49, \"value\": 902}, \"903\": {\"frequency\": 136, \"value\": 903}, \"904\": {\"frequency\": 47, \"value\": 904}, \"905\": {\"frequency\": 40, \"value\": 905}, \"906\": {\"frequency\": 41, \"value\": 906}, \"907\": {\"frequency\": 147, \"value\": 907}, \"908\": {\"frequency\": 74, \"value\": 908}, \"909\": {\"frequency\": 26, \"value\": 909}, \"910\": {\"frequency\": 60, \"value\": 910}, \"911\": {\"frequency\": 98, \"value\": 911}, \"912\": {\"frequency\": 53, \"value\": 912}, \"913\": {\"frequency\": 132, \"value\": 913}, \"914\": {\"frequency\": 23, \"value\": 914}, \"915\": {\"frequency\": 26, \"value\": 915}, \"916\": {\"frequency\": 317, \"value\": 916}, \"917\": {\"frequency\": 35, \"value\": 917}, \"918\": {\"frequency\": 103, \"value\": 918}, \"919\": {\"frequency\": 217, \"value\": 919}, \"920\": {\"frequency\": 26, \"value\": 920}, \"921\": {\"frequency\": 110, \"value\": 921}, \"922\": {\"frequency\": 127, \"value\": 922}, \"923\": {\"frequency\": 74, \"value\": 923}, \"924\": {\"frequency\": 82, \"value\": 924}, \"925\": {\"frequency\": 32, \"value\": 925}, \"926\": {\"frequency\": 20, \"value\": 926}, \"927\": {\"frequency\": 120, \"value\": 927}, \"928\": {\"frequency\": 32, \"value\": 928}, \"929\": {\"frequency\": 49, \"value\": 929}, \"930\": {\"frequency\": 63, \"value\": 930}, \"931\": {\"frequency\": 61, \"value\": 931}, \"932\": {\"frequency\": 241, \"value\": 932}, \"933\": {\"frequency\": 184, \"value\": 933}, \"934\": {\"frequency\": 174, \"value\": 934}, \"935\": {\"frequency\": 39, \"value\": 935}, \"936\": {\"frequency\": 142, \"value\": 936}, \"937\": {\"frequency\": 40, \"value\": 937}, \"938\": {\"frequency\": 108, \"value\": 938}, \"939\": {\"frequency\": 49, \"value\": 939}, \"940\": {\"frequency\": 107, \"value\": 940}, \"941\": {\"frequency\": 22, \"value\": 941}, \"942\": {\"frequency\": 79, \"value\": 942}, \"943\": {\"frequency\": 168, \"value\": 943}}, \"mean\": 462.4847500000014}, \"timestamp\": {\"std\": 5343829.470155063, \"complete\": true, \"min\": 874724710.0, \"max\": 893286638.0, \"quantile\": [874724710.0, 874815947.0, 874951293.0, 875074589.0, 875264904.0, 875319992.0, 875509787.0, 875721869.0, 875907180.0, 876031656.0, 876338309.0, 876535131.0, 876823071.0, 877107446.0, 877385590.0, 877719863.0, 877892017.0, 878192680.0, 878759806.0, 878887157.0, 878963381.0, 879190670.0, 879310705.0, 879434330.0, 879441913.0, 879448112.0, 879460140.0, 879520306.0, 879538922.0, 879618849.0, 879787518.0, 879848397.0, 879896200.0, 879988369.0, 880078091.0, 880138999.0, 880178130.0, 880355485.0, 880474977.0, 880585759.0, 880845011.0, 880934806.0, 881106087.0, 881371198.0, 881652657.0, 881978115.0, 882157227.0, 882374422.0, 882398076.0, 882607286.0, 882826395.0, 883216748.0, 883427904.0, 883681351.0, 883788859.0, 883949639.0, 884112627.0, 884134134.0, 884294880.0, 884486658.0, 884714513.0, 884990669.0, 885158208.0, 885547690.0, 885681860.0, 885847170.0, 886030938.0, 886288624.0, 886443672.0, 886607778.0, 887038104.0, 887429732.0, 887741179.0, 887863381.0, 888082742.0, 888211701.0, 888517011.0, 888625934.0, 888730974.0, 888907036.0, 889237455.0, 889501926.0, 889909812.0, 890572396.0, 891032255.0, 891036743.0, 891196464.0, 891224840.0, 891285658.0, 891347949.0, 891382392.0, 891409111.0, 891449771.0, 891498865.0, 891628832.0, 891711554.0, 892014908.0, 892431907.0, 892718575.0, 892911420.0, 893286638.0], \"median\": 882826395.0, \"numeric\": true, \"num_unique\": 49243, \"num_undefined\": 0, \"var\": 28556513406097.742, \"progress\": 1.0, \"size\": 100000, \"frequent_items\": {\"874834944\": {\"frequency\": 8, \"value\": 874834944}, \"891016193\": {\"frequency\": 9, \"value\": 891016193}, \"893119491\": {\"frequency\": 9, \"value\": 893119491}, \"881371140\": {\"frequency\": 8, \"value\": 881371140}, \"892333573\": {\"frequency\": 10, \"value\": 892333573}, \"891033606\": {\"frequency\": 12, \"value\": 891033606}, \"880123905\": {\"frequency\": 11, \"value\": 880123905}, \"877137285\": {\"frequency\": 10, \"value\": 877137285}, \"882157581\": {\"frequency\": 8, \"value\": 882157581}, \"877892110\": {\"frequency\": 7, \"value\": 877892110}, \"891035309\": {\"frequency\": 9, \"value\": 891035309}, \"875133458\": {\"frequency\": 8, \"value\": 875133458}, \"885409719\": {\"frequency\": 10, \"value\": 885409719}, \"890860566\": {\"frequency\": 10, \"value\": 890860566}, \"884814359\": {\"frequency\": 10, \"value\": 884814359}, \"879217689\": {\"frequency\": 11, \"value\": 879217689}, \"881109019\": {\"frequency\": 7, \"value\": 881109019}, \"887820828\": {\"frequency\": 10, \"value\": 887820828}, \"891402757\": {\"frequency\": 10, \"value\": 891402757}, \"879310883\": {\"frequency\": 7, \"value\": 879310883}, \"885547557\": {\"frequency\": 9, \"value\": 885547557}, \"884114471\": {\"frequency\": 10, \"value\": 884114471}, \"878963241\": {\"frequency\": 10, \"value\": 878963241}, \"875385386\": {\"frequency\": 10, \"value\": 875385386}, \"888068651\": {\"frequency\": 10, \"value\": 888068651}, \"877665324\": {\"frequency\": 10, \"value\": 877665324}, \"878961709\": {\"frequency\": 10, \"value\": 878961709}, \"884292654\": {\"frequency\": 10, \"value\": 884292654}, \"892844079\": {\"frequency\": 11, \"value\": 892844079}, \"874834481\": {\"frequency\": 10, \"value\": 874834481}, \"893212730\": {\"frequency\": 10, \"value\": 893212730}, \"883216958\": {\"frequency\": 8, \"value\": 883216958}, \"893097024\": {\"frequency\": 10, \"value\": 893097024}, \"892845634\": {\"frequency\": 10, \"value\": 892845634}, \"882607690\": {\"frequency\": 10, \"value\": 882607690}, \"885547447\": {\"frequency\": 9, \"value\": 885547447}, \"877018125\": {\"frequency\": 10, \"value\": 877018125}, \"892844112\": {\"frequency\": 9, \"value\": 892844112}, \"885546577\": {\"frequency\": 9, \"value\": 885546577}, \"885943651\": {\"frequency\": 10, \"value\": 885943651}, \"885546069\": {\"frequency\": 11, \"value\": 885546069}, \"891382877\": {\"frequency\": 9, \"value\": 891382877}, \"885409374\": {\"frequency\": 10, \"value\": 885409374}, \"884066399\": {\"frequency\": 10, \"value\": 884066399}, \"880953441\": {\"frequency\": 10, \"value\": 880953441}, \"887660131\": {\"frequency\": 10, \"value\": 887660131}, \"893213796\": {\"frequency\": 10, \"value\": 893213796}, \"883757670\": {\"frequency\": 8, \"value\": 883757670}, \"887863914\": {\"frequency\": 5, \"value\": 887863914}, \"879199250\": {\"frequency\": 10, \"value\": 879199250}, \"877728878\": {\"frequency\": 10, \"value\": 877728878}, \"891271792\": {\"frequency\": 10, \"value\": 891271792}, \"888881939\": {\"frequency\": 6, \"value\": 888881939}, \"878709365\": {\"frequency\": 10, \"value\": 878709365}, \"877137527\": {\"frequency\": 9, \"value\": 877137527}, \"891045496\": {\"frequency\": 10, \"value\": 891045496}, \"883245452\": {\"frequency\": 10, \"value\": 883245452}, \"886441083\": {\"frequency\": 7, \"value\": 886441083}, \"881179653\": {\"frequency\": 11, \"value\": 881179653}, \"880776981\": {\"frequency\": 9, \"value\": 880776981}, \"885546112\": {\"frequency\": 10, \"value\": 885546112}, \"880138999\": {\"frequency\": 10, \"value\": 880138999}, \"885848707\": {\"frequency\": 7, \"value\": 885848707}, \"883879556\": {\"frequency\": 9, \"value\": 883879556}, \"880886919\": {\"frequency\": 9, \"value\": 880886919}, \"891466376\": {\"frequency\": 10, \"value\": 891466376}, \"874831383\": {\"frequency\": 10, \"value\": 874831383}, \"882426508\": {\"frequency\": 11, \"value\": 882426508}, \"888552084\": {\"frequency\": 9, \"value\": 888552084}, \"880046229\": {\"frequency\": 5, \"value\": 880046229}, \"889988121\": {\"frequency\": 6, \"value\": 889988121}, \"886711452\": {\"frequency\": 9, \"value\": 886711452}, \"884153712\": {\"frequency\": 8, \"value\": 884153712}, \"882912418\": {\"frequency\": 10, \"value\": 882912418}, \"879792811\": {\"frequency\": 10, \"value\": 879792811}, \"878962349\": {\"frequency\": 8, \"value\": 878962349}, \"876534131\": {\"frequency\": 10, \"value\": 876534131}, \"878543541\": {\"frequency\": 10, \"value\": 878543541}, \"881109175\": {\"frequency\": 7, \"value\": 881109175}, \"885776056\": {\"frequency\": 11, \"value\": 885776056}, \"891356864\": {\"frequency\": 10, \"value\": 891356864}, \"891550404\": {\"frequency\": 10, \"value\": 891550404}, \"882396869\": {\"frequency\": 10, \"value\": 882396869}, \"890284231\": {\"frequency\": 9, \"value\": 890284231}, \"877137015\": {\"frequency\": 10, \"value\": 877137015}, \"885546445\": {\"frequency\": 10, \"value\": 885546445}, \"889665232\": {\"frequency\": 9, \"value\": 889665232}, \"891034835\": {\"frequency\": 12, \"value\": 891034835}, \"893119415\": {\"frequency\": 10, \"value\": 893119415}, \"886922069\": {\"frequency\": 10, \"value\": 886922069}, \"885547735\": {\"frequency\": 10, \"value\": 885547735}, \"885481179\": {\"frequency\": 10, \"value\": 885481179}, \"886030557\": {\"frequency\": 11, \"value\": 886030557}, \"878883038\": {\"frequency\": 6, \"value\": 878883038}, \"886031074\": {\"frequency\": 9, \"value\": 886031074}, \"888732899\": {\"frequency\": 10, \"value\": 888732899}, \"882608357\": {\"frequency\": 7, \"value\": 882608357}, \"891517159\": {\"frequency\": 10, \"value\": 891517159}, \"892791017\": {\"frequency\": 9, \"value\": 892791017}, \"891695570\": {\"frequency\": 10, \"value\": 891695570}, \"885548785\": {\"frequency\": 10, \"value\": 885548785}, \"885546025\": {\"frequency\": 10, \"value\": 885546025}, \"879960826\": {\"frequency\": 10, \"value\": 879960826}, \"876823804\": {\"frequency\": 10, \"value\": 876823804}, \"891036414\": {\"frequency\": 11, \"value\": 891036414}, \"883949781\": {\"frequency\": 7, \"value\": 883949781}, \"885547268\": {\"frequency\": 11, \"value\": 885547268}, \"879701253\": {\"frequency\": 10, \"value\": 879701253}, \"879451401\": {\"frequency\": 10, \"value\": 879451401}, \"886030805\": {\"frequency\": 9, \"value\": 886030805}, \"879962366\": {\"frequency\": 9, \"value\": 879962366}, \"890284819\": {\"frequency\": 10, \"value\": 890284819}, \"882392853\": {\"frequency\": 9, \"value\": 882392853}, \"883789590\": {\"frequency\": 9, \"value\": 883789590}, \"882553113\": {\"frequency\": 8, \"value\": 882553113}, \"882672922\": {\"frequency\": 8, \"value\": 882672922}, \"879439645\": {\"frequency\": 10, \"value\": 879439645}, \"886030622\": {\"frequency\": 9, \"value\": 886030622}, \"879531397\": {\"frequency\": 8, \"value\": 879531397}, \"881001249\": {\"frequency\": 10, \"value\": 881001249}, \"879966498\": {\"frequency\": 10, \"value\": 879966498}, \"892738341\": {\"frequency\": 10, \"value\": 892738341}, \"877910822\": {\"frequency\": 11, \"value\": 877910822}, \"888957735\": {\"frequency\": 7, \"value\": 888957735}, \"882404137\": {\"frequency\": 9, \"value\": 882404137}, \"880822060\": {\"frequency\": 10, \"value\": 880822060}, \"882387757\": {\"frequency\": 8, \"value\": 882387757}, \"885547314\": {\"frequency\": 6, \"value\": 885547314}, \"879362356\": {\"frequency\": 8, \"value\": 879362356}, \"886310197\": {\"frequency\": 10, \"value\": 886310197}, \"882396984\": {\"frequency\": 9, \"value\": 882396984}, \"890284857\": {\"frequency\": 8, \"value\": 890284857}, \"877137214\": {\"frequency\": 8, \"value\": 877137214}, \"878974783\": {\"frequency\": 10, \"value\": 878974783}, \"878962496\": {\"frequency\": 10, \"value\": 878962496}, \"891331825\": {\"frequency\": 10, \"value\": 891331825}, \"879270213\": {\"frequency\": 7, \"value\": 879270213}, \"880739654\": {\"frequency\": 11, \"value\": 880739654}, \"883426119\": {\"frequency\": 10, \"value\": 883426119}, \"888637768\": {\"frequency\": 10, \"value\": 888637768}, \"884112201\": {\"frequency\": 10, \"value\": 884112201}, \"879297867\": {\"frequency\": 10, \"value\": 879297867}, \"885548877\": {\"frequency\": 10, \"value\": 885548877}, \"875946830\": {\"frequency\": 10, \"value\": 875946830}, \"888180049\": {\"frequency\": 10, \"value\": 888180049}, \"885546835\": {\"frequency\": 10, \"value\": 885546835}, \"884642133\": {\"frequency\": 8, \"value\": 884642133}, \"893213444\": {\"frequency\": 9, \"value\": 893213444}, \"893214041\": {\"frequency\": 10, \"value\": 893214041}, \"887924571\": {\"frequency\": 9, \"value\": 887924571}, \"885546336\": {\"frequency\": 8, \"value\": 885546336}, \"879461219\": {\"frequency\": 10, \"value\": 879461219}, \"892790628\": {\"frequency\": 7, \"value\": 892790628}, \"878771281\": {\"frequency\": 7, \"value\": 878771281}, \"885075304\": {\"frequency\": 9, \"value\": 885075304}, \"881107817\": {\"frequency\": 9, \"value\": 881107817}, \"886031211\": {\"frequency\": 9, \"value\": 886031211}, \"893213549\": {\"frequency\": 10, \"value\": 893213549}, \"889717102\": {\"frequency\": 9, \"value\": 889717102}, \"886484336\": {\"frequency\": 10, \"value\": 886484336}, \"879012721\": {\"frequency\": 10, \"value\": 879012721}, \"879523187\": {\"frequency\": 10, \"value\": 879523187}, \"884198772\": {\"frequency\": 11, \"value\": 884198772}, \"884636583\": {\"frequency\": 6, \"value\": 884636583}, \"878962550\": {\"frequency\": 10, \"value\": 878962550}, \"876106729\": {\"frequency\": 10, \"value\": 876106729}, \"879441215\": {\"frequency\": 9, \"value\": 879441215}, \"881288574\": {\"frequency\": 10, \"value\": 881288574}, \"892334976\": {\"frequency\": 7, \"value\": 892334976}, \"875941763\": {\"frequency\": 10, \"value\": 875941763}, \"885548932\": {\"frequency\": 10, \"value\": 885548932}, \"891383173\": {\"frequency\": 5, \"value\": 891383173}, \"879454598\": {\"frequency\": 10, \"value\": 879454598}, \"885546379\": {\"frequency\": 9, \"value\": 885546379}, \"882397068\": {\"frequency\": 7, \"value\": 882397068}, \"888259984\": {\"frequency\": 10, \"value\": 888259984}, \"882900888\": {\"frequency\": 10, \"value\": 882900888}, \"880923349\": {\"frequency\": 10, \"value\": 880923349}, \"885548435\": {\"frequency\": 8, \"value\": 885548435}, \"892790676\": {\"frequency\": 10, \"value\": 892790676}, \"883777430\": {\"frequency\": 10, \"value\": 883777430}, \"891397015\": {\"frequency\": 11, \"value\": 891397015}, \"879425432\": {\"frequency\": 11, \"value\": 879425432}, \"879459738\": {\"frequency\": 10, \"value\": 879459738}, \"885848475\": {\"frequency\": 7, \"value\": 885848475}, \"875428765\": {\"frequency\": 10, \"value\": 875428765}, \"891462560\": {\"frequency\": 8, \"value\": 891462560}, \"883949986\": {\"frequency\": 10, \"value\": 883949986}, \"889655204\": {\"frequency\": 8, \"value\": 889655204}, \"878962086\": {\"frequency\": 10, \"value\": 878962086}, \"879455143\": {\"frequency\": 7, \"value\": 879455143}, \"880116722\": {\"frequency\": 11, \"value\": 880116722}, \"892777903\": {\"frequency\": 10, \"value\": 892777903}, \"886622131\": {\"frequency\": 8, \"value\": 886622131}, \"889492917\": {\"frequency\": 6, \"value\": 889492917}, \"883250102\": {\"frequency\": 9, \"value\": 883250102}, \"886960055\": {\"frequency\": 8, \"value\": 886960055}, \"887923972\": {\"frequency\": 3, \"value\": 887923972}, \"885409493\": {\"frequency\": 10, \"value\": 885409493}, \"893213103\": {\"frequency\": 10, \"value\": 893213103}, \"883789386\": {\"frequency\": 10, \"value\": 883789386}, \"877103935\": {\"frequency\": 8, \"value\": 877103935}, \"885549506\": {\"frequency\": 8, \"value\": 885549506}, \"887925187\": {\"frequency\": 6, \"value\": 887925187}, \"879633862\": {\"frequency\": 10, \"value\": 879633862}, \"876466687\": {\"frequency\": 10, \"value\": 876466687}, \"887761865\": {\"frequency\": 11, \"value\": 887761865}, \"879012811\": {\"frequency\": 7, \"value\": 879012811}, \"891410082\": {\"frequency\": 9, \"value\": 891410082}, \"889237455\": {\"frequency\": 10, \"value\": 889237455}, \"891044304\": {\"frequency\": 10, \"value\": 891044304}, \"876896210\": {\"frequency\": 10, \"value\": 876896210}, \"879701326\": {\"frequency\": 8, \"value\": 879701326}, \"889428642\": {\"frequency\": 9, \"value\": 889428642}, \"888192475\": {\"frequency\": 10, \"value\": 888192475}, \"885547996\": {\"frequency\": 7, \"value\": 885547996}, \"879787770\": {\"frequency\": 8, \"value\": 879787770}, \"884968415\": {\"frequency\": 10, \"value\": 884968415}, \"884112352\": {\"frequency\": 8, \"value\": 884112352}, \"879989217\": {\"frequency\": 10, \"value\": 879989217}, \"883250148\": {\"frequency\": 9, \"value\": 883250148}, \"889988069\": {\"frequency\": 6, \"value\": 889988069}, \"891035111\": {\"frequency\": 10, \"value\": 891035111}, \"891035112\": {\"frequency\": 9, \"value\": 891035112}, \"876953340\": {\"frequency\": 10, \"value\": 876953340}, \"889739243\": {\"frequency\": 6, \"value\": 889739243}, \"886031342\": {\"frequency\": 9, \"value\": 886031342}, \"879962096\": {\"frequency\": 10, \"value\": 879962096}, \"891221165\": {\"frequency\": 10, \"value\": 891221165}, \"885547506\": {\"frequency\": 11, \"value\": 885547506}, \"878962675\": {\"frequency\": 10, \"value\": 878962675}, \"878887925\": {\"frequency\": 7, \"value\": 878887925}, \"891293606\": {\"frequency\": 10, \"value\": 891293606}, \"879304196\": {\"frequency\": 10, \"value\": 879304196}, \"876244991\": {\"frequency\": 10, \"value\": 876244991}, \"891500028\": {\"frequency\": 10, \"value\": 891500028}, \"888193136\": {\"frequency\": 10, \"value\": 888193136}, \"891436543\": {\"frequency\": 10, \"value\": 891436543}}, \"mean\": 883528851.4886198}}, \"selected_variable\": {\"name\": [\"sframe\"], \"descriptives\": {\"rows\": 100000, \"columns\": 4}, \"view_component\": \"Summary\", \"view_file\": \"sframe\", \"view_params\": {\"y\": null, \"x\": null, \"columns\": [\"user_id\", \"item_id\", \"rating\", \"timestamp\"], \"view\": null}, \"view_components\": [\"Summary\", \"Table\", \"Bar Chart\", \"BoxWhisker Plot\", \"Line Chart\", \"Scatter Plot\", \"Heat Map\", \"Plots\"], \"type\": \"SFrame\", \"columns\": [{\"dtype\": \"int\", \"name\": \"user_id\"}, {\"dtype\": \"int\", \"name\": \"item_id\"}, {\"dtype\": \"int\", \"name\": \"rating\"}, {\"dtype\": \"int\", \"name\": \"timestamp\"}], \"column_identifiers\": [\"item_id\", \"rating\", \"user_id\", \"timestamp\"]}, \"columns\": [{\"dtype\": \"int\", \"name\": \"user_id\"}, {\"dtype\": \"int\", \"name\": \"item_id\"}, {\"dtype\": \"int\", \"name\": \"rating\"}, {\"dtype\": \"int\", \"name\": \"timestamp\"}]}, e);\n",
       "                });\n",
       "            })();\n",
       "        "
      ]
     },
     "metadata": {},
     "output_type": "display_data"
    }
   ],
   "source": [
    "gl.canvas.set_target('ipynb')\n",
    "sframe.show()"
   ]
  },
  {
   "cell_type": "code",
   "execution_count": 4,
   "metadata": {},
   "outputs": [
    {
     "data": {
      "text/plain": [
       "\n",
       "+--------------------+---------------+----------+\n",
       "|        item        |     value     | is exact |\n",
       "+--------------------+---------------+----------+\n",
       "|       Length       |     100000    |   Yes    |\n",
       "|        Min         |      1.0      |   Yes    |\n",
       "|        Max         |      5.0      |   Yes    |\n",
       "|        Mean        |    3.52986    |   Yes    |\n",
       "|        Sum         |    352986.0   |   Yes    |\n",
       "|      Variance      |  1.2671283804 |   Yes    |\n",
       "| Standard Deviation | 1.12566797076 |   Yes    |\n",
       "|  # Missing Values  |       0       |   Yes    |\n",
       "|  # unique values   |       5       |    No    |\n",
       "+--------------------+---------------+----------+\n",
       "\n",
       "Most frequent items:\n",
       "+-------+-------+-------+-------+-------+------+\n",
       "| value |   4   |   3   |   5   |   2   |  1   |\n",
       "+-------+-------+-------+-------+-------+------+\n",
       "| count | 34174 | 27145 | 21201 | 11370 | 6110 |\n",
       "+-------+-------+-------+-------+-------+------+\n",
       "\n",
       "Quantiles: \n",
       "+-----+-----+-----+-----+-----+-----+-----+-----+------+\n",
       "|  0% |  1% |  5% | 25% | 50% | 75% | 95% | 99% | 100% |\n",
       "+-----+-----+-----+-----+-----+-----+-----+-----+------+\n",
       "| 1.0 | 1.0 | 1.0 | 3.0 | 4.0 | 4.0 | 5.0 | 5.0 | 5.0  |\n",
       "+-----+-----+-----+-----+-----+-----+-----+-----+------+"
      ]
     },
     "execution_count": 4,
     "metadata": {},
     "output_type": "execute_result"
    }
   ],
   "source": [
    "sframe['rating'].sketch_summary()"
   ]
  },
  {
   "cell_type": "code",
   "execution_count": 5,
   "metadata": {
    "scrolled": true
   },
   "outputs": [
    {
     "data": {
      "application/javascript": [
       "$(\"head\").append($(\"<link/>\").attr({\n",
       "  rel:  \"stylesheet\",\n",
       "  type: \"text/css\",\n",
       "  href: \"//cdnjs.cloudflare.com/ajax/libs/font-awesome/4.1.0/css/font-awesome.min.css\"\n",
       "}));\n",
       "$(\"head\").append($(\"<link/>\").attr({\n",
       "  rel:  \"stylesheet\",\n",
       "  type: \"text/css\",\n",
       "  href: \"https://static.turi.com/products/graphlab-create/2.1/canvas/css/canvas.css\"\n",
       "}));\n",
       "\n",
       "            (function(){\n",
       "\n",
       "                var e = null;\n",
       "                if (typeof element == 'undefined') {\n",
       "                    var scripts = document.getElementsByTagName('script');\n",
       "                    var thisScriptTag = scripts[scripts.length-1];\n",
       "                    var parentDiv = thisScriptTag.parentNode;\n",
       "                    e = document.createElement('div');\n",
       "                    parentDiv.appendChild(e);\n",
       "                } else {\n",
       "                    e = element[0];\n",
       "                }\n",
       "\n",
       "                if (typeof requirejs !== 'undefined') {\n",
       "                    // disable load timeout; ipython_app.js is large and can take a while to load.\n",
       "                    requirejs.config({waitSeconds: 0});\n",
       "                }\n",
       "\n",
       "                require(['https://static.turi.com/products/graphlab-create/2.1/canvas/js/ipython_app.js'], function(IPythonApp){\n",
       "                    var app = new IPythonApp();\n",
       "                    app.attachView('sarray','Numeric', {\"ipython\": true, \"sketch\": {\"std\": 1.1256679707622514, \"complete\": true, \"min\": 1.0, \"max\": 5.0, \"quantile\": [1.0, 1.0, 1.0, 1.0, 1.0, 1.0, 1.0, 2.0, 2.0, 2.0, 2.0, 2.0, 2.0, 2.0, 2.0, 2.0, 2.0, 2.0, 3.0, 3.0, 3.0, 3.0, 3.0, 3.0, 3.0, 3.0, 3.0, 3.0, 3.0, 3.0, 3.0, 3.0, 3.0, 3.0, 3.0, 3.0, 3.0, 3.0, 3.0, 3.0, 3.0, 3.0, 3.0, 3.0, 3.0, 4.0, 4.0, 4.0, 4.0, 4.0, 4.0, 4.0, 4.0, 4.0, 4.0, 4.0, 4.0, 4.0, 4.0, 4.0, 4.0, 4.0, 4.0, 4.0, 4.0, 4.0, 4.0, 4.0, 4.0, 4.0, 4.0, 4.0, 4.0, 4.0, 4.0, 4.0, 4.0, 4.0, 4.0, 5.0, 5.0, 5.0, 5.0, 5.0, 5.0, 5.0, 5.0, 5.0, 5.0, 5.0, 5.0, 5.0, 5.0, 5.0, 5.0, 5.0, 5.0, 5.0, 5.0, 5.0, 5.0], \"median\": 4.0, \"numeric\": true, \"num_unique\": 5, \"num_undefined\": 0, \"var\": 1.2671283804000049, \"progress\": 1.0, \"size\": 100000, \"frequent_items\": {\"1\": {\"frequency\": 6110, \"value\": 1}, \"2\": {\"frequency\": 11370, \"value\": 2}, \"3\": {\"frequency\": 27145, \"value\": 3}, \"4\": {\"frequency\": 34174, \"value\": 4}, \"5\": {\"frequency\": 21201, \"value\": 5}}, \"mean\": 3.5298600000000007}, \"selected_variable\": {\"name\": [\"<SArray>\"], \"dtype\": \"int\", \"view_component\": \"Numeric\", \"view_file\": \"sarray\", \"descriptives\": {\"rows\": 100000}, \"type\": \"SArray\", \"view_components\": [\"Numeric\", \"Categorical\"]}, \"histogram\": {\"progress\": 1.0, \"histogram\": {\"max\": 5.027160000000017, \"bins\": [6110, 0, 0, 11370, 0, 0, 27145, 0, 34174, 0, 0, 21201], \"min\": 0.9721199999999832}, \"min\": 1, \"complete\": 1, \"max\": 5}}, e);\n",
       "                });\n",
       "            })();\n",
       "        "
      ]
     },
     "metadata": {},
     "output_type": "display_data"
    }
   ],
   "source": [
    "sframe['rating'].show()"
   ]
  },
  {
   "cell_type": "markdown",
   "metadata": {},
   "source": [
    "## Calculating Sparsity\n",
    "\n",
    "The dataset sparsity can be calculated as:\n",
    "$$ 𝑆𝑝𝑎𝑟𝑠𝑖𝑡𝑦 = 1 - \\frac{ 𝑁𝑢𝑚𝑏𝑒𝑟\\_𝑜𝑓\\_𝑅𝑎𝑡𝑖𝑛𝑔𝑠\\_𝑖𝑛\\_𝐷𝑎𝑡𝑎𝑠𝑒𝑡}{(𝑁𝑢𝑚𝑏𝑒𝑟\\_𝑜𝑓\\_𝑀𝑜𝑣𝑖𝑒𝑠) ∗ (𝑁𝑢𝑚𝑏𝑒𝑟\\_𝑜𝑓\\_𝑈𝑠𝑒𝑟𝑠)} ∗100\\% $$"
   ]
  },
  {
   "cell_type": "code",
   "execution_count": 6,
   "metadata": {},
   "outputs": [
    {
     "name": "stdout",
     "output_type": "stream",
     "text": [
      "Sparsity of dataset is 93.695331%\n"
     ]
    }
   ],
   "source": [
    "Number_Ratings = float(len(sframe['rating']))\n",
    "Number_Movies = float(len(sframe[\"item_id\"].unique()))\n",
    "Number_Users = float(len(sframe['user_id'].unique()))\n",
    "Sparsity = 100 - 100*(Number_Ratings/(Number_Movies*Number_Users))\n",
    "print\"Sparsity of dataset is %f%%\" % Sparsity"
   ]
  },
  {
   "cell_type": "markdown",
   "metadata": {},
   "source": [
    "## Reducing Sparsity\n",
    "\n",
    "If you want the data to be less sparse, for example, a good way to achieve that is to subset the data where you only select Users/Movies that have at least a certain number of observations in the dataset.\n",
    "\n",
    "In this example, the criteria we are using is to not include a user if they have fewer than 50 ratings. This value can be changed in the RATINGS_CUTOFF variable."
   ]
  },
  {
   "cell_type": "code",
   "execution_count": 7,
   "metadata": {},
   "outputs": [
    {
     "data": {
      "text/plain": [
       "\n",
       "+--------------------+---------------+----------+\n",
       "|        item        |     value     | is exact |\n",
       "+--------------------+---------------+----------+\n",
       "|       Length       |     100000    |   Yes    |\n",
       "|        Min         |      1.0      |   Yes    |\n",
       "|        Max         |     943.0     |   Yes    |\n",
       "|        Mean        |   462.48475   |   Yes    |\n",
       "|        Sum         |   46248475.0  |   Yes    |\n",
       "|      Variance      | 71082.5381874 |   Yes    |\n",
       "| Standard Deviation | 266.613087052 |   Yes    |\n",
       "|  # Missing Values  |       0       |   Yes    |\n",
       "|  # unique values   |      936      |    No    |\n",
       "+--------------------+---------------+----------+\n",
       "\n",
       "Most frequent items:\n",
       "+-------+-----+-----+-----+-----+-----+-----+-----+-----+-----+-----+\n",
       "| value | 405 | 655 |  13 | 450 | 276 | 416 | 537 | 303 | 234 | 393 |\n",
       "+-------+-----+-----+-----+-----+-----+-----+-----+-----+-----+-----+\n",
       "| count | 737 | 685 | 636 | 540 | 518 | 493 | 490 | 484 | 480 | 448 |\n",
       "+-------+-----+-----+-----+-----+-----+-----+-----+-----+-----+-----+\n",
       "\n",
       "Quantiles: \n",
       "+-----+-----+------+-------+-------+-------+-------+-------+-------+\n",
       "|  0% |  1% |  5%  |  25%  |  50%  |  75%  |  95%  |  99%  |  100% |\n",
       "+-----+-----+------+-------+-------+-------+-------+-------+-------+\n",
       "| 1.0 | 7.0 | 45.0 | 254.0 | 447.0 | 682.0 | 893.0 | 933.0 | 943.0 |\n",
       "+-----+-----+------+-------+-------+-------+-------+-------+-------+"
      ]
     },
     "execution_count": 7,
     "metadata": {},
     "output_type": "execute_result"
    }
   ],
   "source": [
    "sframe['user_id'].sketch_summary()"
   ]
  },
  {
   "cell_type": "code",
   "execution_count": 8,
   "metadata": {},
   "outputs": [
    {
     "data": {
      "text/plain": [
       "\n",
       "+--------------------+---------------+----------+\n",
       "|        item        |     value     | is exact |\n",
       "+--------------------+---------------+----------+\n",
       "|       Length       |     88471     |   Yes    |\n",
       "|        Min         |      1.0      |   Yes    |\n",
       "|        Max         |     943.0     |   Yes    |\n",
       "|        Mean        | 458.169377536 |   Yes    |\n",
       "|        Sum         |   40534703.0  |   Yes    |\n",
       "|      Variance      | 70373.1553942 |   Yes    |\n",
       "| Standard Deviation | 265.279391198 |   Yes    |\n",
       "|  # Missing Values  |       0       |   Yes    |\n",
       "|  # unique values   |      565      |    No    |\n",
       "+--------------------+---------------+----------+\n",
       "\n",
       "Most frequent items:\n",
       "+-------+-----+-----+-----+-----+-----+-----+-----+-----+-----+-----+\n",
       "| value | 405 | 655 |  13 | 450 | 276 | 416 | 537 | 303 | 234 | 393 |\n",
       "+-------+-----+-----+-----+-----+-----+-----+-----+-----+-----+-----+\n",
       "| count | 737 | 685 | 636 | 540 | 518 | 493 | 490 | 484 | 480 | 448 |\n",
       "+-------+-----+-----+-----+-----+-----+-----+-----+-----+-----+-----+\n",
       "\n",
       "Quantiles: \n",
       "+-----+-----+------+-------+-------+-------+-------+-------+-------+\n",
       "|  0% |  1% |  5%  |  25%  |  50%  |  75%  |  95%  |  99%  |  100% |\n",
       "+-----+-----+------+-------+-------+-------+-------+-------+-------+\n",
       "| 1.0 | 7.0 | 44.0 | 256.0 | 435.0 | 666.0 | 892.0 | 933.0 | 943.0 |\n",
       "+-----+-----+------+-------+-------+-------+-------+-------+-------+"
      ]
     },
     "execution_count": 8,
     "metadata": {},
     "output_type": "execute_result"
    }
   ],
   "source": [
    "from itertools import groupby\n",
    "RATINGS_CUTOFF = 50\n",
    "user = [i for i, l in groupby(sorted(sframe['user_id'])) if len(list(l))>=RATINGS_CUTOFF]\n",
    "sframe_dense = sframe.filter_by(user, 'user_id')\n",
    "sframe_dense['user_id'].sketch_summary()"
   ]
  },
  {
   "cell_type": "markdown",
   "metadata": {},
   "source": [
    "## Recalculate sparsity\n",
    "\n",
    "We will now recalculate the sparsity of the subsetted data."
   ]
  },
  {
   "cell_type": "code",
   "execution_count": 9,
   "metadata": {},
   "outputs": [
    {
     "name": "stdout",
     "output_type": "stream",
     "text": [
      "Sparsity of dataset is 90.734158%\n"
     ]
    }
   ],
   "source": [
    "Number_Ratings = float(len(sframe_dense['rating']))\n",
    "Number_Movies = float(len(sframe_dense['item_id'].unique()))\n",
    "Number_Users = float(len(sframe_dense['user_id'].unique()))\n",
    "Sparsity = 100 - 100*(Number_Ratings/(Number_Movies*Number_Users))\n",
    "print\"Sparsity of dataset is %f%%\" % Sparsity"
   ]
  },
  {
   "cell_type": "markdown",
   "metadata": {},
   "source": [
    "## Building Recommender Using GraphLab\n",
    "\n",
    "We are building recommenders using GraphLab in this example. However, if you are interested to build your own recommender, following are some useful resources:\n",
    "- [How to build a recommender system in python](https://blogs.gartner.com/martin-kihn/how-to-build-a-recommender-system-in-python/)\n",
    "- [Intro to recommender systems: Collaborative Filtering](http://blog.ethanrosenthal.com/2015/11/02/intro-to-collaborative-filtering/)\n",
    "- [Implementing your own recommender systems in Python](https://cambridgespark.com/content/tutorials/implementing-your-own-recommender-systems-in-Python/index.html)"
   ]
  },
  {
   "cell_type": "markdown",
   "metadata": {},
   "source": [
    "## Splitting Data Randomly into Training Set, Validation Set and Testing Set\n",
    "We now subset the data into Training, Validation, and Testing sets to use for our different models. In this example we are doing a 70/30 split for the training data and the testing data.  We also make a 75/25 split from the training data to final training data and validation data"
   ]
  },
  {
   "cell_type": "code",
   "execution_count": 10,
   "metadata": {},
   "outputs": [
    {
     "name": "stdout",
     "output_type": "stream",
     "text": [
      "Total Training Set sample #: 46254\n",
      "Total Validation Set sample #: 15568\n",
      "Total Testing Set sample #: 26649\n"
     ]
    }
   ],
   "source": [
    "sf_train, sf_test = sframe_dense.random_split(.7, seed=42)\n",
    "sf_train, sf_validate = sf_train.random_split(.75, seed=42)\n",
    "print \"Total Training Set sample #: %d\" % sf_train.num_rows()\n",
    "print \"Total Validation Set sample #: %d\" % sf_validate.num_rows()\n",
    "print \"Total Testing Set sample #: %d\" % sf_test.num_rows()"
   ]
  },
  {
   "cell_type": "markdown",
   "metadata": {},
   "source": [
    "## Popularity Recommender\n",
    "\n",
    "GraphLab provides an easy to use popularity recommender:\n",
    "\n",
    "*graphlab.recommender.popularity_recommender.create*\n",
    ">Create a model that makes recommendations using item popularity. When no target column is provided, the popularity is determined by the number of observations involving each item. When a target is provided, popularity is computed using the item’s mean target value. When the target column contains ratings, for example, the model computes the mean rating for each item and uses this to rank items for recommendations.\n",
    "\n",
    "We create the model using the training data and test the RMSE on the test data."
   ]
  },
  {
   "cell_type": "code",
   "execution_count": 11,
   "metadata": {},
   "outputs": [
    {
     "data": {
      "text/html": [
       "<pre>Recsys training: model = popularity</pre>"
      ],
      "text/plain": [
       "Recsys training: model = popularity"
      ]
     },
     "metadata": {},
     "output_type": "display_data"
    },
    {
     "data": {
      "text/html": [
       "<pre>Warning: Ignoring columns timestamp;</pre>"
      ],
      "text/plain": [
       "Warning: Ignoring columns timestamp;"
      ]
     },
     "metadata": {},
     "output_type": "display_data"
    },
    {
     "data": {
      "text/html": [
       "<pre>    To use these columns in scoring predictions, use a model that allows the use of additional features.</pre>"
      ],
      "text/plain": [
       "    To use these columns in scoring predictions, use a model that allows the use of additional features."
      ]
     },
     "metadata": {},
     "output_type": "display_data"
    },
    {
     "data": {
      "text/html": [
       "<pre>Preparing data set.</pre>"
      ],
      "text/plain": [
       "Preparing data set."
      ]
     },
     "metadata": {},
     "output_type": "display_data"
    },
    {
     "data": {
      "text/html": [
       "<pre>    Data has 46254 observations with 568 users and 1584 items.</pre>"
      ],
      "text/plain": [
       "    Data has 46254 observations with 568 users and 1584 items."
      ]
     },
     "metadata": {},
     "output_type": "display_data"
    },
    {
     "data": {
      "text/html": [
       "<pre>    Data prepared in: 0.124498s</pre>"
      ],
      "text/plain": [
       "    Data prepared in: 0.124498s"
      ]
     },
     "metadata": {},
     "output_type": "display_data"
    },
    {
     "data": {
      "text/html": [
       "<pre>46254 observations to process; with 1584 unique items.</pre>"
      ],
      "text/plain": [
       "46254 observations to process; with 1584 unique items."
      ]
     },
     "metadata": {},
     "output_type": "display_data"
    },
    {
     "data": {
      "text/plain": [
       "{'rmse_by_item': Columns:\n",
       " \titem_id\tint\n",
       " \tcount\tint\n",
       " \trmse\tfloat\n",
       " \n",
       " Rows: 1486\n",
       " \n",
       " Data:\n",
       " +---------+-------+----------------+\n",
       " | item_id | count |      rmse      |\n",
       " +---------+-------+----------------+\n",
       " |   118   |   69  | 0.962231705502 |\n",
       " |   1029  |   3   | 1.82574185835  |\n",
       " |   435   |   56  | 0.966852685548 |\n",
       " |   1517  |   1   |      1.0       |\n",
       " |   537   |   8   | 1.22474487139  |\n",
       " |   526   |   33  | 1.10980172117  |\n",
       " |   232   |   32  | 1.00385061109  |\n",
       " |   310   |   26  | 0.870162144034 |\n",
       " |    49   |   23  | 0.972104258981 |\n",
       " |    13   |   41  | 0.977946946611 |\n",
       " +---------+-------+----------------+\n",
       " [1486 rows x 3 columns]\n",
       " Note: Only the head of the SFrame is printed.\n",
       " You can use print_rows(num_rows=m, num_columns=n) to print more rows and columns.,\n",
       " 'rmse_by_user': Columns:\n",
       " \tuser_id\tint\n",
       " \tcount\tint\n",
       " \trmse\tfloat\n",
       " \n",
       " Rows: 568\n",
       " \n",
       " Data:\n",
       " +---------+-------+----------------+\n",
       " | user_id | count |      rmse      |\n",
       " +---------+-------+----------------+\n",
       " |   118   |   25  | 1.20072645374  |\n",
       " |   435   |  112  | 0.969000679003 |\n",
       " |   537   |  157  | 1.12964997276  |\n",
       " |   526   |   21  | 0.986730986242 |\n",
       " |   232   |   28  | 0.703560500211 |\n",
       " |    49   |   62  |  1.1818158753  |\n",
       " |    13   |  188  | 1.27426814645  |\n",
       " |   363   |  101  | 1.25783822676  |\n",
       " |    60   |   61  | 0.690905510328 |\n",
       " |   738   |   46  | 0.601825743597 |\n",
       " +---------+-------+----------------+\n",
       " [568 rows x 3 columns]\n",
       " Note: Only the head of the SFrame is printed.\n",
       " You can use print_rows(num_rows=m, num_columns=n) to print more rows and columns.,\n",
       " 'rmse_overall': 1.0257845889343413}"
      ]
     },
     "execution_count": 11,
     "metadata": {},
     "output_type": "execute_result"
    }
   ],
   "source": [
    "popularity_recommender = gl.recommender.popularity_recommender.create(sf_train, \\\n",
    "                                                                      user_id='user_id', \\\n",
    "                                                                      item_id='item_id', \\\n",
    "                                                                      target='rating', \\\n",
    "                                                                      random_seed=42)\n",
    "popularity_recommender.evaluate_rmse(sf_test,'rating')"
   ]
  },
  {
   "cell_type": "markdown",
   "metadata": {},
   "source": [
    "## Collaborative Filtering\n",
    "\n",
    "For collaborative filtering we will use GraphLab's Factorization Recommender model. We initialize the model with the training data and use the validation data to determine the best regularization term to use:\n",
    "\n",
    "*graphlab.recommender.factorization_recommender.create*\n",
    ">Create a FactorizationRecommender that learns latent factors for each user and item and uses them to make rating predictions. This includes both standard matrix factorization as well as factorization machines models (in the situation where side data is available for users and/or items)."
   ]
  },
  {
   "cell_type": "code",
   "execution_count": 12,
   "metadata": {},
   "outputs": [
    {
     "data": {
      "text/html": [
       "<pre>Recsys training: model = factorization_recommender</pre>"
      ],
      "text/plain": [
       "Recsys training: model = factorization_recommender"
      ]
     },
     "metadata": {},
     "output_type": "display_data"
    },
    {
     "data": {
      "text/html": [
       "<pre>Preparing data set.</pre>"
      ],
      "text/plain": [
       "Preparing data set."
      ]
     },
     "metadata": {},
     "output_type": "display_data"
    },
    {
     "data": {
      "text/html": [
       "<pre>    Data has 46254 observations with 568 users and 1584 items.</pre>"
      ],
      "text/plain": [
       "    Data has 46254 observations with 568 users and 1584 items."
      ]
     },
     "metadata": {},
     "output_type": "display_data"
    },
    {
     "data": {
      "text/html": [
       "<pre>    Data prepared in: 0.213149s</pre>"
      ],
      "text/plain": [
       "    Data prepared in: 0.213149s"
      ]
     },
     "metadata": {},
     "output_type": "display_data"
    },
    {
     "data": {
      "text/html": [
       "<pre>Training factorization_recommender for recommendations.</pre>"
      ],
      "text/plain": [
       "Training factorization_recommender for recommendations."
      ]
     },
     "metadata": {},
     "output_type": "display_data"
    },
    {
     "data": {
      "text/html": [
       "<pre>+--------------------------------+--------------------------------------------------+----------+</pre>"
      ],
      "text/plain": [
       "+--------------------------------+--------------------------------------------------+----------+"
      ]
     },
     "metadata": {},
     "output_type": "display_data"
    },
    {
     "data": {
      "text/html": [
       "<pre>| Parameter                      | Description                                      | Value    |</pre>"
      ],
      "text/plain": [
       "| Parameter                      | Description                                      | Value    |"
      ]
     },
     "metadata": {},
     "output_type": "display_data"
    },
    {
     "data": {
      "text/html": [
       "<pre>+--------------------------------+--------------------------------------------------+----------+</pre>"
      ],
      "text/plain": [
       "+--------------------------------+--------------------------------------------------+----------+"
      ]
     },
     "metadata": {},
     "output_type": "display_data"
    },
    {
     "data": {
      "text/html": [
       "<pre>| num_factors                    | Factor Dimension                                 | 8        |</pre>"
      ],
      "text/plain": [
       "| num_factors                    | Factor Dimension                                 | 8        |"
      ]
     },
     "metadata": {},
     "output_type": "display_data"
    },
    {
     "data": {
      "text/html": [
       "<pre>| regularization                 | L2 Regularization on Factors                     | 1e-05    |</pre>"
      ],
      "text/plain": [
       "| regularization                 | L2 Regularization on Factors                     | 1e-05    |"
      ]
     },
     "metadata": {},
     "output_type": "display_data"
    },
    {
     "data": {
      "text/html": [
       "<pre>| solver                         | Solver used for training                         | adagrad  |</pre>"
      ],
      "text/plain": [
       "| solver                         | Solver used for training                         | adagrad  |"
      ]
     },
     "metadata": {},
     "output_type": "display_data"
    },
    {
     "data": {
      "text/html": [
       "<pre>| linear_regularization          | L2 Regularization on Linear Coefficients         | 1e-10    |</pre>"
      ],
      "text/plain": [
       "| linear_regularization          | L2 Regularization on Linear Coefficients         | 1e-10    |"
      ]
     },
     "metadata": {},
     "output_type": "display_data"
    },
    {
     "data": {
      "text/html": [
       "<pre>| max_iterations                 | Maximum Number of Iterations                     | 50       |</pre>"
      ],
      "text/plain": [
       "| max_iterations                 | Maximum Number of Iterations                     | 50       |"
      ]
     },
     "metadata": {},
     "output_type": "display_data"
    },
    {
     "data": {
      "text/html": [
       "<pre>+--------------------------------+--------------------------------------------------+----------+</pre>"
      ],
      "text/plain": [
       "+--------------------------------+--------------------------------------------------+----------+"
      ]
     },
     "metadata": {},
     "output_type": "display_data"
    },
    {
     "data": {
      "text/html": [
       "<pre>  Optimizing model using SGD; tuning step size.</pre>"
      ],
      "text/plain": [
       "  Optimizing model using SGD; tuning step size."
      ]
     },
     "metadata": {},
     "output_type": "display_data"
    },
    {
     "data": {
      "text/html": [
       "<pre>  Using 10000 / 46254 points for tuning the step size.</pre>"
      ],
      "text/plain": [
       "  Using 10000 / 46254 points for tuning the step size."
      ]
     },
     "metadata": {},
     "output_type": "display_data"
    },
    {
     "data": {
      "text/html": [
       "<pre>+---------+-------------------+------------------------------------------+</pre>"
      ],
      "text/plain": [
       "+---------+-------------------+------------------------------------------+"
      ]
     },
     "metadata": {},
     "output_type": "display_data"
    },
    {
     "data": {
      "text/html": [
       "<pre>| Attempt | Initial Step Size | Estimated Objective Value                |</pre>"
      ],
      "text/plain": [
       "| Attempt | Initial Step Size | Estimated Objective Value                |"
      ]
     },
     "metadata": {},
     "output_type": "display_data"
    },
    {
     "data": {
      "text/html": [
       "<pre>+---------+-------------------+------------------------------------------+</pre>"
      ],
      "text/plain": [
       "+---------+-------------------+------------------------------------------+"
      ]
     },
     "metadata": {},
     "output_type": "display_data"
    },
    {
     "data": {
      "text/html": [
       "<pre>| 0       | 16.6667           | Not Viable                               |</pre>"
      ],
      "text/plain": [
       "| 0       | 16.6667           | Not Viable                               |"
      ]
     },
     "metadata": {},
     "output_type": "display_data"
    },
    {
     "data": {
      "text/html": [
       "<pre>| 1       | 4.16667           | Not Viable                               |</pre>"
      ],
      "text/plain": [
       "| 1       | 4.16667           | Not Viable                               |"
      ]
     },
     "metadata": {},
     "output_type": "display_data"
    },
    {
     "data": {
      "text/html": [
       "<pre>| 2       | 1.04167           | Not Viable                               |</pre>"
      ],
      "text/plain": [
       "| 2       | 1.04167           | Not Viable                               |"
      ]
     },
     "metadata": {},
     "output_type": "display_data"
    },
    {
     "data": {
      "text/html": [
       "<pre>| 3       | 0.260417          | 0.670347                                 |</pre>"
      ],
      "text/plain": [
       "| 3       | 0.260417          | 0.670347                                 |"
      ]
     },
     "metadata": {},
     "output_type": "display_data"
    },
    {
     "data": {
      "text/html": [
       "<pre>| 4       | 0.130208          | 0.657888                                 |</pre>"
      ],
      "text/plain": [
       "| 4       | 0.130208          | 0.657888                                 |"
      ]
     },
     "metadata": {},
     "output_type": "display_data"
    },
    {
     "data": {
      "text/html": [
       "<pre>| 5       | 0.0651042         | 0.605797                                 |</pre>"
      ],
      "text/plain": [
       "| 5       | 0.0651042         | 0.605797                                 |"
      ]
     },
     "metadata": {},
     "output_type": "display_data"
    },
    {
     "data": {
      "text/html": [
       "<pre>| 6       | 0.0325521         | 0.854476                                 |</pre>"
      ],
      "text/plain": [
       "| 6       | 0.0325521         | 0.854476                                 |"
      ]
     },
     "metadata": {},
     "output_type": "display_data"
    },
    {
     "data": {
      "text/html": [
       "<pre>| 7       | 0.016276          | 1.0255                                   |</pre>"
      ],
      "text/plain": [
       "| 7       | 0.016276          | 1.0255                                   |"
      ]
     },
     "metadata": {},
     "output_type": "display_data"
    },
    {
     "data": {
      "text/html": [
       "<pre>| 8       | 0.00813802        | 1.06693                                  |</pre>"
      ],
      "text/plain": [
       "| 8       | 0.00813802        | 1.06693                                  |"
      ]
     },
     "metadata": {},
     "output_type": "display_data"
    },
    {
     "data": {
      "text/html": [
       "<pre>+---------+-------------------+------------------------------------------+</pre>"
      ],
      "text/plain": [
       "+---------+-------------------+------------------------------------------+"
      ]
     },
     "metadata": {},
     "output_type": "display_data"
    },
    {
     "data": {
      "text/html": [
       "<pre>| Final   | 0.0651042         | 0.605797                                 |</pre>"
      ],
      "text/plain": [
       "| Final   | 0.0651042         | 0.605797                                 |"
      ]
     },
     "metadata": {},
     "output_type": "display_data"
    },
    {
     "data": {
      "text/html": [
       "<pre>+---------+-------------------+------------------------------------------+</pre>"
      ],
      "text/plain": [
       "+---------+-------------------+------------------------------------------+"
      ]
     },
     "metadata": {},
     "output_type": "display_data"
    },
    {
     "data": {
      "text/html": [
       "<pre>Starting Optimization.</pre>"
      ],
      "text/plain": [
       "Starting Optimization."
      ]
     },
     "metadata": {},
     "output_type": "display_data"
    },
    {
     "data": {
      "text/html": [
       "<pre>+---------+--------------+-------------------+-----------------------+-------------+</pre>"
      ],
      "text/plain": [
       "+---------+--------------+-------------------+-----------------------+-------------+"
      ]
     },
     "metadata": {},
     "output_type": "display_data"
    },
    {
     "data": {
      "text/html": [
       "<pre>| Iter.   | Elapsed Time | Approx. Objective | Approx. Training RMSE | Step Size   |</pre>"
      ],
      "text/plain": [
       "| Iter.   | Elapsed Time | Approx. Objective | Approx. Training RMSE | Step Size   |"
      ]
     },
     "metadata": {},
     "output_type": "display_data"
    },
    {
     "data": {
      "text/html": [
       "<pre>+---------+--------------+-------------------+-----------------------+-------------+</pre>"
      ],
      "text/plain": [
       "+---------+--------------+-------------------+-----------------------+-------------+"
      ]
     },
     "metadata": {},
     "output_type": "display_data"
    },
    {
     "data": {
      "text/html": [
       "<pre>| Initial | 121us        | 1.27553           | 1.1294                |             |</pre>"
      ],
      "text/plain": [
       "| Initial | 121us        | 1.27553           | 1.1294                |             |"
      ]
     },
     "metadata": {},
     "output_type": "display_data"
    },
    {
     "data": {
      "text/html": [
       "<pre>+---------+--------------+-------------------+-----------------------+-------------+</pre>"
      ],
      "text/plain": [
       "+---------+--------------+-------------------+-----------------------+-------------+"
      ]
     },
     "metadata": {},
     "output_type": "display_data"
    },
    {
     "data": {
      "text/html": [
       "<pre>| 1       | 380.486ms    | 1.06998           | 1.034                 | 0.0651042   |</pre>"
      ],
      "text/plain": [
       "| 1       | 380.486ms    | 1.06998           | 1.034                 | 0.0651042   |"
      ]
     },
     "metadata": {},
     "output_type": "display_data"
    },
    {
     "data": {
      "text/html": [
       "<pre>| 2       | 682.361ms    | 0.901707          | 0.949067              | 0.0651042   |</pre>"
      ],
      "text/plain": [
       "| 2       | 682.361ms    | 0.901707          | 0.949067              | 0.0651042   |"
      ]
     },
     "metadata": {},
     "output_type": "display_data"
    },
    {
     "data": {
      "text/html": [
       "<pre>| 3       | 991.794ms    | 0.866127          | 0.930059              | 0.0651042   |</pre>"
      ],
      "text/plain": [
       "| 3       | 991.794ms    | 0.866127          | 0.930059              | 0.0651042   |"
      ]
     },
     "metadata": {},
     "output_type": "display_data"
    },
    {
     "data": {
      "text/html": [
       "<pre>| 4       | 1.29s        | 0.847971          | 0.920191              | 0.0651042   |</pre>"
      ],
      "text/plain": [
       "| 4       | 1.29s        | 0.847971          | 0.920191              | 0.0651042   |"
      ]
     },
     "metadata": {},
     "output_type": "display_data"
    },
    {
     "data": {
      "text/html": [
       "<pre>| 5       | 1.59s        | 0.836485          | 0.913879              | 0.0651042   |</pre>"
      ],
      "text/plain": [
       "| 5       | 1.59s        | 0.836485          | 0.913879              | 0.0651042   |"
      ]
     },
     "metadata": {},
     "output_type": "display_data"
    },
    {
     "data": {
      "text/html": [
       "<pre>| 6       | 1.89s        | 0.828287          | 0.909339              | 0.0651042   |</pre>"
      ],
      "text/plain": [
       "| 6       | 1.89s        | 0.828287          | 0.909339              | 0.0651042   |"
      ]
     },
     "metadata": {},
     "output_type": "display_data"
    },
    {
     "data": {
      "text/html": [
       "<pre>| 10      | 3.00s        | 0.808715          | 0.898326              | 0.0651042   |</pre>"
      ],
      "text/plain": [
       "| 10      | 3.00s        | 0.808715          | 0.898326              | 0.0651042   |"
      ]
     },
     "metadata": {},
     "output_type": "display_data"
    },
    {
     "data": {
      "text/html": [
       "<pre>| 11      | 3.38s        | 0.805175          | 0.896316              | 0.0651042   |</pre>"
      ],
      "text/plain": [
       "| 11      | 3.38s        | 0.805175          | 0.896316              | 0.0651042   |"
      ]
     },
     "metadata": {},
     "output_type": "display_data"
    },
    {
     "data": {
      "text/html": [
       "<pre>| 15      | 4.38s        | 0.792144          | 0.888814              | 0.0651042   |</pre>"
      ],
      "text/plain": [
       "| 15      | 4.38s        | 0.792144          | 0.888814              | 0.0651042   |"
      ]
     },
     "metadata": {},
     "output_type": "display_data"
    },
    {
     "data": {
      "text/html": [
       "<pre>| 20      | 5.89s        | 0.775399          | 0.879026              | 0.0651042   |</pre>"
      ],
      "text/plain": [
       "| 20      | 5.89s        | 0.775399          | 0.879026              | 0.0651042   |"
      ]
     },
     "metadata": {},
     "output_type": "display_data"
    },
    {
     "data": {
      "text/html": [
       "<pre>| 25      | 7.49s        | 0.757498          | 0.868432              | 0.0651042   |</pre>"
      ],
      "text/plain": [
       "| 25      | 7.49s        | 0.757498          | 0.868432              | 0.0651042   |"
      ]
     },
     "metadata": {},
     "output_type": "display_data"
    },
    {
     "data": {
      "text/html": [
       "<pre>| 30      | 8.98s        | 0.738129          | 0.85679               | 0.0651042   |</pre>"
      ],
      "text/plain": [
       "| 30      | 8.98s        | 0.738129          | 0.85679               | 0.0651042   |"
      ]
     },
     "metadata": {},
     "output_type": "display_data"
    },
    {
     "data": {
      "text/html": [
       "<pre>| 35      | 10.28s       | 0.71705           | 0.843915              | 0.0651042   |</pre>"
      ],
      "text/plain": [
       "| 35      | 10.28s       | 0.71705           | 0.843915              | 0.0651042   |"
      ]
     },
     "metadata": {},
     "output_type": "display_data"
    },
    {
     "data": {
      "text/html": [
       "<pre>| 40      | 11.68s       | 0.695667          | 0.830599              | 0.0651042   |</pre>"
      ],
      "text/plain": [
       "| 40      | 11.68s       | 0.695667          | 0.830599              | 0.0651042   |"
      ]
     },
     "metadata": {},
     "output_type": "display_data"
    },
    {
     "data": {
      "text/html": [
       "<pre>| 45      | 13.28s       | 0.675973          | 0.818076              | 0.0651042   |</pre>"
      ],
      "text/plain": [
       "| 45      | 13.28s       | 0.675973          | 0.818076              | 0.0651042   |"
      ]
     },
     "metadata": {},
     "output_type": "display_data"
    },
    {
     "data": {
      "text/html": [
       "<pre>| 50      | 14.78s       | 0.656641          | 0.805579              | 0.0651042   |</pre>"
      ],
      "text/plain": [
       "| 50      | 14.78s       | 0.656641          | 0.805579              | 0.0651042   |"
      ]
     },
     "metadata": {},
     "output_type": "display_data"
    },
    {
     "data": {
      "text/html": [
       "<pre>+---------+--------------+-------------------+-----------------------+-------------+</pre>"
      ],
      "text/plain": [
       "+---------+--------------+-------------------+-----------------------+-------------+"
      ]
     },
     "metadata": {},
     "output_type": "display_data"
    },
    {
     "data": {
      "text/html": [
       "<pre>Optimization Complete: Maximum number of passes through the data reached.</pre>"
      ],
      "text/plain": [
       "Optimization Complete: Maximum number of passes through the data reached."
      ]
     },
     "metadata": {},
     "output_type": "display_data"
    },
    {
     "data": {
      "text/html": [
       "<pre>Computing final objective value and training RMSE.</pre>"
      ],
      "text/plain": [
       "Computing final objective value and training RMSE."
      ]
     },
     "metadata": {},
     "output_type": "display_data"
    },
    {
     "data": {
      "text/html": [
       "<pre>       Final objective value: 0.646733</pre>"
      ],
      "text/plain": [
       "       Final objective value: 0.646733"
      ]
     },
     "metadata": {},
     "output_type": "display_data"
    },
    {
     "data": {
      "text/html": [
       "<pre>       Final training RMSE: 0.799406</pre>"
      ],
      "text/plain": [
       "       Final training RMSE: 0.799406"
      ]
     },
     "metadata": {},
     "output_type": "display_data"
    },
    {
     "data": {
      "text/html": [
       "<pre>Recsys training: model = factorization_recommender</pre>"
      ],
      "text/plain": [
       "Recsys training: model = factorization_recommender"
      ]
     },
     "metadata": {},
     "output_type": "display_data"
    },
    {
     "data": {
      "text/html": [
       "<pre>Preparing data set.</pre>"
      ],
      "text/plain": [
       "Preparing data set."
      ]
     },
     "metadata": {},
     "output_type": "display_data"
    },
    {
     "data": {
      "text/html": [
       "<pre>    Data has 46254 observations with 568 users and 1584 items.</pre>"
      ],
      "text/plain": [
       "    Data has 46254 observations with 568 users and 1584 items."
      ]
     },
     "metadata": {},
     "output_type": "display_data"
    },
    {
     "data": {
      "text/html": [
       "<pre>    Data prepared in: 0.174077s</pre>"
      ],
      "text/plain": [
       "    Data prepared in: 0.174077s"
      ]
     },
     "metadata": {},
     "output_type": "display_data"
    },
    {
     "data": {
      "text/html": [
       "<pre>Training factorization_recommender for recommendations.</pre>"
      ],
      "text/plain": [
       "Training factorization_recommender for recommendations."
      ]
     },
     "metadata": {},
     "output_type": "display_data"
    },
    {
     "data": {
      "text/html": [
       "<pre>+--------------------------------+--------------------------------------------------+----------+</pre>"
      ],
      "text/plain": [
       "+--------------------------------+--------------------------------------------------+----------+"
      ]
     },
     "metadata": {},
     "output_type": "display_data"
    },
    {
     "data": {
      "text/html": [
       "<pre>| Parameter                      | Description                                      | Value    |</pre>"
      ],
      "text/plain": [
       "| Parameter                      | Description                                      | Value    |"
      ]
     },
     "metadata": {},
     "output_type": "display_data"
    },
    {
     "data": {
      "text/html": [
       "<pre>+--------------------------------+--------------------------------------------------+----------+</pre>"
      ],
      "text/plain": [
       "+--------------------------------+--------------------------------------------------+----------+"
      ]
     },
     "metadata": {},
     "output_type": "display_data"
    },
    {
     "data": {
      "text/html": [
       "<pre>| num_factors                    | Factor Dimension                                 | 8        |</pre>"
      ],
      "text/plain": [
       "| num_factors                    | Factor Dimension                                 | 8        |"
      ]
     },
     "metadata": {},
     "output_type": "display_data"
    },
    {
     "data": {
      "text/html": [
       "<pre>| regularization                 | L2 Regularization on Factors                     | 0.0001   |</pre>"
      ],
      "text/plain": [
       "| regularization                 | L2 Regularization on Factors                     | 0.0001   |"
      ]
     },
     "metadata": {},
     "output_type": "display_data"
    },
    {
     "data": {
      "text/html": [
       "<pre>| solver                         | Solver used for training                         | adagrad  |</pre>"
      ],
      "text/plain": [
       "| solver                         | Solver used for training                         | adagrad  |"
      ]
     },
     "metadata": {},
     "output_type": "display_data"
    },
    {
     "data": {
      "text/html": [
       "<pre>| linear_regularization          | L2 Regularization on Linear Coefficients         | 1e-10    |</pre>"
      ],
      "text/plain": [
       "| linear_regularization          | L2 Regularization on Linear Coefficients         | 1e-10    |"
      ]
     },
     "metadata": {},
     "output_type": "display_data"
    },
    {
     "data": {
      "text/html": [
       "<pre>| max_iterations                 | Maximum Number of Iterations                     | 50       |</pre>"
      ],
      "text/plain": [
       "| max_iterations                 | Maximum Number of Iterations                     | 50       |"
      ]
     },
     "metadata": {},
     "output_type": "display_data"
    },
    {
     "data": {
      "text/html": [
       "<pre>+--------------------------------+--------------------------------------------------+----------+</pre>"
      ],
      "text/plain": [
       "+--------------------------------+--------------------------------------------------+----------+"
      ]
     },
     "metadata": {},
     "output_type": "display_data"
    },
    {
     "data": {
      "text/html": [
       "<pre>  Optimizing model using SGD; tuning step size.</pre>"
      ],
      "text/plain": [
       "  Optimizing model using SGD; tuning step size."
      ]
     },
     "metadata": {},
     "output_type": "display_data"
    },
    {
     "data": {
      "text/html": [
       "<pre>  Using 10000 / 46254 points for tuning the step size.</pre>"
      ],
      "text/plain": [
       "  Using 10000 / 46254 points for tuning the step size."
      ]
     },
     "metadata": {},
     "output_type": "display_data"
    },
    {
     "data": {
      "text/html": [
       "<pre>+---------+-------------------+------------------------------------------+</pre>"
      ],
      "text/plain": [
       "+---------+-------------------+------------------------------------------+"
      ]
     },
     "metadata": {},
     "output_type": "display_data"
    },
    {
     "data": {
      "text/html": [
       "<pre>| Attempt | Initial Step Size | Estimated Objective Value                |</pre>"
      ],
      "text/plain": [
       "| Attempt | Initial Step Size | Estimated Objective Value                |"
      ]
     },
     "metadata": {},
     "output_type": "display_data"
    },
    {
     "data": {
      "text/html": [
       "<pre>+---------+-------------------+------------------------------------------+</pre>"
      ],
      "text/plain": [
       "+---------+-------------------+------------------------------------------+"
      ]
     },
     "metadata": {},
     "output_type": "display_data"
    },
    {
     "data": {
      "text/html": [
       "<pre>| 0       | 15.9173           | Not Viable                               |</pre>"
      ],
      "text/plain": [
       "| 0       | 15.9173           | Not Viable                               |"
      ]
     },
     "metadata": {},
     "output_type": "display_data"
    },
    {
     "data": {
      "text/html": [
       "<pre>| 1       | 3.97934           | Not Viable                               |</pre>"
      ],
      "text/plain": [
       "| 1       | 3.97934           | Not Viable                               |"
      ]
     },
     "metadata": {},
     "output_type": "display_data"
    },
    {
     "data": {
      "text/html": [
       "<pre>| 2       | 0.994834          | Not Viable                               |</pre>"
      ],
      "text/plain": [
       "| 2       | 0.994834          | Not Viable                               |"
      ]
     },
     "metadata": {},
     "output_type": "display_data"
    },
    {
     "data": {
      "text/html": [
       "<pre>| 3       | 0.248708          | 0.61732                                  |</pre>"
      ],
      "text/plain": [
       "| 3       | 0.248708          | 0.61732                                  |"
      ]
     },
     "metadata": {},
     "output_type": "display_data"
    },
    {
     "data": {
      "text/html": [
       "<pre>| 4       | 0.124354          | 0.629406                                 |</pre>"
      ],
      "text/plain": [
       "| 4       | 0.124354          | 0.629406                                 |"
      ]
     },
     "metadata": {},
     "output_type": "display_data"
    },
    {
     "data": {
      "text/html": [
       "<pre>| 5       | 0.0621771         | 0.706071                                 |</pre>"
      ],
      "text/plain": [
       "| 5       | 0.0621771         | 0.706071                                 |"
      ]
     },
     "metadata": {},
     "output_type": "display_data"
    },
    {
     "data": {
      "text/html": [
       "<pre>| 6       | 0.0310886         | 0.868906                                 |</pre>"
      ],
      "text/plain": [
       "| 6       | 0.0310886         | 0.868906                                 |"
      ]
     },
     "metadata": {},
     "output_type": "display_data"
    },
    {
     "data": {
      "text/html": [
       "<pre>+---------+-------------------+------------------------------------------+</pre>"
      ],
      "text/plain": [
       "+---------+-------------------+------------------------------------------+"
      ]
     },
     "metadata": {},
     "output_type": "display_data"
    },
    {
     "data": {
      "text/html": [
       "<pre>| Final   | 0.248708          | 0.61732                                  |</pre>"
      ],
      "text/plain": [
       "| Final   | 0.248708          | 0.61732                                  |"
      ]
     },
     "metadata": {},
     "output_type": "display_data"
    },
    {
     "data": {
      "text/html": [
       "<pre>+---------+-------------------+------------------------------------------+</pre>"
      ],
      "text/plain": [
       "+---------+-------------------+------------------------------------------+"
      ]
     },
     "metadata": {},
     "output_type": "display_data"
    },
    {
     "data": {
      "text/html": [
       "<pre>Starting Optimization.</pre>"
      ],
      "text/plain": [
       "Starting Optimization."
      ]
     },
     "metadata": {},
     "output_type": "display_data"
    },
    {
     "data": {
      "text/html": [
       "<pre>+---------+--------------+-------------------+-----------------------+-------------+</pre>"
      ],
      "text/plain": [
       "+---------+--------------+-------------------+-----------------------+-------------+"
      ]
     },
     "metadata": {},
     "output_type": "display_data"
    },
    {
     "data": {
      "text/html": [
       "<pre>| Iter.   | Elapsed Time | Approx. Objective | Approx. Training RMSE | Step Size   |</pre>"
      ],
      "text/plain": [
       "| Iter.   | Elapsed Time | Approx. Objective | Approx. Training RMSE | Step Size   |"
      ]
     },
     "metadata": {},
     "output_type": "display_data"
    },
    {
     "data": {
      "text/html": [
       "<pre>+---------+--------------+-------------------+-----------------------+-------------+</pre>"
      ],
      "text/plain": [
       "+---------+--------------+-------------------+-----------------------+-------------+"
      ]
     },
     "metadata": {},
     "output_type": "display_data"
    },
    {
     "data": {
      "text/html": [
       "<pre>| Initial | 177us        | 1.27553           | 1.12939               |             |</pre>"
      ],
      "text/plain": [
       "| Initial | 177us        | 1.27553           | 1.12939               |             |"
      ]
     },
     "metadata": {},
     "output_type": "display_data"
    },
    {
     "data": {
      "text/html": [
       "<pre>+---------+--------------+-------------------+-----------------------+-------------+</pre>"
      ],
      "text/plain": [
       "+---------+--------------+-------------------+-----------------------+-------------+"
      ]
     },
     "metadata": {},
     "output_type": "display_data"
    },
    {
     "data": {
      "text/html": [
       "<pre>| 1       | 305.996ms    | 1.19663           | 1.07668               | 0.248708    |</pre>"
      ],
      "text/plain": [
       "| 1       | 305.996ms    | 1.19663           | 1.07668               | 0.248708    |"
      ]
     },
     "metadata": {},
     "output_type": "display_data"
    },
    {
     "data": {
      "text/html": [
       "<pre>| 2       | 613.424ms    | 0.881777          | 0.906092              | 0.248708    |</pre>"
      ],
      "text/plain": [
       "| 2       | 613.424ms    | 0.881777          | 0.906092              | 0.248708    |"
      ]
     },
     "metadata": {},
     "output_type": "display_data"
    },
    {
     "data": {
      "text/html": [
       "<pre>| 3       | 991.087ms    | 0.82921           | 0.862292              | 0.248708    |</pre>"
      ],
      "text/plain": [
       "| 3       | 991.087ms    | 0.82921           | 0.862292              | 0.248708    |"
      ]
     },
     "metadata": {},
     "output_type": "display_data"
    },
    {
     "data": {
      "text/html": [
       "<pre>| 4       | 1.30s        | 0.80972           | 0.840535              | 0.248708    |</pre>"
      ],
      "text/plain": [
       "| 4       | 1.30s        | 0.80972           | 0.840535              | 0.248708    |"
      ]
     },
     "metadata": {},
     "output_type": "display_data"
    },
    {
     "data": {
      "text/html": [
       "<pre>| 5       | 1.60s        | 0.780342          | 0.812675              | 0.248708    |</pre>"
      ],
      "text/plain": [
       "| 5       | 1.60s        | 0.780342          | 0.812675              | 0.248708    |"
      ]
     },
     "metadata": {},
     "output_type": "display_data"
    },
    {
     "data": {
      "text/html": [
       "<pre>| 6       | 1.90s        | 0.759724          | 0.791798              | 0.248708    |</pre>"
      ],
      "text/plain": [
       "| 6       | 1.90s        | 0.759724          | 0.791798              | 0.248708    |"
      ]
     },
     "metadata": {},
     "output_type": "display_data"
    },
    {
     "data": {
      "text/html": [
       "<pre>| 10      | 3.19s        | 0.721058          | 0.746113              | 0.248708    |</pre>"
      ],
      "text/plain": [
       "| 10      | 3.19s        | 0.721058          | 0.746113              | 0.248708    |"
      ]
     },
     "metadata": {},
     "output_type": "display_data"
    },
    {
     "data": {
      "text/html": [
       "<pre>| 11      | 3.50s        | 0.718161          | 0.740751              | 0.248708    |</pre>"
      ],
      "text/plain": [
       "| 11      | 3.50s        | 0.718161          | 0.740751              | 0.248708    |"
      ]
     },
     "metadata": {},
     "output_type": "display_data"
    },
    {
     "data": {
      "text/html": [
       "<pre>| 15      | 4.89s        | 0.706389          | 0.722728              | 0.248708    |</pre>"
      ],
      "text/plain": [
       "| 15      | 4.89s        | 0.706389          | 0.722728              | 0.248708    |"
      ]
     },
     "metadata": {},
     "output_type": "display_data"
    },
    {
     "data": {
      "text/html": [
       "<pre>| 20      | 6.49s        | 0.69942           | 0.710968              | 0.248708    |</pre>"
      ],
      "text/plain": [
       "| 20      | 6.49s        | 0.69942           | 0.710968              | 0.248708    |"
      ]
     },
     "metadata": {},
     "output_type": "display_data"
    },
    {
     "data": {
      "text/html": [
       "<pre>| 25      | 8.01s        | 0.695526          | 0.7059                | 0.248708    |</pre>"
      ],
      "text/plain": [
       "| 25      | 8.01s        | 0.695526          | 0.7059                | 0.248708    |"
      ]
     },
     "metadata": {},
     "output_type": "display_data"
    },
    {
     "data": {
      "text/html": [
       "<pre>| 30      | 9.60s        | 0.68902           | 0.697257              | 0.248708    |</pre>"
      ],
      "text/plain": [
       "| 30      | 9.60s        | 0.68902           | 0.697257              | 0.248708    |"
      ]
     },
     "metadata": {},
     "output_type": "display_data"
    },
    {
     "data": {
      "text/html": [
       "<pre>| 35      | 11.19s       | 0.687903          | 0.69369               | 0.248708    |</pre>"
      ],
      "text/plain": [
       "| 35      | 11.19s       | 0.687903          | 0.69369               | 0.248708    |"
      ]
     },
     "metadata": {},
     "output_type": "display_data"
    },
    {
     "data": {
      "text/html": [
       "<pre>| 40      | 12.60s       | 0.683663          | 0.69149               | 0.248708    |</pre>"
      ],
      "text/plain": [
       "| 40      | 12.60s       | 0.683663          | 0.69149               | 0.248708    |"
      ]
     },
     "metadata": {},
     "output_type": "display_data"
    },
    {
     "data": {
      "text/html": [
       "<pre>| 45      | 14.21s       | 0.689677          | 0.693466              | 0.248708    |</pre>"
      ],
      "text/plain": [
       "| 45      | 14.21s       | 0.689677          | 0.693466              | 0.248708    |"
      ]
     },
     "metadata": {},
     "output_type": "display_data"
    },
    {
     "data": {
      "text/html": [
       "<pre>| 50      | 15.79s       | 0.720324          | 0.727701              | 0.248708    |</pre>"
      ],
      "text/plain": [
       "| 50      | 15.79s       | 0.720324          | 0.727701              | 0.248708    |"
      ]
     },
     "metadata": {},
     "output_type": "display_data"
    },
    {
     "data": {
      "text/html": [
       "<pre>+---------+--------------+-------------------+-----------------------+-------------+</pre>"
      ],
      "text/plain": [
       "+---------+--------------+-------------------+-----------------------+-------------+"
      ]
     },
     "metadata": {},
     "output_type": "display_data"
    },
    {
     "data": {
      "text/html": [
       "<pre>Optimization Complete: Maximum number of passes through the data reached.</pre>"
      ],
      "text/plain": [
       "Optimization Complete: Maximum number of passes through the data reached."
      ]
     },
     "metadata": {},
     "output_type": "display_data"
    },
    {
     "data": {
      "text/html": [
       "<pre>Computing final objective value and training RMSE.</pre>"
      ],
      "text/plain": [
       "Computing final objective value and training RMSE."
      ]
     },
     "metadata": {},
     "output_type": "display_data"
    },
    {
     "data": {
      "text/html": [
       "<pre>       Final objective value: 0.681036</pre>"
      ],
      "text/plain": [
       "       Final objective value: 0.681036"
      ]
     },
     "metadata": {},
     "output_type": "display_data"
    },
    {
     "data": {
      "text/html": [
       "<pre>       Final training RMSE: 0.700187</pre>"
      ],
      "text/plain": [
       "       Final training RMSE: 0.700187"
      ]
     },
     "metadata": {},
     "output_type": "display_data"
    },
    {
     "data": {
      "text/html": [
       "<pre>Recsys training: model = factorization_recommender</pre>"
      ],
      "text/plain": [
       "Recsys training: model = factorization_recommender"
      ]
     },
     "metadata": {},
     "output_type": "display_data"
    },
    {
     "data": {
      "text/html": [
       "<pre>Preparing data set.</pre>"
      ],
      "text/plain": [
       "Preparing data set."
      ]
     },
     "metadata": {},
     "output_type": "display_data"
    },
    {
     "data": {
      "text/html": [
       "<pre>    Data has 46254 observations with 568 users and 1584 items.</pre>"
      ],
      "text/plain": [
       "    Data has 46254 observations with 568 users and 1584 items."
      ]
     },
     "metadata": {},
     "output_type": "display_data"
    },
    {
     "data": {
      "text/html": [
       "<pre>    Data prepared in: 0.137602s</pre>"
      ],
      "text/plain": [
       "    Data prepared in: 0.137602s"
      ]
     },
     "metadata": {},
     "output_type": "display_data"
    },
    {
     "data": {
      "text/html": [
       "<pre>Training factorization_recommender for recommendations.</pre>"
      ],
      "text/plain": [
       "Training factorization_recommender for recommendations."
      ]
     },
     "metadata": {},
     "output_type": "display_data"
    },
    {
     "data": {
      "text/html": [
       "<pre>+--------------------------------+--------------------------------------------------+----------+</pre>"
      ],
      "text/plain": [
       "+--------------------------------+--------------------------------------------------+----------+"
      ]
     },
     "metadata": {},
     "output_type": "display_data"
    },
    {
     "data": {
      "text/html": [
       "<pre>| Parameter                      | Description                                      | Value    |</pre>"
      ],
      "text/plain": [
       "| Parameter                      | Description                                      | Value    |"
      ]
     },
     "metadata": {},
     "output_type": "display_data"
    },
    {
     "data": {
      "text/html": [
       "<pre>+--------------------------------+--------------------------------------------------+----------+</pre>"
      ],
      "text/plain": [
       "+--------------------------------+--------------------------------------------------+----------+"
      ]
     },
     "metadata": {},
     "output_type": "display_data"
    },
    {
     "data": {
      "text/html": [
       "<pre>| num_factors                    | Factor Dimension                                 | 8        |</pre>"
      ],
      "text/plain": [
       "| num_factors                    | Factor Dimension                                 | 8        |"
      ]
     },
     "metadata": {},
     "output_type": "display_data"
    },
    {
     "data": {
      "text/html": [
       "<pre>| regularization                 | L2 Regularization on Factors                     | 0.001    |</pre>"
      ],
      "text/plain": [
       "| regularization                 | L2 Regularization on Factors                     | 0.001    |"
      ]
     },
     "metadata": {},
     "output_type": "display_data"
    },
    {
     "data": {
      "text/html": [
       "<pre>| solver                         | Solver used for training                         | adagrad  |</pre>"
      ],
      "text/plain": [
       "| solver                         | Solver used for training                         | adagrad  |"
      ]
     },
     "metadata": {},
     "output_type": "display_data"
    },
    {
     "data": {
      "text/html": [
       "<pre>| linear_regularization          | L2 Regularization on Linear Coefficients         | 1e-10    |</pre>"
      ],
      "text/plain": [
       "| linear_regularization          | L2 Regularization on Linear Coefficients         | 1e-10    |"
      ]
     },
     "metadata": {},
     "output_type": "display_data"
    },
    {
     "data": {
      "text/html": [
       "<pre>| max_iterations                 | Maximum Number of Iterations                     | 50       |</pre>"
      ],
      "text/plain": [
       "| max_iterations                 | Maximum Number of Iterations                     | 50       |"
      ]
     },
     "metadata": {},
     "output_type": "display_data"
    },
    {
     "data": {
      "text/html": [
       "<pre>+--------------------------------+--------------------------------------------------+----------+</pre>"
      ],
      "text/plain": [
       "+--------------------------------+--------------------------------------------------+----------+"
      ]
     },
     "metadata": {},
     "output_type": "display_data"
    },
    {
     "data": {
      "text/html": [
       "<pre>  Optimizing model using SGD; tuning step size.</pre>"
      ],
      "text/plain": [
       "  Optimizing model using SGD; tuning step size."
      ]
     },
     "metadata": {},
     "output_type": "display_data"
    },
    {
     "data": {
      "text/html": [
       "<pre>  Using 10000 / 46254 points for tuning the step size.</pre>"
      ],
      "text/plain": [
       "  Using 10000 / 46254 points for tuning the step size."
      ]
     },
     "metadata": {},
     "output_type": "display_data"
    },
    {
     "data": {
      "text/html": [
       "<pre>+---------+-------------------+------------------------------------------+</pre>"
      ],
      "text/plain": [
       "+---------+-------------------+------------------------------------------+"
      ]
     },
     "metadata": {},
     "output_type": "display_data"
    },
    {
     "data": {
      "text/html": [
       "<pre>| Attempt | Initial Step Size | Estimated Objective Value                |</pre>"
      ],
      "text/plain": [
       "| Attempt | Initial Step Size | Estimated Objective Value                |"
      ]
     },
     "metadata": {},
     "output_type": "display_data"
    },
    {
     "data": {
      "text/html": [
       "<pre>+---------+-------------------+------------------------------------------+</pre>"
      ],
      "text/plain": [
       "+---------+-------------------+------------------------------------------+"
      ]
     },
     "metadata": {},
     "output_type": "display_data"
    },
    {
     "data": {
      "text/html": [
       "<pre>| 0       | 1.59173           | Not Viable                               |</pre>"
      ],
      "text/plain": [
       "| 0       | 1.59173           | Not Viable                               |"
      ]
     },
     "metadata": {},
     "output_type": "display_data"
    },
    {
     "data": {
      "text/html": [
       "<pre>| 1       | 0.397934          | 0.910729                                 |</pre>"
      ],
      "text/plain": [
       "| 1       | 0.397934          | 0.910729                                 |"
      ]
     },
     "metadata": {},
     "output_type": "display_data"
    },
    {
     "data": {
      "text/html": [
       "<pre>| 2       | 0.198967          | 0.843421                                 |</pre>"
      ],
      "text/plain": [
       "| 2       | 0.198967          | 0.843421                                 |"
      ]
     },
     "metadata": {},
     "output_type": "display_data"
    },
    {
     "data": {
      "text/html": [
       "<pre>| 3       | 0.0994834         | 0.85242                                  |</pre>"
      ],
      "text/plain": [
       "| 3       | 0.0994834         | 0.85242                                  |"
      ]
     },
     "metadata": {},
     "output_type": "display_data"
    },
    {
     "data": {
      "text/html": [
       "<pre>| 4       | 0.0497417         | 0.915849                                 |</pre>"
      ],
      "text/plain": [
       "| 4       | 0.0497417         | 0.915849                                 |"
      ]
     },
     "metadata": {},
     "output_type": "display_data"
    },
    {
     "data": {
      "text/html": [
       "<pre>| 5       | 0.0248708         | 1.00444                                  |</pre>"
      ],
      "text/plain": [
       "| 5       | 0.0248708         | 1.00444                                  |"
      ]
     },
     "metadata": {},
     "output_type": "display_data"
    },
    {
     "data": {
      "text/html": [
       "<pre>+---------+-------------------+------------------------------------------+</pre>"
      ],
      "text/plain": [
       "+---------+-------------------+------------------------------------------+"
      ]
     },
     "metadata": {},
     "output_type": "display_data"
    },
    {
     "data": {
      "text/html": [
       "<pre>| Final   | 0.198967          | 0.843421                                 |</pre>"
      ],
      "text/plain": [
       "| Final   | 0.198967          | 0.843421                                 |"
      ]
     },
     "metadata": {},
     "output_type": "display_data"
    },
    {
     "data": {
      "text/html": [
       "<pre>+---------+-------------------+------------------------------------------+</pre>"
      ],
      "text/plain": [
       "+---------+-------------------+------------------------------------------+"
      ]
     },
     "metadata": {},
     "output_type": "display_data"
    },
    {
     "data": {
      "text/html": [
       "<pre>Starting Optimization.</pre>"
      ],
      "text/plain": [
       "Starting Optimization."
      ]
     },
     "metadata": {},
     "output_type": "display_data"
    },
    {
     "data": {
      "text/html": [
       "<pre>+---------+--------------+-------------------+-----------------------+-------------+</pre>"
      ],
      "text/plain": [
       "+---------+--------------+-------------------+-----------------------+-------------+"
      ]
     },
     "metadata": {},
     "output_type": "display_data"
    },
    {
     "data": {
      "text/html": [
       "<pre>| Iter.   | Elapsed Time | Approx. Objective | Approx. Training RMSE | Step Size   |</pre>"
      ],
      "text/plain": [
       "| Iter.   | Elapsed Time | Approx. Objective | Approx. Training RMSE | Step Size   |"
      ]
     },
     "metadata": {},
     "output_type": "display_data"
    },
    {
     "data": {
      "text/html": [
       "<pre>+---------+--------------+-------------------+-----------------------+-------------+</pre>"
      ],
      "text/plain": [
       "+---------+--------------+-------------------+-----------------------+-------------+"
      ]
     },
     "metadata": {},
     "output_type": "display_data"
    },
    {
     "data": {
      "text/html": [
       "<pre>| Initial | 103us        | 1.27552           | 1.12939               |             |</pre>"
      ],
      "text/plain": [
       "| Initial | 103us        | 1.27552           | 1.12939               |             |"
      ]
     },
     "metadata": {},
     "output_type": "display_data"
    },
    {
     "data": {
      "text/html": [
       "<pre>+---------+--------------+-------------------+-----------------------+-------------+</pre>"
      ],
      "text/plain": [
       "+---------+--------------+-------------------+-----------------------+-------------+"
      ]
     },
     "metadata": {},
     "output_type": "display_data"
    },
    {
     "data": {
      "text/html": [
       "<pre>| 1       | 306.402ms    | 1.07809           | 1.01471               | 0.198967    |</pre>"
      ],
      "text/plain": [
       "| 1       | 306.402ms    | 1.07809           | 1.01471               | 0.198967    |"
      ]
     },
     "metadata": {},
     "output_type": "display_data"
    },
    {
     "data": {
      "text/html": [
       "<pre>| 2       | 603.887ms    | 0.88457           | 0.928636              | 0.198967    |</pre>"
      ],
      "text/plain": [
       "| 2       | 603.887ms    | 0.88457           | 0.928636              | 0.198967    |"
      ]
     },
     "metadata": {},
     "output_type": "display_data"
    },
    {
     "data": {
      "text/html": [
       "<pre>| 3       | 917.253ms    | 0.853199          | 0.916458              | 0.198967    |</pre>"
      ],
      "text/plain": [
       "| 3       | 917.253ms    | 0.853199          | 0.916458              | 0.198967    |"
      ]
     },
     "metadata": {},
     "output_type": "display_data"
    },
    {
     "data": {
      "text/html": [
       "<pre>| 4       | 1.21s        | 0.843962          | 0.912692              | 0.198967    |</pre>"
      ],
      "text/plain": [
       "| 4       | 1.21s        | 0.843962          | 0.912692              | 0.198967    |"
      ]
     },
     "metadata": {},
     "output_type": "display_data"
    },
    {
     "data": {
      "text/html": [
       "<pre>| 5       | 1.51s        | 0.838319          | 0.909717              | 0.198967    |</pre>"
      ],
      "text/plain": [
       "| 5       | 1.51s        | 0.838319          | 0.909717              | 0.198967    |"
      ]
     },
     "metadata": {},
     "output_type": "display_data"
    },
    {
     "data": {
      "text/html": [
       "<pre>| 6       | 1.90s        | 0.834853          | 0.907993              | 0.198967    |</pre>"
      ],
      "text/plain": [
       "| 6       | 1.90s        | 0.834853          | 0.907993              | 0.198967    |"
      ]
     },
     "metadata": {},
     "output_type": "display_data"
    },
    {
     "data": {
      "text/html": [
       "<pre>| 10      | 3.12s        | 0.826802          | 0.905089              | 0.198967    |</pre>"
      ],
      "text/plain": [
       "| 10      | 3.12s        | 0.826802          | 0.905089              | 0.198967    |"
      ]
     },
     "metadata": {},
     "output_type": "display_data"
    },
    {
     "data": {
      "text/html": [
       "<pre>| 11      | 3.50s        | 0.824672          | 0.904507              | 0.198967    |</pre>"
      ],
      "text/plain": [
       "| 11      | 3.50s        | 0.824672          | 0.904507              | 0.198967    |"
      ]
     },
     "metadata": {},
     "output_type": "display_data"
    },
    {
     "data": {
      "text/html": [
       "<pre>| 15      | 4.62s        | 0.821024          | 0.90384               | 0.198967    |</pre>"
      ],
      "text/plain": [
       "| 15      | 4.62s        | 0.821024          | 0.90384               | 0.198967    |"
      ]
     },
     "metadata": {},
     "output_type": "display_data"
    },
    {
     "data": {
      "text/html": [
       "<pre>| 20      | 6.10s        | 0.818553          | 0.903239              | 0.198967    |</pre>"
      ],
      "text/plain": [
       "| 20      | 6.10s        | 0.818553          | 0.903239              | 0.198967    |"
      ]
     },
     "metadata": {},
     "output_type": "display_data"
    },
    {
     "data": {
      "text/html": [
       "<pre>| 25      | 7.61s        | 0.817417          | 0.902682              | 0.198967    |</pre>"
      ],
      "text/plain": [
       "| 25      | 7.61s        | 0.817417          | 0.902682              | 0.198967    |"
      ]
     },
     "metadata": {},
     "output_type": "display_data"
    },
    {
     "data": {
      "text/html": [
       "<pre>| 30      | 9.11s        | 0.817045          | 0.902124              | 0.198967    |</pre>"
      ],
      "text/plain": [
       "| 30      | 9.11s        | 0.817045          | 0.902124              | 0.198967    |"
      ]
     },
     "metadata": {},
     "output_type": "display_data"
    },
    {
     "data": {
      "text/html": [
       "<pre>| 35      | 10.71s       | 0.815598          | 0.901915              | 0.198967    |</pre>"
      ],
      "text/plain": [
       "| 35      | 10.71s       | 0.815598          | 0.901915              | 0.198967    |"
      ]
     },
     "metadata": {},
     "output_type": "display_data"
    },
    {
     "data": {
      "text/html": [
       "<pre>| 40      | 12.11s       | 0.814823          | 0.901673              | 0.198967    |</pre>"
      ],
      "text/plain": [
       "| 40      | 12.11s       | 0.814823          | 0.901673              | 0.198967    |"
      ]
     },
     "metadata": {},
     "output_type": "display_data"
    },
    {
     "data": {
      "text/html": [
       "<pre>| 45      | 13.62s       | 0.814231          | 0.901296              | 0.198967    |</pre>"
      ],
      "text/plain": [
       "| 45      | 13.62s       | 0.814231          | 0.901296              | 0.198967    |"
      ]
     },
     "metadata": {},
     "output_type": "display_data"
    },
    {
     "data": {
      "text/html": [
       "<pre>| 50      | 15.20s       | 0.814331          | 0.901195              | 0.198967    |</pre>"
      ],
      "text/plain": [
       "| 50      | 15.20s       | 0.814331          | 0.901195              | 0.198967    |"
      ]
     },
     "metadata": {},
     "output_type": "display_data"
    },
    {
     "data": {
      "text/html": [
       "<pre>+---------+--------------+-------------------+-----------------------+-------------+</pre>"
      ],
      "text/plain": [
       "+---------+--------------+-------------------+-----------------------+-------------+"
      ]
     },
     "metadata": {},
     "output_type": "display_data"
    },
    {
     "data": {
      "text/html": [
       "<pre>Optimization Complete: Maximum number of passes through the data reached.</pre>"
      ],
      "text/plain": [
       "Optimization Complete: Maximum number of passes through the data reached."
      ]
     },
     "metadata": {},
     "output_type": "display_data"
    },
    {
     "data": {
      "text/html": [
       "<pre>Computing final objective value and training RMSE.</pre>"
      ],
      "text/plain": [
       "Computing final objective value and training RMSE."
      ]
     },
     "metadata": {},
     "output_type": "display_data"
    },
    {
     "data": {
      "text/html": [
       "<pre>       Final objective value: 0.809083</pre>"
      ],
      "text/plain": [
       "       Final objective value: 0.809083"
      ]
     },
     "metadata": {},
     "output_type": "display_data"
    },
    {
     "data": {
      "text/html": [
       "<pre>       Final training RMSE: 0.898278</pre>"
      ],
      "text/plain": [
       "       Final training RMSE: 0.898278"
      ]
     },
     "metadata": {},
     "output_type": "display_data"
    },
    {
     "data": {
      "text/html": [
       "<pre>Recsys training: model = factorization_recommender</pre>"
      ],
      "text/plain": [
       "Recsys training: model = factorization_recommender"
      ]
     },
     "metadata": {},
     "output_type": "display_data"
    },
    {
     "data": {
      "text/html": [
       "<pre>Preparing data set.</pre>"
      ],
      "text/plain": [
       "Preparing data set."
      ]
     },
     "metadata": {},
     "output_type": "display_data"
    },
    {
     "data": {
      "text/html": [
       "<pre>    Data has 46254 observations with 568 users and 1584 items.</pre>"
      ],
      "text/plain": [
       "    Data has 46254 observations with 568 users and 1584 items."
      ]
     },
     "metadata": {},
     "output_type": "display_data"
    },
    {
     "data": {
      "text/html": [
       "<pre>    Data prepared in: 0.1665s</pre>"
      ],
      "text/plain": [
       "    Data prepared in: 0.1665s"
      ]
     },
     "metadata": {},
     "output_type": "display_data"
    },
    {
     "data": {
      "text/html": [
       "<pre>Training factorization_recommender for recommendations.</pre>"
      ],
      "text/plain": [
       "Training factorization_recommender for recommendations."
      ]
     },
     "metadata": {},
     "output_type": "display_data"
    },
    {
     "data": {
      "text/html": [
       "<pre>+--------------------------------+--------------------------------------------------+----------+</pre>"
      ],
      "text/plain": [
       "+--------------------------------+--------------------------------------------------+----------+"
      ]
     },
     "metadata": {},
     "output_type": "display_data"
    },
    {
     "data": {
      "text/html": [
       "<pre>| Parameter                      | Description                                      | Value    |</pre>"
      ],
      "text/plain": [
       "| Parameter                      | Description                                      | Value    |"
      ]
     },
     "metadata": {},
     "output_type": "display_data"
    },
    {
     "data": {
      "text/html": [
       "<pre>+--------------------------------+--------------------------------------------------+----------+</pre>"
      ],
      "text/plain": [
       "+--------------------------------+--------------------------------------------------+----------+"
      ]
     },
     "metadata": {},
     "output_type": "display_data"
    },
    {
     "data": {
      "text/html": [
       "<pre>| num_factors                    | Factor Dimension                                 | 8        |</pre>"
      ],
      "text/plain": [
       "| num_factors                    | Factor Dimension                                 | 8        |"
      ]
     },
     "metadata": {},
     "output_type": "display_data"
    },
    {
     "data": {
      "text/html": [
       "<pre>| regularization                 | L2 Regularization on Factors                     | 0.01     |</pre>"
      ],
      "text/plain": [
       "| regularization                 | L2 Regularization on Factors                     | 0.01     |"
      ]
     },
     "metadata": {},
     "output_type": "display_data"
    },
    {
     "data": {
      "text/html": [
       "<pre>| solver                         | Solver used for training                         | adagrad  |</pre>"
      ],
      "text/plain": [
       "| solver                         | Solver used for training                         | adagrad  |"
      ]
     },
     "metadata": {},
     "output_type": "display_data"
    },
    {
     "data": {
      "text/html": [
       "<pre>| linear_regularization          | L2 Regularization on Linear Coefficients         | 1e-10    |</pre>"
      ],
      "text/plain": [
       "| linear_regularization          | L2 Regularization on Linear Coefficients         | 1e-10    |"
      ]
     },
     "metadata": {},
     "output_type": "display_data"
    },
    {
     "data": {
      "text/html": [
       "<pre>| max_iterations                 | Maximum Number of Iterations                     | 50       |</pre>"
      ],
      "text/plain": [
       "| max_iterations                 | Maximum Number of Iterations                     | 50       |"
      ]
     },
     "metadata": {},
     "output_type": "display_data"
    },
    {
     "data": {
      "text/html": [
       "<pre>+--------------------------------+--------------------------------------------------+----------+</pre>"
      ],
      "text/plain": [
       "+--------------------------------+--------------------------------------------------+----------+"
      ]
     },
     "metadata": {},
     "output_type": "display_data"
    },
    {
     "data": {
      "text/html": [
       "<pre>  Optimizing model using SGD; tuning step size.</pre>"
      ],
      "text/plain": [
       "  Optimizing model using SGD; tuning step size."
      ]
     },
     "metadata": {},
     "output_type": "display_data"
    },
    {
     "data": {
      "text/html": [
       "<pre>  Using 10000 / 46254 points for tuning the step size.</pre>"
      ],
      "text/plain": [
       "  Using 10000 / 46254 points for tuning the step size."
      ]
     },
     "metadata": {},
     "output_type": "display_data"
    },
    {
     "data": {
      "text/html": [
       "<pre>+---------+-------------------+------------------------------------------+</pre>"
      ],
      "text/plain": [
       "+---------+-------------------+------------------------------------------+"
      ]
     },
     "metadata": {},
     "output_type": "display_data"
    },
    {
     "data": {
      "text/html": [
       "<pre>| Attempt | Initial Step Size | Estimated Objective Value                |</pre>"
      ],
      "text/plain": [
       "| Attempt | Initial Step Size | Estimated Objective Value                |"
      ]
     },
     "metadata": {},
     "output_type": "display_data"
    },
    {
     "data": {
      "text/html": [
       "<pre>+---------+-------------------+------------------------------------------+</pre>"
      ],
      "text/plain": [
       "+---------+-------------------+------------------------------------------+"
      ]
     },
     "metadata": {},
     "output_type": "display_data"
    },
    {
     "data": {
      "text/html": [
       "<pre>| 0       | 0.159173          | 0.752382                                 |</pre>"
      ],
      "text/plain": [
       "| 0       | 0.159173          | 0.752382                                 |"
      ]
     },
     "metadata": {},
     "output_type": "display_data"
    },
    {
     "data": {
      "text/html": [
       "<pre>| 1       | 0.0795867         | 0.822248                                 |</pre>"
      ],
      "text/plain": [
       "| 1       | 0.0795867         | 0.822248                                 |"
      ]
     },
     "metadata": {},
     "output_type": "display_data"
    },
    {
     "data": {
      "text/html": [
       "<pre>| 2       | 0.0397934         | 0.92937                                  |</pre>"
      ],
      "text/plain": [
       "| 2       | 0.0397934         | 0.92937                                  |"
      ]
     },
     "metadata": {},
     "output_type": "display_data"
    },
    {
     "data": {
      "text/html": [
       "<pre>| 3       | 0.0198967         | 1.04996                                  |</pre>"
      ],
      "text/plain": [
       "| 3       | 0.0198967         | 1.04996                                  |"
      ]
     },
     "metadata": {},
     "output_type": "display_data"
    },
    {
     "data": {
      "text/html": [
       "<pre>+---------+-------------------+------------------------------------------+</pre>"
      ],
      "text/plain": [
       "+---------+-------------------+------------------------------------------+"
      ]
     },
     "metadata": {},
     "output_type": "display_data"
    },
    {
     "data": {
      "text/html": [
       "<pre>| Final   | 0.159173          | 0.752382                                 |</pre>"
      ],
      "text/plain": [
       "| Final   | 0.159173          | 0.752382                                 |"
      ]
     },
     "metadata": {},
     "output_type": "display_data"
    },
    {
     "data": {
      "text/html": [
       "<pre>+---------+-------------------+------------------------------------------+</pre>"
      ],
      "text/plain": [
       "+---------+-------------------+------------------------------------------+"
      ]
     },
     "metadata": {},
     "output_type": "display_data"
    },
    {
     "data": {
      "text/html": [
       "<pre>Starting Optimization.</pre>"
      ],
      "text/plain": [
       "Starting Optimization."
      ]
     },
     "metadata": {},
     "output_type": "display_data"
    },
    {
     "data": {
      "text/html": [
       "<pre>+---------+--------------+-------------------+-----------------------+-------------+</pre>"
      ],
      "text/plain": [
       "+---------+--------------+-------------------+-----------------------+-------------+"
      ]
     },
     "metadata": {},
     "output_type": "display_data"
    },
    {
     "data": {
      "text/html": [
       "<pre>| Iter.   | Elapsed Time | Approx. Objective | Approx. Training RMSE | Step Size   |</pre>"
      ],
      "text/plain": [
       "| Iter.   | Elapsed Time | Approx. Objective | Approx. Training RMSE | Step Size   |"
      ]
     },
     "metadata": {},
     "output_type": "display_data"
    },
    {
     "data": {
      "text/html": [
       "<pre>+---------+--------------+-------------------+-----------------------+-------------+</pre>"
      ],
      "text/plain": [
       "+---------+--------------+-------------------+-----------------------+-------------+"
      ]
     },
     "metadata": {},
     "output_type": "display_data"
    },
    {
     "data": {
      "text/html": [
       "<pre>| Initial | 109us        | 1.27553           | 1.12939               |             |</pre>"
      ],
      "text/plain": [
       "| Initial | 109us        | 1.27553           | 1.12939               |             |"
      ]
     },
     "metadata": {},
     "output_type": "display_data"
    },
    {
     "data": {
      "text/html": [
       "<pre>+---------+--------------+-------------------+-----------------------+-------------+</pre>"
      ],
      "text/plain": [
       "+---------+--------------+-------------------+-----------------------+-------------+"
      ]
     },
     "metadata": {},
     "output_type": "display_data"
    },
    {
     "data": {
      "text/html": [
       "<pre>| 1       | 281.93ms     | 1.00259           | 0.981744              | 0.159173    |</pre>"
      ],
      "text/plain": [
       "| 1       | 281.93ms     | 1.00259           | 0.981744              | 0.159173    |"
      ]
     },
     "metadata": {},
     "output_type": "display_data"
    },
    {
     "data": {
      "text/html": [
       "<pre>| 2       | 669.555ms    | 0.862089          | 0.928487              | 0.159173    |</pre>"
      ],
      "text/plain": [
       "| 2       | 669.555ms    | 0.862089          | 0.928487              | 0.159173    |"
      ]
     },
     "metadata": {},
     "output_type": "display_data"
    },
    {
     "data": {
      "text/html": [
       "<pre>| 3       | 1.06s        | 0.84471           | 0.919081              | 0.159173    |</pre>"
      ],
      "text/plain": [
       "| 3       | 1.06s        | 0.84471           | 0.919081              | 0.159173    |"
      ]
     },
     "metadata": {},
     "output_type": "display_data"
    },
    {
     "data": {
      "text/html": [
       "<pre>| 4       | 1.37s        | 0.836868          | 0.914805              | 0.159173    |</pre>"
      ],
      "text/plain": [
       "| 4       | 1.37s        | 0.836868          | 0.914805              | 0.159173    |"
      ]
     },
     "metadata": {},
     "output_type": "display_data"
    },
    {
     "data": {
      "text/html": [
       "<pre>| 5       | 1.57s        | 0.831845          | 0.912055              | 0.159173    |</pre>"
      ],
      "text/plain": [
       "| 5       | 1.57s        | 0.831845          | 0.912055              | 0.159173    |"
      ]
     },
     "metadata": {},
     "output_type": "display_data"
    },
    {
     "data": {
      "text/html": [
       "<pre>| 6       | 1.96s        | 0.828711          | 0.910336              | 0.159173    |</pre>"
      ],
      "text/plain": [
       "| 6       | 1.96s        | 0.828711          | 0.910336              | 0.159173    |"
      ]
     },
     "metadata": {},
     "output_type": "display_data"
    },
    {
     "data": {
      "text/html": [
       "<pre>| 10      | 3.06s        | 0.822445          | 0.906888              | 0.159173    |</pre>"
      ],
      "text/plain": [
       "| 10      | 3.06s        | 0.822445          | 0.906888              | 0.159173    |"
      ]
     },
     "metadata": {},
     "output_type": "display_data"
    },
    {
     "data": {
      "text/html": [
       "<pre>| 11      | 3.37s        | 0.821362          | 0.90629               | 0.159173    |</pre>"
      ],
      "text/plain": [
       "| 11      | 3.37s        | 0.821362          | 0.90629               | 0.159173    |"
      ]
     },
     "metadata": {},
     "output_type": "display_data"
    },
    {
     "data": {
      "text/html": [
       "<pre>| 15      | 4.68s        | 0.818872          | 0.904915              | 0.159173    |</pre>"
      ],
      "text/plain": [
       "| 15      | 4.68s        | 0.818872          | 0.904915              | 0.159173    |"
      ]
     },
     "metadata": {},
     "output_type": "display_data"
    },
    {
     "data": {
      "text/html": [
       "<pre>| 20      | 6.26s        | 0.816913          | 0.903832              | 0.159173    |</pre>"
      ],
      "text/plain": [
       "| 20      | 6.26s        | 0.816913          | 0.903832              | 0.159173    |"
      ]
     },
     "metadata": {},
     "output_type": "display_data"
    },
    {
     "data": {
      "text/html": [
       "<pre>| 25      | 7.67s        | 0.815577          | 0.903093              | 0.159173    |</pre>"
      ],
      "text/plain": [
       "| 25      | 7.67s        | 0.815577          | 0.903093              | 0.159173    |"
      ]
     },
     "metadata": {},
     "output_type": "display_data"
    },
    {
     "data": {
      "text/html": [
       "<pre>| 30      | 9.27s        | 0.814659          | 0.902585              | 0.159173    |</pre>"
      ],
      "text/plain": [
       "| 30      | 9.27s        | 0.814659          | 0.902585              | 0.159173    |"
      ]
     },
     "metadata": {},
     "output_type": "display_data"
    },
    {
     "data": {
      "text/html": [
       "<pre>| 35      | 10.87s       | 0.813941          | 0.902187              | 0.159173    |</pre>"
      ],
      "text/plain": [
       "| 35      | 10.87s       | 0.813941          | 0.902187              | 0.159173    |"
      ]
     },
     "metadata": {},
     "output_type": "display_data"
    },
    {
     "data": {
      "text/html": [
       "<pre>| 40      | 12.48s       | 0.813342          | 0.901855              | 0.159173    |</pre>"
      ],
      "text/plain": [
       "| 40      | 12.48s       | 0.813342          | 0.901855              | 0.159173    |"
      ]
     },
     "metadata": {},
     "output_type": "display_data"
    },
    {
     "data": {
      "text/html": [
       "<pre>| 45      | 13.98s       | 0.812896          | 0.901608              | 0.159173    |</pre>"
      ],
      "text/plain": [
       "| 45      | 13.98s       | 0.812896          | 0.901608              | 0.159173    |"
      ]
     },
     "metadata": {},
     "output_type": "display_data"
    },
    {
     "data": {
      "text/html": [
       "<pre>| 50      | 15.67s       | 0.812451          | 0.901361              | 0.159173    |</pre>"
      ],
      "text/plain": [
       "| 50      | 15.67s       | 0.812451          | 0.901361              | 0.159173    |"
      ]
     },
     "metadata": {},
     "output_type": "display_data"
    },
    {
     "data": {
      "text/html": [
       "<pre>+---------+--------------+-------------------+-----------------------+-------------+</pre>"
      ],
      "text/plain": [
       "+---------+--------------+-------------------+-----------------------+-------------+"
      ]
     },
     "metadata": {},
     "output_type": "display_data"
    },
    {
     "data": {
      "text/html": [
       "<pre>Optimization Complete: Maximum number of passes through the data reached.</pre>"
      ],
      "text/plain": [
       "Optimization Complete: Maximum number of passes through the data reached."
      ]
     },
     "metadata": {},
     "output_type": "display_data"
    },
    {
     "data": {
      "text/html": [
       "<pre>Computing final objective value and training RMSE.</pre>"
      ],
      "text/plain": [
       "Computing final objective value and training RMSE."
      ]
     },
     "metadata": {},
     "output_type": "display_data"
    },
    {
     "data": {
      "text/html": [
       "<pre>       Final objective value: 0.807813</pre>"
      ],
      "text/plain": [
       "       Final objective value: 0.807813"
      ]
     },
     "metadata": {},
     "output_type": "display_data"
    },
    {
     "data": {
      "text/html": [
       "<pre>       Final training RMSE: 0.898784</pre>"
      ],
      "text/plain": [
       "       Final training RMSE: 0.898784"
      ]
     },
     "metadata": {},
     "output_type": "display_data"
    },
    {
     "data": {
      "text/html": [
       "<pre>Recsys training: model = factorization_recommender</pre>"
      ],
      "text/plain": [
       "Recsys training: model = factorization_recommender"
      ]
     },
     "metadata": {},
     "output_type": "display_data"
    },
    {
     "data": {
      "text/html": [
       "<pre>Preparing data set.</pre>"
      ],
      "text/plain": [
       "Preparing data set."
      ]
     },
     "metadata": {},
     "output_type": "display_data"
    },
    {
     "data": {
      "text/html": [
       "<pre>    Data has 46254 observations with 568 users and 1584 items.</pre>"
      ],
      "text/plain": [
       "    Data has 46254 observations with 568 users and 1584 items."
      ]
     },
     "metadata": {},
     "output_type": "display_data"
    },
    {
     "data": {
      "text/html": [
       "<pre>    Data prepared in: 0.15951s</pre>"
      ],
      "text/plain": [
       "    Data prepared in: 0.15951s"
      ]
     },
     "metadata": {},
     "output_type": "display_data"
    },
    {
     "data": {
      "text/html": [
       "<pre>Training factorization_recommender for recommendations.</pre>"
      ],
      "text/plain": [
       "Training factorization_recommender for recommendations."
      ]
     },
     "metadata": {},
     "output_type": "display_data"
    },
    {
     "data": {
      "text/html": [
       "<pre>+--------------------------------+--------------------------------------------------+----------+</pre>"
      ],
      "text/plain": [
       "+--------------------------------+--------------------------------------------------+----------+"
      ]
     },
     "metadata": {},
     "output_type": "display_data"
    },
    {
     "data": {
      "text/html": [
       "<pre>| Parameter                      | Description                                      | Value    |</pre>"
      ],
      "text/plain": [
       "| Parameter                      | Description                                      | Value    |"
      ]
     },
     "metadata": {},
     "output_type": "display_data"
    },
    {
     "data": {
      "text/html": [
       "<pre>+--------------------------------+--------------------------------------------------+----------+</pre>"
      ],
      "text/plain": [
       "+--------------------------------+--------------------------------------------------+----------+"
      ]
     },
     "metadata": {},
     "output_type": "display_data"
    },
    {
     "data": {
      "text/html": [
       "<pre>| num_factors                    | Factor Dimension                                 | 8        |</pre>"
      ],
      "text/plain": [
       "| num_factors                    | Factor Dimension                                 | 8        |"
      ]
     },
     "metadata": {},
     "output_type": "display_data"
    },
    {
     "data": {
      "text/html": [
       "<pre>| regularization                 | L2 Regularization on Factors                     | 0.1      |</pre>"
      ],
      "text/plain": [
       "| regularization                 | L2 Regularization on Factors                     | 0.1      |"
      ]
     },
     "metadata": {},
     "output_type": "display_data"
    },
    {
     "data": {
      "text/html": [
       "<pre>| solver                         | Solver used for training                         | adagrad  |</pre>"
      ],
      "text/plain": [
       "| solver                         | Solver used for training                         | adagrad  |"
      ]
     },
     "metadata": {},
     "output_type": "display_data"
    },
    {
     "data": {
      "text/html": [
       "<pre>| linear_regularization          | L2 Regularization on Linear Coefficients         | 1e-10    |</pre>"
      ],
      "text/plain": [
       "| linear_regularization          | L2 Regularization on Linear Coefficients         | 1e-10    |"
      ]
     },
     "metadata": {},
     "output_type": "display_data"
    },
    {
     "data": {
      "text/html": [
       "<pre>| max_iterations                 | Maximum Number of Iterations                     | 50       |</pre>"
      ],
      "text/plain": [
       "| max_iterations                 | Maximum Number of Iterations                     | 50       |"
      ]
     },
     "metadata": {},
     "output_type": "display_data"
    },
    {
     "data": {
      "text/html": [
       "<pre>+--------------------------------+--------------------------------------------------+----------+</pre>"
      ],
      "text/plain": [
       "+--------------------------------+--------------------------------------------------+----------+"
      ]
     },
     "metadata": {},
     "output_type": "display_data"
    },
    {
     "data": {
      "text/html": [
       "<pre>  Optimizing model using SGD; tuning step size.</pre>"
      ],
      "text/plain": [
       "  Optimizing model using SGD; tuning step size."
      ]
     },
     "metadata": {},
     "output_type": "display_data"
    },
    {
     "data": {
      "text/html": [
       "<pre>  Using 10000 / 46254 points for tuning the step size.</pre>"
      ],
      "text/plain": [
       "  Using 10000 / 46254 points for tuning the step size."
      ]
     },
     "metadata": {},
     "output_type": "display_data"
    },
    {
     "data": {
      "text/html": [
       "<pre>+---------+-------------------+------------------------------------------+</pre>"
      ],
      "text/plain": [
       "+---------+-------------------+------------------------------------------+"
      ]
     },
     "metadata": {},
     "output_type": "display_data"
    },
    {
     "data": {
      "text/html": [
       "<pre>| Attempt | Initial Step Size | Estimated Objective Value                |</pre>"
      ],
      "text/plain": [
       "| Attempt | Initial Step Size | Estimated Objective Value                |"
      ]
     },
     "metadata": {},
     "output_type": "display_data"
    },
    {
     "data": {
      "text/html": [
       "<pre>+---------+-------------------+------------------------------------------+</pre>"
      ],
      "text/plain": [
       "+---------+-------------------+------------------------------------------+"
      ]
     },
     "metadata": {},
     "output_type": "display_data"
    },
    {
     "data": {
      "text/html": [
       "<pre>| 0       | 0.0159173         | 1.06582                                  |</pre>"
      ],
      "text/plain": [
       "| 0       | 0.0159173         | 1.06582                                  |"
      ]
     },
     "metadata": {},
     "output_type": "display_data"
    },
    {
     "data": {
      "text/html": [
       "<pre>| 1       | 0.00795867        | 1.14951                                  |</pre>"
      ],
      "text/plain": [
       "| 1       | 0.00795867        | 1.14951                                  |"
      ]
     },
     "metadata": {},
     "output_type": "display_data"
    },
    {
     "data": {
      "text/html": [
       "<pre>| 2       | 0.00397934        | 1.20002                                  |</pre>"
      ],
      "text/plain": [
       "| 2       | 0.00397934        | 1.20002                                  |"
      ]
     },
     "metadata": {},
     "output_type": "display_data"
    },
    {
     "data": {
      "text/html": [
       "<pre>| 3       | 0.00198967        | 1.2283                                   |</pre>"
      ],
      "text/plain": [
       "| 3       | 0.00198967        | 1.2283                                   |"
      ]
     },
     "metadata": {},
     "output_type": "display_data"
    },
    {
     "data": {
      "text/html": [
       "<pre>+---------+-------------------+------------------------------------------+</pre>"
      ],
      "text/plain": [
       "+---------+-------------------+------------------------------------------+"
      ]
     },
     "metadata": {},
     "output_type": "display_data"
    },
    {
     "data": {
      "text/html": [
       "<pre>| Final   | 0.0159173         | 1.06582                                  |</pre>"
      ],
      "text/plain": [
       "| Final   | 0.0159173         | 1.06582                                  |"
      ]
     },
     "metadata": {},
     "output_type": "display_data"
    },
    {
     "data": {
      "text/html": [
       "<pre>+---------+-------------------+------------------------------------------+</pre>"
      ],
      "text/plain": [
       "+---------+-------------------+------------------------------------------+"
      ]
     },
     "metadata": {},
     "output_type": "display_data"
    },
    {
     "data": {
      "text/html": [
       "<pre>Starting Optimization.</pre>"
      ],
      "text/plain": [
       "Starting Optimization."
      ]
     },
     "metadata": {},
     "output_type": "display_data"
    },
    {
     "data": {
      "text/html": [
       "<pre>+---------+--------------+-------------------+-----------------------+-------------+</pre>"
      ],
      "text/plain": [
       "+---------+--------------+-------------------+-----------------------+-------------+"
      ]
     },
     "metadata": {},
     "output_type": "display_data"
    },
    {
     "data": {
      "text/html": [
       "<pre>| Iter.   | Elapsed Time | Approx. Objective | Approx. Training RMSE | Step Size   |</pre>"
      ],
      "text/plain": [
       "| Iter.   | Elapsed Time | Approx. Objective | Approx. Training RMSE | Step Size   |"
      ]
     },
     "metadata": {},
     "output_type": "display_data"
    },
    {
     "data": {
      "text/html": [
       "<pre>+---------+--------------+-------------------+-----------------------+-------------+</pre>"
      ],
      "text/plain": [
       "+---------+--------------+-------------------+-----------------------+-------------+"
      ]
     },
     "metadata": {},
     "output_type": "display_data"
    },
    {
     "data": {
      "text/html": [
       "<pre>| Initial | 108us        | 1.27554           | 1.12939               |             |</pre>"
      ],
      "text/plain": [
       "| Initial | 108us        | 1.27554           | 1.12939               |             |"
      ]
     },
     "metadata": {},
     "output_type": "display_data"
    },
    {
     "data": {
      "text/html": [
       "<pre>+---------+--------------+-------------------+-----------------------+-------------+</pre>"
      ],
      "text/plain": [
       "+---------+--------------+-------------------+-----------------------+-------------+"
      ]
     },
     "metadata": {},
     "output_type": "display_data"
    },
    {
     "data": {
      "text/html": [
       "<pre>| 1       | 383.078ms    | 1.4333            | 1.19504               | 0.0159173   |</pre>"
      ],
      "text/plain": [
       "| 1       | 383.078ms    | 1.4333            | 1.19504               | 0.0159173   |"
      ]
     },
     "metadata": {},
     "output_type": "display_data"
    },
    {
     "data": {
      "text/html": [
       "<pre>| 2       | 679.213ms    | 1.09394           | 1.04587               | 0.0159173   |</pre>"
      ],
      "text/plain": [
       "| 2       | 679.213ms    | 1.09394           | 1.04587               | 0.0159173   |"
      ]
     },
     "metadata": {},
     "output_type": "display_data"
    },
    {
     "data": {
      "text/html": [
       "<pre>| 3       | 984.437ms    | 1.05451           | 1.02689               | 0.0159173   |</pre>"
      ],
      "text/plain": [
       "| 3       | 984.437ms    | 1.05451           | 1.02689               | 0.0159173   |"
      ]
     },
     "metadata": {},
     "output_type": "display_data"
    },
    {
     "data": {
      "text/html": [
       "<pre>| 4       | 1.29s        | 1.02774           | 1.01378               | 0.0159173   |</pre>"
      ],
      "text/plain": [
       "| 4       | 1.29s        | 1.02774           | 1.01378               | 0.0159173   |"
      ]
     },
     "metadata": {},
     "output_type": "display_data"
    },
    {
     "data": {
      "text/html": [
       "<pre>| 5       | 1.68s        | 1.00784           | 1.00391               | 0.0159173   |</pre>"
      ],
      "text/plain": [
       "| 5       | 1.68s        | 1.00784           | 1.00391               | 0.0159173   |"
      ]
     },
     "metadata": {},
     "output_type": "display_data"
    },
    {
     "data": {
      "text/html": [
       "<pre>| 6       | 1.98s        | 0.992062          | 0.996023              | 0.0159173   |</pre>"
      ],
      "text/plain": [
       "| 6       | 1.98s        | 0.992062          | 0.996023              | 0.0159173   |"
      ]
     },
     "metadata": {},
     "output_type": "display_data"
    },
    {
     "data": {
      "text/html": [
       "<pre>| 10      | 3.20s        | 0.951511          | 0.975454              | 0.0159173   |</pre>"
      ],
      "text/plain": [
       "| 10      | 3.20s        | 0.951511          | 0.975454              | 0.0159173   |"
      ]
     },
     "metadata": {},
     "output_type": "display_data"
    },
    {
     "data": {
      "text/html": [
       "<pre>| 11      | 3.58s        | 0.944583          | 0.971897              | 0.0159173   |</pre>"
      ],
      "text/plain": [
       "| 11      | 3.58s        | 0.944583          | 0.971897              | 0.0159173   |"
      ]
     },
     "metadata": {},
     "output_type": "display_data"
    },
    {
     "data": {
      "text/html": [
       "<pre>| 15      | 5.00s        | 0.923918          | 0.961207              | 0.0159173   |</pre>"
      ],
      "text/plain": [
       "| 15      | 5.00s        | 0.923918          | 0.961207              | 0.0159173   |"
      ]
     },
     "metadata": {},
     "output_type": "display_data"
    },
    {
     "data": {
      "text/html": [
       "<pre>| 20      | 7.20s        | 0.907196          | 0.952468              | 0.0159173   |</pre>"
      ],
      "text/plain": [
       "| 20      | 7.20s        | 0.907196          | 0.952468              | 0.0159173   |"
      ]
     },
     "metadata": {},
     "output_type": "display_data"
    },
    {
     "data": {
      "text/html": [
       "<pre>| 25      | 8.99s        | 0.895915          | 0.946528              | 0.0159173   |</pre>"
      ],
      "text/plain": [
       "| 25      | 8.99s        | 0.895915          | 0.946528              | 0.0159173   |"
      ]
     },
     "metadata": {},
     "output_type": "display_data"
    },
    {
     "data": {
      "text/html": [
       "<pre>| 30      | 10.80s       | 0.887703          | 0.94218               | 0.0159173   |</pre>"
      ],
      "text/plain": [
       "| 30      | 10.80s       | 0.887703          | 0.94218               | 0.0159173   |"
      ]
     },
     "metadata": {},
     "output_type": "display_data"
    },
    {
     "data": {
      "text/html": [
       "<pre>| 35      | 12.68s       | 0.881423          | 0.938841              | 0.0159173   |</pre>"
      ],
      "text/plain": [
       "| 35      | 12.68s       | 0.881423          | 0.938841              | 0.0159173   |"
      ]
     },
     "metadata": {},
     "output_type": "display_data"
    },
    {
     "data": {
      "text/html": [
       "<pre>| 40      | 14.58s       | 0.876401          | 0.936163              | 0.0159173   |</pre>"
      ],
      "text/plain": [
       "| 40      | 14.58s       | 0.876401          | 0.936163              | 0.0159173   |"
      ]
     },
     "metadata": {},
     "output_type": "display_data"
    },
    {
     "data": {
      "text/html": [
       "<pre>| 45      | 16.30s       | 0.872259          | 0.933948              | 0.0159173   |</pre>"
      ],
      "text/plain": [
       "| 45      | 16.30s       | 0.872259          | 0.933948              | 0.0159173   |"
      ]
     },
     "metadata": {},
     "output_type": "display_data"
    },
    {
     "data": {
      "text/html": [
       "<pre>| 50      | 18.00s       | 0.868782          | 0.932085              | 0.0159173   |</pre>"
      ],
      "text/plain": [
       "| 50      | 18.00s       | 0.868782          | 0.932085              | 0.0159173   |"
      ]
     },
     "metadata": {},
     "output_type": "display_data"
    },
    {
     "data": {
      "text/html": [
       "<pre>+---------+--------------+-------------------+-----------------------+-------------+</pre>"
      ],
      "text/plain": [
       "+---------+--------------+-------------------+-----------------------+-------------+"
      ]
     },
     "metadata": {},
     "output_type": "display_data"
    },
    {
     "data": {
      "text/html": [
       "<pre>Optimization Complete: Maximum number of passes through the data reached.</pre>"
      ],
      "text/plain": [
       "Optimization Complete: Maximum number of passes through the data reached."
      ]
     },
     "metadata": {},
     "output_type": "display_data"
    },
    {
     "data": {
      "text/html": [
       "<pre>Computing final objective value and training RMSE.</pre>"
      ],
      "text/plain": [
       "Computing final objective value and training RMSE."
      ]
     },
     "metadata": {},
     "output_type": "display_data"
    },
    {
     "data": {
      "text/html": [
       "<pre>       Final objective value: 0.867961</pre>"
      ],
      "text/plain": [
       "       Final objective value: 0.867961"
      ]
     },
     "metadata": {},
     "output_type": "display_data"
    },
    {
     "data": {
      "text/html": [
       "<pre>       Final training RMSE: 0.931644</pre>"
      ],
      "text/plain": [
       "       Final training RMSE: 0.931644"
      ]
     },
     "metadata": {},
     "output_type": "display_data"
    }
   ],
   "source": [
    "evaluations = []\n",
    "regularization_terms = [10**-5,10**-4,10**-3,10**-2,10**-1]\n",
    "best_regularization_term=0\n",
    "best_RMSE = np.inf\n",
    "for regularization_term in regularization_terms:\n",
    "    factorization_recommender = gl.recommender.factorization_recommender.create(sf_train, \\\n",
    "                                                                                user_id='user_id', \\\n",
    "                                                                                item_id='item_id', \\\n",
    "                                                                                target='rating', \\\n",
    "                                                                                regularization=regularization_term, \\\n",
    "                                                                                random_seed=42)\n",
    "    evaluation = factorization_recommender.evaluate_rmse(sf_validate,'rating')\n",
    "    evaluations.append(evaluation['rmse_overall'])\n",
    "    if evaluation['rmse_overall'] < best_RMSE:\n",
    "        best_RMSE = evaluation['rmse_overall']\n",
    "        best_regularization_term = regularization_term\n"
   ]
  },
  {
   "cell_type": "code",
   "execution_count": 13,
   "metadata": {},
   "outputs": [
    {
     "data": {
      "image/png": "[encoded data removed]",
      "text/plain": [
       "<matplotlib.figure.Figure at 0x7fee100ec810>"
      ]
     },
     "metadata": {
      "image/png": {
       "height": 356,
       "width": 542
      }
     },
     "output_type": "display_data"
    },
    {
     "name": "stdout",
     "output_type": "stream",
     "text": [
      "Best Regularization Term 0.01\n",
      "Best Validation RMSE Achieved 0.932891060097\n"
     ]
    }
   ],
   "source": [
    "x = [1,2,3,4,5]\n",
    "my_xticks = [\"10^-5\",\"10^-4\",\"10^-3\",\"10^-2\",\"10^-1\"]\n",
    "plt.xticks(x, my_xticks)\n",
    "plt.plot(x,evaluations)\n",
    "plt.show()\n",
    "print \"Best Regularization Term\", best_regularization_term\n",
    "print \"Best Validation RMSE Achieved\", best_RMSE"
   ]
  },
  {
   "cell_type": "code",
   "execution_count": 14,
   "metadata": {},
   "outputs": [
    {
     "data": {
      "text/html": [
       "<pre>Recsys training: model = factorization_recommender</pre>"
      ],
      "text/plain": [
       "Recsys training: model = factorization_recommender"
      ]
     },
     "metadata": {},
     "output_type": "display_data"
    },
    {
     "data": {
      "text/html": [
       "<pre>Preparing data set.</pre>"
      ],
      "text/plain": [
       "Preparing data set."
      ]
     },
     "metadata": {},
     "output_type": "display_data"
    },
    {
     "data": {
      "text/html": [
       "<pre>    Data has 46254 observations with 568 users and 1584 items.</pre>"
      ],
      "text/plain": [
       "    Data has 46254 observations with 568 users and 1584 items."
      ]
     },
     "metadata": {},
     "output_type": "display_data"
    },
    {
     "data": {
      "text/html": [
       "<pre>    Data prepared in: 0.173275s</pre>"
      ],
      "text/plain": [
       "    Data prepared in: 0.173275s"
      ]
     },
     "metadata": {},
     "output_type": "display_data"
    },
    {
     "data": {
      "text/html": [
       "<pre>Training factorization_recommender for recommendations.</pre>"
      ],
      "text/plain": [
       "Training factorization_recommender for recommendations."
      ]
     },
     "metadata": {},
     "output_type": "display_data"
    },
    {
     "data": {
      "text/html": [
       "<pre>+--------------------------------+--------------------------------------------------+----------+</pre>"
      ],
      "text/plain": [
       "+--------------------------------+--------------------------------------------------+----------+"
      ]
     },
     "metadata": {},
     "output_type": "display_data"
    },
    {
     "data": {
      "text/html": [
       "<pre>| Parameter                      | Description                                      | Value    |</pre>"
      ],
      "text/plain": [
       "| Parameter                      | Description                                      | Value    |"
      ]
     },
     "metadata": {},
     "output_type": "display_data"
    },
    {
     "data": {
      "text/html": [
       "<pre>+--------------------------------+--------------------------------------------------+----------+</pre>"
      ],
      "text/plain": [
       "+--------------------------------+--------------------------------------------------+----------+"
      ]
     },
     "metadata": {},
     "output_type": "display_data"
    },
    {
     "data": {
      "text/html": [
       "<pre>| num_factors                    | Factor Dimension                                 | 8        |</pre>"
      ],
      "text/plain": [
       "| num_factors                    | Factor Dimension                                 | 8        |"
      ]
     },
     "metadata": {},
     "output_type": "display_data"
    },
    {
     "data": {
      "text/html": [
       "<pre>| regularization                 | L2 Regularization on Factors                     | 0.01     |</pre>"
      ],
      "text/plain": [
       "| regularization                 | L2 Regularization on Factors                     | 0.01     |"
      ]
     },
     "metadata": {},
     "output_type": "display_data"
    },
    {
     "data": {
      "text/html": [
       "<pre>| solver                         | Solver used for training                         | adagrad  |</pre>"
      ],
      "text/plain": [
       "| solver                         | Solver used for training                         | adagrad  |"
      ]
     },
     "metadata": {},
     "output_type": "display_data"
    },
    {
     "data": {
      "text/html": [
       "<pre>| linear_regularization          | L2 Regularization on Linear Coefficients         | 1e-10    |</pre>"
      ],
      "text/plain": [
       "| linear_regularization          | L2 Regularization on Linear Coefficients         | 1e-10    |"
      ]
     },
     "metadata": {},
     "output_type": "display_data"
    },
    {
     "data": {
      "text/html": [
       "<pre>| max_iterations                 | Maximum Number of Iterations                     | 50       |</pre>"
      ],
      "text/plain": [
       "| max_iterations                 | Maximum Number of Iterations                     | 50       |"
      ]
     },
     "metadata": {},
     "output_type": "display_data"
    },
    {
     "data": {
      "text/html": [
       "<pre>+--------------------------------+--------------------------------------------------+----------+</pre>"
      ],
      "text/plain": [
       "+--------------------------------+--------------------------------------------------+----------+"
      ]
     },
     "metadata": {},
     "output_type": "display_data"
    },
    {
     "data": {
      "text/html": [
       "<pre>  Optimizing model using SGD; tuning step size.</pre>"
      ],
      "text/plain": [
       "  Optimizing model using SGD; tuning step size."
      ]
     },
     "metadata": {},
     "output_type": "display_data"
    },
    {
     "data": {
      "text/html": [
       "<pre>  Using 10000 / 46254 points for tuning the step size.</pre>"
      ],
      "text/plain": [
       "  Using 10000 / 46254 points for tuning the step size."
      ]
     },
     "metadata": {},
     "output_type": "display_data"
    },
    {
     "data": {
      "text/html": [
       "<pre>+---------+-------------------+------------------------------------------+</pre>"
      ],
      "text/plain": [
       "+---------+-------------------+------------------------------------------+"
      ]
     },
     "metadata": {},
     "output_type": "display_data"
    },
    {
     "data": {
      "text/html": [
       "<pre>| Attempt | Initial Step Size | Estimated Objective Value                |</pre>"
      ],
      "text/plain": [
       "| Attempt | Initial Step Size | Estimated Objective Value                |"
      ]
     },
     "metadata": {},
     "output_type": "display_data"
    },
    {
     "data": {
      "text/html": [
       "<pre>+---------+-------------------+------------------------------------------+</pre>"
      ],
      "text/plain": [
       "+---------+-------------------+------------------------------------------+"
      ]
     },
     "metadata": {},
     "output_type": "display_data"
    },
    {
     "data": {
      "text/html": [
       "<pre>| 0       | 0.159173          | 0.742649                                 |</pre>"
      ],
      "text/plain": [
       "| 0       | 0.159173          | 0.742649                                 |"
      ]
     },
     "metadata": {},
     "output_type": "display_data"
    },
    {
     "data": {
      "text/html": [
       "<pre>| 1       | 0.0795867         | 0.807664                                 |</pre>"
      ],
      "text/plain": [
       "| 1       | 0.0795867         | 0.807664                                 |"
      ]
     },
     "metadata": {},
     "output_type": "display_data"
    },
    {
     "data": {
      "text/html": [
       "<pre>| 2       | 0.0397934         | 0.911116                                 |</pre>"
      ],
      "text/plain": [
       "| 2       | 0.0397934         | 0.911116                                 |"
      ]
     },
     "metadata": {},
     "output_type": "display_data"
    },
    {
     "data": {
      "text/html": [
       "<pre>| 3       | 0.0198967         | 1.02927                                  |</pre>"
      ],
      "text/plain": [
       "| 3       | 0.0198967         | 1.02927                                  |"
      ]
     },
     "metadata": {},
     "output_type": "display_data"
    },
    {
     "data": {
      "text/html": [
       "<pre>+---------+-------------------+------------------------------------------+</pre>"
      ],
      "text/plain": [
       "+---------+-------------------+------------------------------------------+"
      ]
     },
     "metadata": {},
     "output_type": "display_data"
    },
    {
     "data": {
      "text/html": [
       "<pre>| Final   | 0.159173          | 0.742649                                 |</pre>"
      ],
      "text/plain": [
       "| Final   | 0.159173          | 0.742649                                 |"
      ]
     },
     "metadata": {},
     "output_type": "display_data"
    },
    {
     "data": {
      "text/html": [
       "<pre>+---------+-------------------+------------------------------------------+</pre>"
      ],
      "text/plain": [
       "+---------+-------------------+------------------------------------------+"
      ]
     },
     "metadata": {},
     "output_type": "display_data"
    },
    {
     "data": {
      "text/html": [
       "<pre>Starting Optimization.</pre>"
      ],
      "text/plain": [
       "Starting Optimization."
      ]
     },
     "metadata": {},
     "output_type": "display_data"
    },
    {
     "data": {
      "text/html": [
       "<pre>+---------+--------------+-------------------+-----------------------+-------------+</pre>"
      ],
      "text/plain": [
       "+---------+--------------+-------------------+-----------------------+-------------+"
      ]
     },
     "metadata": {},
     "output_type": "display_data"
    },
    {
     "data": {
      "text/html": [
       "<pre>| Iter.   | Elapsed Time | Approx. Objective | Approx. Training RMSE | Step Size   |</pre>"
      ],
      "text/plain": [
       "| Iter.   | Elapsed Time | Approx. Objective | Approx. Training RMSE | Step Size   |"
      ]
     },
     "metadata": {},
     "output_type": "display_data"
    },
    {
     "data": {
      "text/html": [
       "<pre>+---------+--------------+-------------------+-----------------------+-------------+</pre>"
      ],
      "text/plain": [
       "+---------+--------------+-------------------+-----------------------+-------------+"
      ]
     },
     "metadata": {},
     "output_type": "display_data"
    },
    {
     "data": {
      "text/html": [
       "<pre>| Initial | 142us        | 1.27553           | 1.1294                |             |</pre>"
      ],
      "text/plain": [
       "| Initial | 142us        | 1.27553           | 1.1294                |             |"
      ]
     },
     "metadata": {},
     "output_type": "display_data"
    },
    {
     "data": {
      "text/html": [
       "<pre>+---------+--------------+-------------------+-----------------------+-------------+</pre>"
      ],
      "text/plain": [
       "+---------+--------------+-------------------+-----------------------+-------------+"
      ]
     },
     "metadata": {},
     "output_type": "display_data"
    },
    {
     "data": {
      "text/html": [
       "<pre>| 1       | 394.277ms    | 0.996897          | 0.98089               | 0.159173    |</pre>"
      ],
      "text/plain": [
       "| 1       | 394.277ms    | 0.996897          | 0.98089               | 0.159173    |"
      ]
     },
     "metadata": {},
     "output_type": "display_data"
    },
    {
     "data": {
      "text/html": [
       "<pre>| 2       | 797.552ms    | 0.862297          | 0.928599              | 0.159173    |</pre>"
      ],
      "text/plain": [
       "| 2       | 797.552ms    | 0.862297          | 0.928599              | 0.159173    |"
      ]
     },
     "metadata": {},
     "output_type": "display_data"
    },
    {
     "data": {
      "text/html": [
       "<pre>| 3       | 1.20s        | 0.844832          | 0.919147              | 0.159173    |</pre>"
      ],
      "text/plain": [
       "| 3       | 1.20s        | 0.844832          | 0.919147              | 0.159173    |"
      ]
     },
     "metadata": {},
     "output_type": "display_data"
    },
    {
     "data": {
      "text/html": [
       "<pre>| 4       | 1.60s        | 0.83679           | 0.914762              | 0.159173    |</pre>"
      ],
      "text/plain": [
       "| 4       | 1.60s        | 0.83679           | 0.914762              | 0.159173    |"
      ]
     },
     "metadata": {},
     "output_type": "display_data"
    },
    {
     "data": {
      "text/html": [
       "<pre>| 5       | 1.81s        | 0.832098          | 0.912194              | 0.159173    |</pre>"
      ],
      "text/plain": [
       "| 5       | 1.81s        | 0.832098          | 0.912194              | 0.159173    |"
      ]
     },
     "metadata": {},
     "output_type": "display_data"
    },
    {
     "data": {
      "text/html": [
       "<pre>| 6       | 2.20s        | 0.828687          | 0.910323              | 0.159173    |</pre>"
      ],
      "text/plain": [
       "| 6       | 2.20s        | 0.828687          | 0.910323              | 0.159173    |"
      ]
     },
     "metadata": {},
     "output_type": "display_data"
    },
    {
     "data": {
      "text/html": [
       "<pre>| 10      | 3.80s        | 0.822475          | 0.906904              | 0.159173    |</pre>"
      ],
      "text/plain": [
       "| 10      | 3.80s        | 0.822475          | 0.906904              | 0.159173    |"
      ]
     },
     "metadata": {},
     "output_type": "display_data"
    },
    {
     "data": {
      "text/html": [
       "<pre>| 11      | 4.09s        | 0.821521          | 0.906378              | 0.159173    |</pre>"
      ],
      "text/plain": [
       "| 11      | 4.09s        | 0.821521          | 0.906378              | 0.159173    |"
      ]
     },
     "metadata": {},
     "output_type": "display_data"
    },
    {
     "data": {
      "text/html": [
       "<pre>| 15      | 5.60s        | 0.818831          | 0.904893              | 0.159173    |</pre>"
      ],
      "text/plain": [
       "| 15      | 5.60s        | 0.818831          | 0.904893              | 0.159173    |"
      ]
     },
     "metadata": {},
     "output_type": "display_data"
    },
    {
     "data": {
      "text/html": [
       "<pre>| 20      | 7.12s        | 0.816937          | 0.903845              | 0.159173    |</pre>"
      ],
      "text/plain": [
       "| 20      | 7.12s        | 0.816937          | 0.903845              | 0.159173    |"
      ]
     },
     "metadata": {},
     "output_type": "display_data"
    },
    {
     "data": {
      "text/html": [
       "<pre>| 25      | 8.60s        | 0.815613          | 0.903113              | 0.159173    |</pre>"
      ],
      "text/plain": [
       "| 25      | 8.60s        | 0.815613          | 0.903113              | 0.159173    |"
      ]
     },
     "metadata": {},
     "output_type": "display_data"
    },
    {
     "data": {
      "text/html": [
       "<pre>| 30      | 10.39s       | 0.81465           | 0.90258               | 0.159173    |</pre>"
      ],
      "text/plain": [
       "| 30      | 10.39s       | 0.81465           | 0.90258               | 0.159173    |"
      ]
     },
     "metadata": {},
     "output_type": "display_data"
    },
    {
     "data": {
      "text/html": [
       "<pre>| 35      | 12.30s       | 0.813869          | 0.902147              | 0.159173    |</pre>"
      ],
      "text/plain": [
       "| 35      | 12.30s       | 0.813869          | 0.902147              | 0.159173    |"
      ]
     },
     "metadata": {},
     "output_type": "display_data"
    },
    {
     "data": {
      "text/html": [
       "<pre>| 40      | 14.30s       | 0.813429          | 0.901903              | 0.159173    |</pre>"
      ],
      "text/plain": [
       "| 40      | 14.30s       | 0.813429          | 0.901903              | 0.159173    |"
      ]
     },
     "metadata": {},
     "output_type": "display_data"
    },
    {
     "data": {
      "text/html": [
       "<pre>| 45      | 16.01s       | 0.81296           | 0.901643              | 0.159173    |</pre>"
      ],
      "text/plain": [
       "| 45      | 16.01s       | 0.81296           | 0.901643              | 0.159173    |"
      ]
     },
     "metadata": {},
     "output_type": "display_data"
    },
    {
     "data": {
      "text/html": [
       "<pre>| 50      | 18.10s       | 0.812517          | 0.901397              | 0.159173    |</pre>"
      ],
      "text/plain": [
       "| 50      | 18.10s       | 0.812517          | 0.901397              | 0.159173    |"
      ]
     },
     "metadata": {},
     "output_type": "display_data"
    },
    {
     "data": {
      "text/html": [
       "<pre>+---------+--------------+-------------------+-----------------------+-------------+</pre>"
      ],
      "text/plain": [
       "+---------+--------------+-------------------+-----------------------+-------------+"
      ]
     },
     "metadata": {},
     "output_type": "display_data"
    },
    {
     "data": {
      "text/html": [
       "<pre>Optimization Complete: Maximum number of passes through the data reached.</pre>"
      ],
      "text/plain": [
       "Optimization Complete: Maximum number of passes through the data reached."
      ]
     },
     "metadata": {},
     "output_type": "display_data"
    },
    {
     "data": {
      "text/html": [
       "<pre>Computing final objective value and training RMSE.</pre>"
      ],
      "text/plain": [
       "Computing final objective value and training RMSE."
      ]
     },
     "metadata": {},
     "output_type": "display_data"
    },
    {
     "data": {
      "text/html": [
       "<pre>       Final objective value: 0.807769</pre>"
      ],
      "text/plain": [
       "       Final objective value: 0.807769"
      ]
     },
     "metadata": {},
     "output_type": "display_data"
    },
    {
     "data": {
      "text/html": [
       "<pre>       Final training RMSE: 0.89876</pre>"
      ],
      "text/plain": [
       "       Final training RMSE: 0.89876"
      ]
     },
     "metadata": {},
     "output_type": "display_data"
    },
    {
     "name": "stdout",
     "output_type": "stream",
     "text": [
      "Test RMSE on best model 0.939222087415\n"
     ]
    }
   ],
   "source": [
    "factorization_recommender = gl.recommender.factorization_recommender.create(sf_train, \\\n",
    "                                                                            user_id='user_id', \\\n",
    "                                                                            item_id='item_id', \\\n",
    "                                                                            target='rating', \\\n",
    "                                                                            regularization=best_regularization_term, \\\n",
    "                                                                            random_seed=42)\n",
    "\n",
    "print \"Test RMSE on best model\", factorization_recommender.evaluate_rmse(sf_test,'rating')['rmse_overall']"
   ]
  },
  {
   "cell_type": "markdown",
   "metadata": {},
   "source": [
    "## Item-Item Similarity Recommender\n",
    "\n",
    "Item Similarity recommenders can use the \"0/1\" ratings model to train the algorithms (where 0 means\n",
    "the item was not rated by the user and 1 means it was). No other information is used. For these types of\n",
    "recommenders, a ranked list of items **recommended** for each user is made available as the output, based\n",
    "on \"similar\" items. Instead of RMSE, a Precision/Recall metric can be used to evaluate the accuracy of the\n",
    "model.\n",
    "\n",
    "*graphlab.recommender.item_similarity_recommender.create*\n",
    ">Create a recommender that uses item-item similarities based on users in common."
   ]
  },
  {
   "cell_type": "code",
   "execution_count": 15,
   "metadata": {},
   "outputs": [
    {
     "data": {
      "text/html": [
       "<pre>Recsys training: model = item_similarity</pre>"
      ],
      "text/plain": [
       "Recsys training: model = item_similarity"
      ]
     },
     "metadata": {},
     "output_type": "display_data"
    },
    {
     "data": {
      "text/html": [
       "<pre>Warning: Ignoring columns timestamp;</pre>"
      ],
      "text/plain": [
       "Warning: Ignoring columns timestamp;"
      ]
     },
     "metadata": {},
     "output_type": "display_data"
    },
    {
     "data": {
      "text/html": [
       "<pre>    To use these columns in scoring predictions, use a model that allows the use of additional features.</pre>"
      ],
      "text/plain": [
       "    To use these columns in scoring predictions, use a model that allows the use of additional features."
      ]
     },
     "metadata": {},
     "output_type": "display_data"
    },
    {
     "data": {
      "text/html": [
       "<pre>Preparing data set.</pre>"
      ],
      "text/plain": [
       "Preparing data set."
      ]
     },
     "metadata": {},
     "output_type": "display_data"
    },
    {
     "data": {
      "text/html": [
       "<pre>    Data has 46254 observations with 568 users and 1584 items.</pre>"
      ],
      "text/plain": [
       "    Data has 46254 observations with 568 users and 1584 items."
      ]
     },
     "metadata": {},
     "output_type": "display_data"
    },
    {
     "data": {
      "text/html": [
       "<pre>    Data prepared in: 0.114913s</pre>"
      ],
      "text/plain": [
       "    Data prepared in: 0.114913s"
      ]
     },
     "metadata": {},
     "output_type": "display_data"
    },
    {
     "data": {
      "text/html": [
       "<pre>Training model from provided data.</pre>"
      ],
      "text/plain": [
       "Training model from provided data."
      ]
     },
     "metadata": {},
     "output_type": "display_data"
    },
    {
     "data": {
      "text/html": [
       "<pre>Gathering per-item and per-user statistics.</pre>"
      ],
      "text/plain": [
       "Gathering per-item and per-user statistics."
      ]
     },
     "metadata": {},
     "output_type": "display_data"
    },
    {
     "data": {
      "text/html": [
       "<pre>+--------------------------------+------------+</pre>"
      ],
      "text/plain": [
       "+--------------------------------+------------+"
      ]
     },
     "metadata": {},
     "output_type": "display_data"
    },
    {
     "data": {
      "text/html": [
       "<pre>| Elapsed Time (Item Statistics) | % Complete |</pre>"
      ],
      "text/plain": [
       "| Elapsed Time (Item Statistics) | % Complete |"
      ]
     },
     "metadata": {},
     "output_type": "display_data"
    },
    {
     "data": {
      "text/html": [
       "<pre>+--------------------------------+------------+</pre>"
      ],
      "text/plain": [
       "+--------------------------------+------------+"
      ]
     },
     "metadata": {},
     "output_type": "display_data"
    },
    {
     "data": {
      "text/html": [
       "<pre>| 4.164ms                        | 100        |</pre>"
      ],
      "text/plain": [
       "| 4.164ms                        | 100        |"
      ]
     },
     "metadata": {},
     "output_type": "display_data"
    },
    {
     "data": {
      "text/html": [
       "<pre>+--------------------------------+------------+</pre>"
      ],
      "text/plain": [
       "+--------------------------------+------------+"
      ]
     },
     "metadata": {},
     "output_type": "display_data"
    },
    {
     "data": {
      "text/html": [
       "<pre>Setting up lookup tables.</pre>"
      ],
      "text/plain": [
       "Setting up lookup tables."
      ]
     },
     "metadata": {},
     "output_type": "display_data"
    },
    {
     "data": {
      "text/html": [
       "<pre>Processing data in one pass using dense lookup tables.</pre>"
      ],
      "text/plain": [
       "Processing data in one pass using dense lookup tables."
      ]
     },
     "metadata": {},
     "output_type": "display_data"
    },
    {
     "data": {
      "text/html": [
       "<pre>+-------------------------------------+------------------+-----------------+</pre>"
      ],
      "text/plain": [
       "+-------------------------------------+------------------+-----------------+"
      ]
     },
     "metadata": {},
     "output_type": "display_data"
    },
    {
     "data": {
      "text/html": [
       "<pre>| Elapsed Time (Constructing Lookups) | Total % Complete | Items Processed |</pre>"
      ],
      "text/plain": [
       "| Elapsed Time (Constructing Lookups) | Total % Complete | Items Processed |"
      ]
     },
     "metadata": {},
     "output_type": "display_data"
    },
    {
     "data": {
      "text/html": [
       "<pre>+-------------------------------------+------------------+-----------------+</pre>"
      ],
      "text/plain": [
       "+-------------------------------------+------------------+-----------------+"
      ]
     },
     "metadata": {},
     "output_type": "display_data"
    },
    {
     "data": {
      "text/html": [
       "<pre>| 7.304ms                             | 0                | 2               |</pre>"
      ],
      "text/plain": [
       "| 7.304ms                             | 0                | 2               |"
      ]
     },
     "metadata": {},
     "output_type": "display_data"
    },
    {
     "data": {
      "text/html": [
       "<pre>| 266.766ms                           | 100              | 1584            |</pre>"
      ],
      "text/plain": [
       "| 266.766ms                           | 100              | 1584            |"
      ]
     },
     "metadata": {},
     "output_type": "display_data"
    },
    {
     "data": {
      "text/html": [
       "<pre>+-------------------------------------+------------------+-----------------+</pre>"
      ],
      "text/plain": [
       "+-------------------------------------+------------------+-----------------+"
      ]
     },
     "metadata": {},
     "output_type": "display_data"
    },
    {
     "data": {
      "text/html": [
       "<pre>Finalizing lookup tables.</pre>"
      ],
      "text/plain": [
       "Finalizing lookup tables."
      ]
     },
     "metadata": {},
     "output_type": "display_data"
    },
    {
     "data": {
      "text/html": [
       "<pre>Generating candidate set for working with new users.</pre>"
      ],
      "text/plain": [
       "Generating candidate set for working with new users."
      ]
     },
     "metadata": {},
     "output_type": "display_data"
    },
    {
     "data": {
      "text/html": [
       "<pre>Finished training in 0.280779s</pre>"
      ],
      "text/plain": [
       "Finished training in 0.280779s"
      ]
     },
     "metadata": {},
     "output_type": "display_data"
    },
    {
     "name": "stdout",
     "output_type": "stream",
     "text": [
      "Test RMSE on model 3.67010731559\n"
     ]
    }
   ],
   "source": [
    "item_similarity_recommender = gl.recommender.item_similarity_recommender.create(sf_train, \\\n",
    "                                                                                user_id='user_id', \\\n",
    "                                                                                item_id='item_id', \\\n",
    "                                                                                target='rating')\n",
    "                                                                                \n",
    "print \"Test RMSE on model\", item_similarity_recommender.evaluate_rmse(sf_test,'rating')['rmse_overall']"
   ]
  },
  {
   "cell_type": "markdown",
   "metadata": {},
   "source": [
    "# Top K Recommendations\n",
    "\n",
    "Based on scores assigned to User-Item pairs, each recommender algorithm makes available functions that\n",
    "will provide a sorted list of top-K items most highly recommended for each user (from among those items\n",
    "not already rated by the user).\n",
    "\n",
    "Here we can calculate the top k recommendations for each user. We calculate the top 5 for each of the different models and print the Collaborative Filtering model to give you an idea of what these recommendations look like."
   ]
  },
  {
   "cell_type": "code",
   "execution_count": 16,
   "metadata": {},
   "outputs": [
    {
     "name": "stdout",
     "output_type": "stream",
     "text": [
      "+---------+---------+---------------+------+\n",
      "| user_id | item_id |     score     | rank |\n",
      "+---------+---------+---------------+------+\n",
      "|   186   |   1449  | 4.76939079656 |  1   |\n",
      "|   186   |   320   | 4.60472509755 |  2   |\n",
      "|   186   |   483   | 4.60426518811 |  3   |\n",
      "|   186   |   408   | 4.57059178247 |  4   |\n",
      "|   186   |   318   | 4.55248341455 |  5   |\n",
      "|   253   |   1449  | 5.05754742517 |  1   |\n",
      "|   253   |   320   | 4.89288172616 |  2   |\n",
      "|   253   |   483   | 4.89242181672 |  3   |\n",
      "|   253   |   408   | 4.85874841108 |  4   |\n",
      "|   253   |   169   | 4.79626366986 |  5   |\n",
      "+---------+---------+---------------+------+\n",
      "[2840 rows x 4 columns]\n",
      "Note: Only the head of the SFrame is printed.\n",
      "You can use print_rows(num_rows=m, num_columns=n) to print more rows and columns.\n"
     ]
    }
   ],
   "source": [
    "k=5\n",
    "popularity_top_k = popularity_recommender.recommend(k=k)\n",
    "factorization_top_k = factorization_recommender.recommend(k=k)\n",
    "item_similarity_top_k = item_similarity_recommender.recommend(k=k)\n",
    "print factorization_top_k\n"
   ]
  },
  {
   "cell_type": "markdown",
   "metadata": {},
   "source": [
    "## Evaluation: Precision/Recall comparison between the three models\n",
    "\n",
    "For the top-K recommendations based evaluation, such as in Item Similarity recommenders, we can\n",
    "evaluate using a Confusion Matrix or Precision/Recall values. Specifically, \n",
    "1. Precision: out of K top recommendations, how many of the true best K movies were recommended.\n",
    "2. Recall: out of the K top recommendations, how many were recommended.  (the statement is questionable)\n",
    "\n",
    "*graphlab.recommender.util.compare_models*\n",
    ">Compare the prediction or recommendation performance of recommender models on a common test dataset. Models that are trained to predict ratings are compared separately from models that are trained without target ratings. The ratings prediction models are compared on root-mean-squared error, and the rest are compared on precision-recall."
   ]
  },
  {
   "cell_type": "code",
   "execution_count": 17,
   "metadata": {},
   "outputs": [
    {
     "name": "stdout",
     "output_type": "stream",
     "text": [
      "PROGRESS: Evaluate model popularity_recommender\n",
      "\n",
      "Precision and recall summary statistics by cutoff\n",
      "+--------+------------------+-------------------+\n",
      "| cutoff |  mean_precision  |    mean_recall    |\n",
      "+--------+------------------+-------------------+\n",
      "|   1    | 0.00352112676056 | 4.81705114993e-05 |\n",
      "|   2    | 0.00264084507042 | 5.64360672752e-05 |\n",
      "|   3    | 0.00234741784038 | 0.000129792874787 |\n",
      "|   4    | 0.00220070422535 | 0.000154245143958 |\n",
      "|   5    | 0.00176056338028 | 0.000154245143958 |\n",
      "|   6    | 0.00176056338028 | 0.000176530756366 |\n",
      "|   7    | 0.00201207243461 |  0.00021801900208 |\n",
      "|   8    | 0.00176056338028 |  0.00021801900208 |\n",
      "|   9    | 0.00176056338028 | 0.000258962336505 |\n",
      "|   10   | 0.00193661971831 | 0.000280770687514 |\n",
      "+--------+------------------+-------------------+\n",
      "[10 rows x 3 columns]\n",
      "\n",
      "PROGRESS: Evaluate model factorization_recommender\n",
      "\n",
      "Precision and recall summary statistics by cutoff\n",
      "+--------+------------------+-------------------+\n",
      "| cutoff |  mean_precision  |    mean_recall    |\n",
      "+--------+------------------+-------------------+\n",
      "|   1    | 0.00176056338028 | 3.03545410393e-05 |\n",
      "|   2    | 0.0114436619718  | 0.000400521399222 |\n",
      "|   3    | 0.0516431924883  |  0.00354350122891 |\n",
      "|   4    |      0.0625      |  0.00553365074663 |\n",
      "|   5    | 0.0718309859155  |  0.00855605764329 |\n",
      "|   6    | 0.0701291079812  |  0.00966002555166 |\n",
      "|   7    | 0.0716800804829  |  0.0112709576723  |\n",
      "|   8    | 0.0765845070423  |  0.0137433269041  |\n",
      "|   9    | 0.0780516431925  |  0.0157558594899  |\n",
      "|   10   | 0.0825704225352  |  0.0182546860259  |\n",
      "+--------+------------------+-------------------+\n",
      "[10 rows x 3 columns]\n",
      "\n",
      "PROGRESS: Evaluate model item_similarity_recommender\n",
      "\n",
      "Precision and recall summary statistics by cutoff\n",
      "+--------+----------------+-----------------+\n",
      "| cutoff | mean_precision |   mean_recall   |\n",
      "+--------+----------------+-----------------+\n",
      "|   1    | 0.389084507042 | 0.0101208653723 |\n",
      "|   2    | 0.397887323944 | 0.0218075184501 |\n",
      "|   3    | 0.394953051643 | 0.0324604081992 |\n",
      "|   4    | 0.382482394366 | 0.0414943738802 |\n",
      "|   5    | 0.384507042254 | 0.0518582326507 |\n",
      "|   6    | 0.37529342723  | 0.0602454862683 |\n",
      "|   7    | 0.369969818913 | 0.0689142055701 |\n",
      "|   8    | 0.365977112676 | 0.0776911490171 |\n",
      "|   9    | 0.363458528951 | 0.0865858657762 |\n",
      "|   10   | 0.35985915493  | 0.0945719698995 |\n",
      "+--------+----------------+-----------------+\n",
      "[10 rows x 3 columns]\n",
      "\n"
     ]
    }
   ],
   "source": [
    "models = [popularity_recommender,factorization_recommender,item_similarity_recommender]\n",
    "model_names = ['popularity_recommender','factorization_recommender','item_similarity_recommender']\n",
    "precision_recall = gl.recommender.util.compare_models(sf_test,models,metric='precision_recall',model_names=model_names)"
   ]
  }
 ],
 "metadata": {
  "kernelspec": {
   "display_name": "Python 2 (MIT xPRO)",
   "language": "python",
   "name": "py27_mitenv"
  },
  "language_info": {
   "codemirror_mode": {
    "name": "ipython",
    "version": 2
   },
   "file_extension": ".py",
   "mimetype": "text/x-python",
   "name": "python",
   "nbconvert_exporter": "python",
   "pygments_lexer": "ipython2",
   "version": "2.7.11"
  }
 },
 "nbformat": 4,
 "nbformat_minor": 1
}
